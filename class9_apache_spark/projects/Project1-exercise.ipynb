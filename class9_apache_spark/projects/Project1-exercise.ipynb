{
 "cells": [
  {
   "cell_type": "markdown",
   "metadata": {},
   "source": [
    "# Install necessary libraries\n",
    " - Add `%%capture capt` wherever you don't want to see cell output"
   ]
  },
  {
   "cell_type": "code",
   "execution_count": 27,
   "metadata": {},
   "outputs": [],
   "source": [
    "%%capture capt \n",
    "!pip3 install requests --user\n",
    "!pip3 install pandas --user\n",
    "!pip3 install selenium --user\n",
    "!pip3 install tqdm --user \n",
    "!pip3 install json-stream --user\n",
    "!pip3 install bigjson --user\n",
    "!pip3 install seaborn --user\n",
    "!pip3 install plotly --user\n",
    "!pip3 install flashtext --user"
   ]
  },
  {
   "cell_type": "code",
   "execution_count": 5,
   "metadata": {},
   "outputs": [],
   "source": [
    "OPEN_FDA_URL = \"https://open.fda.gov/data/downloads/\"\n",
    "CATEGORY_TO_DOWNLOAD = \"Human Drug Label\" # Substitute this with values from dataset_categories list in the code\n",
    "UNZIP_AUTOMATICALLY = True # Set this to true if downloaded file needs to be unzipped automatically"
   ]
  },
  {
   "cell_type": "markdown",
   "metadata": {},
   "source": [
    "# Downloading Data\n",
    "- All data can be downloaded from links in this [json](https://api.fda.gov/download.json) that openfda publishes daily\n",
    "- So one way would be to parse this json daily, and download incremental files (sample code to parse json below)\n",
    "- For now we just went with the below approach"
   ]
  },
  {
   "cell_type": "code",
   "execution_count": 36,
   "metadata": {},
   "outputs": [
    {
     "name": "stderr",
     "output_type": "stream",
     "text": [
      "/usr/local/lib/python3.7/site-packages/requests/__init__.py:91: RequestsDependencyWarning:\n",
      "\n",
      "urllib3 (1.26.12) or chardet (3.0.4) doesn't match a supported version!\n",
      "\n"
     ]
    },
    {
     "name": "stdout",
     "output_type": "stream",
     "text": [
      "{'disclaimer': 'Do not rely on openFDA to make decisions regarding medical care. While we make every effort to ensure that data is accurate, you should assume all results are unvalidated. We may limit or otherwise restrict your access to the API in line with our Terms of Service.', 'terms': 'https://open.fda.gov/terms/', 'license': 'https://open.fda.gov/license/', 'last_updated': '2022-08-25'}\n"
     ]
    }
   ],
   "source": [
    "import requests\n",
    "r = requests.get('https://api.fda.gov/download.json')\n",
    "print(r.json()['meta'])\n",
    "\n",
    "# import urllib.request, json \n",
    "# with urllib.request.urlopen(\"http://maps.googleapis.com/maps/api/geocode/json?address=google\") as url:\n",
    "#     data = json.loads(url.read().decode())\n",
    "#     print(data['meta'])"
   ]
  },
  {
   "cell_type": "markdown",
   "metadata": {},
   "source": [
    "# Get all download URLs\n",
    " - Used Selenium and pandas libraries\n",
    " - Selenium instead of Beautiful Soup because we need to perform actions on the web page (i.e. it is not just a static html)"
   ]
  },
  {
   "cell_type": "code",
   "execution_count": null,
   "metadata": {},
   "outputs": [],
   "source": [
    "# We use selenium (instead of requests & BeautifulSoup) because of the ACCEPT dialog box that shows up when opening the page\n",
    "from selenium import webdriver\n",
    "from selenium.webdriver.common.keys import Keys\n",
    "from selenium.webdriver.common.by import By\n",
    "from selenium.webdriver.chrome.options import Options\n",
    "import pandas as pd\n",
    "\n",
    "options = Options()\n",
    "options.headless = True\n",
    "driver = webdriver.Chrome(options=options)\n",
    "\n",
    "driver.get(OPEN_FDA_URL)\n",
    "driver.find_element(By.CLASS_NAME,\"ReactModalPortal\").find_element(By.CLASS_NAME,\"button\").click()\n",
    "categories_li = driver.find_element(By.ID,\"downloads\").find_elements(By.TAG_NAME,\"li\")\n",
    "categories_li = [li for li in categories_li if len(li.find_elements(By.TAG_NAME,\"h2\"))==0] #Only lis which don't have h2 contain download links\n",
    "\n",
    "dataset_categories = [li.get_attribute(\"id\") for li in categories_li]\n",
    "dataset_categories = [ele for ele in dataset_categories if ele] # Filter out empty elements\n",
    "\n",
    "categories_li = [li for li in categories_li if li.get_attribute(\"id\") in dataset_categories] # Get only what we need\n",
    "\n",
    "i = 1\n",
    "df = pd.DataFrame(columns = [\"CATEGORY\", \"DOWNLOAD_LINKS\"])\n",
    "for li in categories_li:\n",
    "    print(\"Current Category : {0}\".format(li.get_attribute(\"id\")))\n",
    "    buttons = li.find_elements(By.TAG_NAME,\"button\")\n",
    "    if len(buttons)!=0: #i.e. show all button exists\n",
    "        driver.execute_script(\"arguments[0].click();\", buttons[0])\n",
    "        my_li = driver.find_element(By.ID,\"downloads\").find_element(By.ID,li.get_attribute(\"id\"))\n",
    "        link_lis = my_li.find_element(By.TAG_NAME,\"ul\").find_element(By.TAG_NAME,\"ul\").find_elements(By.TAG_NAME,\"li\")\n",
    "        hrefs = [li.find_element(By.TAG_NAME,\"a\").get_attribute(\"href\") for li in link_lis]\n",
    "        hrefs = [href for href in hrefs if href]\n",
    "        DOWNLOAD_LINKS =  \",\".join(hrefs)\n",
    "    else:\n",
    "        my_li = driver.find_element(By.ID,\"downloads\").find_element(By.ID,li.get_attribute(\"id\"))\n",
    "        if len(my_li.find_elements(By.TAG_NAME,\"ul\"))!=0:\n",
    "            link_lis = my_li.find_element(By.TAG_NAME,\"ul\").find_elements(By.TAG_NAME,\"li\")\n",
    "            if len(link_lis)!=0:\n",
    "                hrefs = [li.find_element(By.TAG_NAME,\"a\").get_attribute(\"href\") for li in link_lis]\n",
    "                hrefs = [href for href in hrefs if href]\n",
    "                DOWNLOAD_LINKS =  \",\".join(hrefs)\n",
    "    \n",
    "    df.loc[i] = [li.get_attribute(\"id\"), DOWNLOAD_LINKS]\n",
    "    i += 1\n",
    "\n",
    "driver.close()\n"
   ]
  },
  {
   "cell_type": "markdown",
   "metadata": {},
   "source": [
    "# Get download urls for category \n",
    "- <h3>Human Drug Label</h3>"
   ]
  },
  {
   "cell_type": "code",
   "execution_count": null,
   "metadata": {},
   "outputs": [],
   "source": [
    "category_links = df[df[\"CATEGORY\"]==CATEGORY_TO_DOWNLOAD][\"DOWNLOAD_LINKS\"].values[0].split(\",\")\n",
    "category_links"
   ]
  },
  {
   "cell_type": "markdown",
   "metadata": {},
   "source": [
    "# Download to folder in current directory"
   ]
  },
  {
   "cell_type": "code",
   "execution_count": null,
   "metadata": {},
   "outputs": [],
   "source": [
    "import pathlib\n",
    "import requests\n",
    "import os\n",
    "from tqdm import tqdm\n",
    "import zipfile\n",
    "\n",
    "def download_file(url, folder_name):\n",
    "    url_file = url.split('/')[-1]\n",
    "    actual_filename, actual_file_extension = os.path.splitext(url_file)\n",
    "\n",
    "    # Get download directory if DOWNLOAD_DIR is set, otherwise current directory\n",
    "    DOWNLOAD_DIR = os.getenv('DOWNLOAD_DIR', '.')\n",
    "    pathlib.Path(DOWNLOAD_DIR + \"/\" + folder_name + \"/downloads/\").mkdir(\n",
    "        parents=True, exist_ok=True)\n",
    "    \n",
    "    # If the file already exists, don't download it\n",
    "    if(os.path.exists(DOWNLOAD_DIR + \"/\" + folder_name + \"/downloads/\" + url_file)):\n",
    "        print(\"{file} already exists\".format(file=url_file))\n",
    "    else:\n",
    "        r = requests.get(url, stream=True)\n",
    "        print(f\"Downloading {url_file}....\")\n",
    "        with open(os.path.join(DOWNLOAD_DIR + \"/\" + folder_name + \"/downloads/\", actual_filename), 'wb') as f:\n",
    "            for chunk in r.iter_content(chunk_size=100000):\n",
    "                if chunk:  # filter out keep-alive new chunks\n",
    "                    f.write(chunk)\n",
    "        renamed_file = actual_filename + actual_file_extension\n",
    "        os.rename(os.path.join(DOWNLOAD_DIR + \"/\" + folder_name + \"/downloads/\",actual_filename),\n",
    "                  os.path.join(DOWNLOAD_DIR + \"/\" + folder_name + \"/downloads/\",renamed_file))\n",
    "    \n",
    "    if UNZIP_AUTOMATICALLY:\n",
    "        if actual_file_extension == \".zip\":\n",
    "            print(f\"Unzipping {url_file}....\")\n",
    "            with zipfile.ZipFile(os.path.join(DOWNLOAD_DIR + \"/\" + folder_name + \"/downloads/\" + url_file), 'r') as zip_ref:\n",
    "                zip_ref.extractall(DOWNLOAD_DIR + \"/\" + folder_name + \"/downloads\")\n",
    "        \n",
    "for link in tqdm(category_links):\n",
    "    download_file(link,CATEGORY_TO_DOWNLOAD)"
   ]
  },
  {
   "cell_type": "markdown",
   "metadata": {},
   "source": [
    "# Apache Spark \n",
    "- Pyspark is used as client only, actual apache spark server is started manually to keep server and client isolated and scaled/maintained separately \n",
    "- You could use the spark bundled with pyspark OR pyspark bundled with apache spark downloaded manually , however I chose to keep them separate for many convenient reasons (reach out if you have questions on this)"
   ]
  },
  {
   "cell_type": "code",
   "execution_count": null,
   "metadata": {},
   "outputs": [],
   "source": [
    "%%capture capt\n",
    "!pip3 install pyspark==3.3.0 --user"
   ]
  },
  {
   "cell_type": "code",
   "execution_count": 1,
   "metadata": {},
   "outputs": [],
   "source": [
    "from pyspark.sql import SparkSession\n",
    "from pyspark.conf import SparkConf"
   ]
  },
  {
   "cell_type": "code",
   "execution_count": 2,
   "metadata": {},
   "outputs": [
    {
     "data": {
      "text/plain": [
       "<pyspark.conf.SparkConf at 0x114ee0650>"
      ]
     },
     "execution_count": 2,
     "metadata": {},
     "output_type": "execute_result"
    }
   ],
   "source": [
    "# https://spark.apache.org/docs/latest/api/python/pyspark.html#pyspark.SparkConf\n",
    "config = SparkConf()\n",
    "config.set(\"spark.driver.memory\", \"2g\")\n",
    "config.set(\"spark.executor.memory\", \"4g\")\n",
    "\n",
    "# Because you are likely running in local mode, it is a good practice to set the number of shuffle partitions\n",
    "# to something that is going to fit local mode. By default, the value is 200, but there aren't many executors\n",
    "# on this machine, its worth reducing this to 5\n",
    "config.set(\"spark.sql.shuffle.partitions\", \"5\")\n",
    "\n",
    "# Cluster mode\n",
    "# https://spark.apache.org/docs/latest/submitting-applications.html\n",
    "config.setMaster(\"spark://192.168.0.109:7077\") # DONT SET THIS If spark is started in local cluster mode"
   ]
  },
  {
   "cell_type": "code",
   "execution_count": 3,
   "metadata": {},
   "outputs": [
    {
     "data": {
      "text/html": [
       "\n",
       "            <div>\n",
       "                <p><b>SparkSession - in-memory</b></p>\n",
       "                \n",
       "        <div>\n",
       "            <p><b>SparkContext</b></p>\n",
       "\n",
       "            <p><a href=\"http://192.168.0.109:4040\">Spark UI</a></p>\n",
       "\n",
       "            <dl>\n",
       "              <dt>Version</dt>\n",
       "                <dd><code>v3.3.0</code></dd>\n",
       "              <dt>Master</dt>\n",
       "                <dd><code>spark://192.168.0.109:7077</code></dd>\n",
       "              <dt>AppName</dt>\n",
       "                <dd><code>Flatten json</code></dd>\n",
       "            </dl>\n",
       "        </div>\n",
       "        \n",
       "            </div>\n",
       "        "
      ],
      "text/plain": [
       "<pyspark.sql.session.SparkSession at 0x1150463d0>"
      ]
     },
     "execution_count": 3,
     "metadata": {},
     "output_type": "execute_result"
    }
   ],
   "source": [
    "spark = SparkSession.builder.config(conf=config).master(\"spark://192.168.0.109:7077\").appName(\"Flatten json\").getOrCreate()\n",
    "spark"
   ]
  },
  {
   "cell_type": "markdown",
   "metadata": {},
   "source": [
    "# Big Json to jsonL (Optional Step)"
   ]
  },
  {
   "cell_type": "code",
   "execution_count": null,
   "metadata": {},
   "outputs": [],
   "source": [
    "import bigjson\n",
    "\n",
    "# Reads json file in streaming mode\n",
    "with open(DOWNLOAD_DIR + \"/\" + CATEGORY_TO_DOWNLOAD + \"/downloads/drug-label-0001-of-0011 copy.json\", 'rb') as f:\n",
    "    json_data = bigjson.load(f)\n",
    "\n",
    "    # Open output file  \n",
    "    with open('drug-label-0001-of-0011 copy.jsonl', 'w') as outfile:\n",
    "        # Iterates over input json\n",
    "        for data in json_data:\n",
    "            # Converts json to a Python dict  \n",
    "            dict_data = data.to_python()\n",
    "            \n",
    "            # Saves the output to output file\n",
    "            outfile.write(json.dumps(dict_data)+\"\\n\")"
   ]
  },
  {
   "cell_type": "markdown",
   "metadata": {},
   "source": [
    "# Read sample json"
   ]
  },
  {
   "cell_type": "code",
   "execution_count": 6,
   "metadata": {},
   "outputs": [
    {
     "name": "stdout",
     "output_type": "stream",
     "text": [
      "root\n",
      " |-- meta: struct (nullable = true)\n",
      " |    |-- disclaimer: string (nullable = true)\n",
      " |    |-- last_updated: string (nullable = true)\n",
      " |    |-- license: string (nullable = true)\n",
      " |    |-- results: struct (nullable = true)\n",
      " |    |    |-- limit: long (nullable = true)\n",
      " |    |    |-- skip: long (nullable = true)\n",
      " |    |    |-- total: long (nullable = true)\n",
      " |    |-- terms: string (nullable = true)\n",
      " |-- results: array (nullable = true)\n",
      " |    |-- element: struct (containsNull = true)\n",
      " |    |    |-- abuse: array (nullable = true)\n",
      " |    |    |    |-- element: string (containsNull = true)\n",
      " |    |    |-- abuse_table: array (nullable = true)\n",
      " |    |    |    |-- element: string (containsNull = true)\n",
      " |    |    |-- accessories: array (nullable = true)\n",
      " |    |    |    |-- element: string (containsNull = true)\n",
      " |    |    |-- active_ingredient: array (nullable = true)\n",
      " |    |    |    |-- element: string (containsNull = true)\n",
      " |    |    |-- active_ingredient_table: array (nullable = true)\n",
      " |    |    |    |-- element: string (containsNull = true)\n",
      " |    |    |-- adverse_reactions: array (nullable = true)\n",
      " |    |    |    |-- element: string (containsNull = true)\n",
      " |    |    |-- adverse_reactions_table: array (nullable = true)\n",
      " |    |    |    |-- element: string (containsNull = true)\n",
      " |    |    |-- alarms: array (nullable = true)\n",
      " |    |    |    |-- element: string (containsNull = true)\n",
      " |    |    |-- alarms_table: array (nullable = true)\n",
      " |    |    |    |-- element: string (containsNull = true)\n",
      " |    |    |-- animal_pharmacology_and_or_toxicology: array (nullable = true)\n",
      " |    |    |    |-- element: string (containsNull = true)\n",
      " |    |    |-- animal_pharmacology_and_or_toxicology_table: array (nullable = true)\n",
      " |    |    |    |-- element: string (containsNull = true)\n",
      " |    |    |-- ask_doctor: array (nullable = true)\n",
      " |    |    |    |-- element: string (containsNull = true)\n",
      " |    |    |-- ask_doctor_or_pharmacist: array (nullable = true)\n",
      " |    |    |    |-- element: string (containsNull = true)\n",
      " |    |    |-- assembly_or_installation_instructions: array (nullable = true)\n",
      " |    |    |    |-- element: string (containsNull = true)\n",
      " |    |    |-- boxed_warning: array (nullable = true)\n",
      " |    |    |    |-- element: string (containsNull = true)\n",
      " |    |    |-- boxed_warning_table: array (nullable = true)\n",
      " |    |    |    |-- element: string (containsNull = true)\n",
      " |    |    |-- carcinogenesis_and_mutagenesis_and_impairment_of_fertility: array (nullable = true)\n",
      " |    |    |    |-- element: string (containsNull = true)\n",
      " |    |    |-- carcinogenesis_and_mutagenesis_and_impairment_of_fertility_table: array (nullable = true)\n",
      " |    |    |    |-- element: string (containsNull = true)\n",
      " |    |    |-- cleaning: array (nullable = true)\n",
      " |    |    |    |-- element: string (containsNull = true)\n",
      " |    |    |-- clinical_pharmacology: array (nullable = true)\n",
      " |    |    |    |-- element: string (containsNull = true)\n",
      " |    |    |-- clinical_pharmacology_table: array (nullable = true)\n",
      " |    |    |    |-- element: string (containsNull = true)\n",
      " |    |    |-- clinical_studies: array (nullable = true)\n",
      " |    |    |    |-- element: string (containsNull = true)\n",
      " |    |    |-- clinical_studies_table: array (nullable = true)\n",
      " |    |    |    |-- element: string (containsNull = true)\n",
      " |    |    |-- components: array (nullable = true)\n",
      " |    |    |    |-- element: string (containsNull = true)\n",
      " |    |    |-- contraindications: array (nullable = true)\n",
      " |    |    |    |-- element: string (containsNull = true)\n",
      " |    |    |-- contraindications_table: array (nullable = true)\n",
      " |    |    |    |-- element: string (containsNull = true)\n",
      " |    |    |-- controlled_substance: array (nullable = true)\n",
      " |    |    |    |-- element: string (containsNull = true)\n",
      " |    |    |-- dependence: array (nullable = true)\n",
      " |    |    |    |-- element: string (containsNull = true)\n",
      " |    |    |-- description: array (nullable = true)\n",
      " |    |    |    |-- element: string (containsNull = true)\n",
      " |    |    |-- description_table: array (nullable = true)\n",
      " |    |    |    |-- element: string (containsNull = true)\n",
      " |    |    |-- disposal_and_waste_handling: array (nullable = true)\n",
      " |    |    |    |-- element: string (containsNull = true)\n",
      " |    |    |-- do_not_use: array (nullable = true)\n",
      " |    |    |    |-- element: string (containsNull = true)\n",
      " |    |    |-- do_not_use_table: array (nullable = true)\n",
      " |    |    |    |-- element: string (containsNull = true)\n",
      " |    |    |-- dosage_and_administration: array (nullable = true)\n",
      " |    |    |    |-- element: string (containsNull = true)\n",
      " |    |    |-- dosage_and_administration_table: array (nullable = true)\n",
      " |    |    |    |-- element: string (containsNull = true)\n",
      " |    |    |-- dosage_forms_and_strengths: array (nullable = true)\n",
      " |    |    |    |-- element: string (containsNull = true)\n",
      " |    |    |-- dosage_forms_and_strengths_table: array (nullable = true)\n",
      " |    |    |    |-- element: string (containsNull = true)\n",
      " |    |    |-- drug_abuse_and_dependence: array (nullable = true)\n",
      " |    |    |    |-- element: string (containsNull = true)\n",
      " |    |    |-- drug_abuse_and_dependence_table: array (nullable = true)\n",
      " |    |    |    |-- element: string (containsNull = true)\n",
      " |    |    |-- drug_and_or_laboratory_test_interactions: array (nullable = true)\n",
      " |    |    |    |-- element: string (containsNull = true)\n",
      " |    |    |-- drug_and_or_laboratory_test_interactions_table: array (nullable = true)\n",
      " |    |    |    |-- element: string (containsNull = true)\n",
      " |    |    |-- drug_interactions: array (nullable = true)\n",
      " |    |    |    |-- element: string (containsNull = true)\n",
      " |    |    |-- drug_interactions_table: array (nullable = true)\n",
      " |    |    |    |-- element: string (containsNull = true)\n",
      " |    |    |-- effective_time: string (nullable = true)\n",
      " |    |    |-- food_safety_warning: array (nullable = true)\n",
      " |    |    |    |-- element: string (containsNull = true)\n",
      " |    |    |-- general_precautions: array (nullable = true)\n",
      " |    |    |    |-- element: string (containsNull = true)\n",
      " |    |    |-- general_precautions_table: array (nullable = true)\n",
      " |    |    |    |-- element: string (containsNull = true)\n",
      " |    |    |-- geriatric_use: array (nullable = true)\n",
      " |    |    |    |-- element: string (containsNull = true)\n",
      " |    |    |-- geriatric_use_table: array (nullable = true)\n",
      " |    |    |    |-- element: string (containsNull = true)\n",
      " |    |    |-- health_care_provider_letter: array (nullable = true)\n",
      " |    |    |    |-- element: string (containsNull = true)\n",
      " |    |    |-- health_care_provider_letter_table: array (nullable = true)\n",
      " |    |    |    |-- element: string (containsNull = true)\n",
      " |    |    |-- health_claim: array (nullable = true)\n",
      " |    |    |    |-- element: string (containsNull = true)\n",
      " |    |    |-- health_claim_table: array (nullable = true)\n",
      " |    |    |    |-- element: string (containsNull = true)\n",
      " |    |    |-- how_supplied: array (nullable = true)\n",
      " |    |    |    |-- element: string (containsNull = true)\n",
      " |    |    |-- how_supplied_table: array (nullable = true)\n",
      " |    |    |    |-- element: string (containsNull = true)\n",
      " |    |    |-- id: string (nullable = true)\n",
      " |    |    |-- inactive_ingredient: array (nullable = true)\n",
      " |    |    |    |-- element: string (containsNull = true)\n",
      " |    |    |-- inactive_ingredient_table: array (nullable = true)\n",
      " |    |    |    |-- element: string (containsNull = true)\n",
      " |    |    |-- indications_and_usage: array (nullable = true)\n",
      " |    |    |    |-- element: string (containsNull = true)\n",
      " |    |    |-- indications_and_usage_table: array (nullable = true)\n",
      " |    |    |    |-- element: string (containsNull = true)\n",
      " |    |    |-- information_for_owners_or_caregivers: array (nullable = true)\n",
      " |    |    |    |-- element: string (containsNull = true)\n",
      " |    |    |-- information_for_patients: array (nullable = true)\n",
      " |    |    |    |-- element: string (containsNull = true)\n",
      " |    |    |-- information_for_patients_table: array (nullable = true)\n",
      " |    |    |    |-- element: string (containsNull = true)\n",
      " |    |    |-- instructions_for_use: array (nullable = true)\n",
      " |    |    |    |-- element: string (containsNull = true)\n",
      " |    |    |-- instructions_for_use_table: array (nullable = true)\n",
      " |    |    |    |-- element: string (containsNull = true)\n",
      " |    |    |-- intended_use_of_the_device: array (nullable = true)\n",
      " |    |    |    |-- element: string (containsNull = true)\n",
      " |    |    |-- keep_out_of_reach_of_children: array (nullable = true)\n",
      " |    |    |    |-- element: string (containsNull = true)\n",
      " |    |    |-- keep_out_of_reach_of_children_table: array (nullable = true)\n",
      " |    |    |    |-- element: string (containsNull = true)\n",
      " |    |    |-- labor_and_delivery: array (nullable = true)\n",
      " |    |    |    |-- element: string (containsNull = true)\n",
      " |    |    |-- laboratory_tests: array (nullable = true)\n",
      " |    |    |    |-- element: string (containsNull = true)\n",
      " |    |    |-- laboratory_tests_table: array (nullable = true)\n",
      " |    |    |    |-- element: string (containsNull = true)\n",
      " |    |    |-- mechanism_of_action: array (nullable = true)\n",
      " |    |    |    |-- element: string (containsNull = true)\n",
      " |    |    |-- mechanism_of_action_table: array (nullable = true)\n",
      " |    |    |    |-- element: string (containsNull = true)\n",
      " |    |    |-- microbiology: array (nullable = true)\n",
      " |    |    |    |-- element: string (containsNull = true)\n",
      " |    |    |-- microbiology_table: array (nullable = true)\n",
      " |    |    |    |-- element: string (containsNull = true)\n",
      " |    |    |-- nonclinical_toxicology: array (nullable = true)\n",
      " |    |    |    |-- element: string (containsNull = true)\n",
      " |    |    |-- nonclinical_toxicology_table: array (nullable = true)\n",
      " |    |    |    |-- element: string (containsNull = true)\n",
      " |    |    |-- nonteratogenic_effects: array (nullable = true)\n",
      " |    |    |    |-- element: string (containsNull = true)\n",
      " |    |    |-- nonteratogenic_effects_table: array (nullable = true)\n",
      " |    |    |    |-- element: string (containsNull = true)\n",
      " |    |    |-- nursing_mothers: array (nullable = true)\n",
      " |    |    |    |-- element: string (containsNull = true)\n",
      " |    |    |-- nursing_mothers_table: array (nullable = true)\n",
      " |    |    |    |-- element: string (containsNull = true)\n",
      " |    |    |-- openfda: struct (nullable = true)\n",
      " |    |    |    |-- application_number: array (nullable = true)\n",
      " |    |    |    |    |-- element: string (containsNull = true)\n",
      " |    |    |    |-- brand_name: array (nullable = true)\n",
      " |    |    |    |    |-- element: string (containsNull = true)\n",
      " |    |    |    |-- generic_name: array (nullable = true)\n",
      " |    |    |    |    |-- element: string (containsNull = true)\n",
      " |    |    |    |-- is_original_packager: array (nullable = true)\n",
      " |    |    |    |    |-- element: boolean (containsNull = true)\n",
      " |    |    |    |-- manufacturer_name: array (nullable = true)\n",
      " |    |    |    |    |-- element: string (containsNull = true)\n",
      " |    |    |    |-- nui: array (nullable = true)\n",
      " |    |    |    |    |-- element: string (containsNull = true)\n",
      " |    |    |    |-- original_packager_product_ndc: array (nullable = true)\n",
      " |    |    |    |    |-- element: string (containsNull = true)\n",
      " |    |    |    |-- package_ndc: array (nullable = true)\n",
      " |    |    |    |    |-- element: string (containsNull = true)\n",
      " |    |    |    |-- pharm_class_cs: array (nullable = true)\n",
      " |    |    |    |    |-- element: string (containsNull = true)\n",
      " |    |    |    |-- pharm_class_epc: array (nullable = true)\n",
      " |    |    |    |    |-- element: string (containsNull = true)\n",
      " |    |    |    |-- pharm_class_moa: array (nullable = true)\n",
      " |    |    |    |    |-- element: string (containsNull = true)\n",
      " |    |    |    |-- pharm_class_pe: array (nullable = true)\n",
      " |    |    |    |    |-- element: string (containsNull = true)\n",
      " |    |    |    |-- product_ndc: array (nullable = true)\n",
      " |    |    |    |    |-- element: string (containsNull = true)\n",
      " |    |    |    |-- product_type: array (nullable = true)\n",
      " |    |    |    |    |-- element: string (containsNull = true)\n",
      " |    |    |    |-- route: array (nullable = true)\n",
      " |    |    |    |    |-- element: string (containsNull = true)\n",
      " |    |    |    |-- rxcui: array (nullable = true)\n",
      " |    |    |    |    |-- element: string (containsNull = true)\n",
      " |    |    |    |-- spl_id: array (nullable = true)\n",
      " |    |    |    |    |-- element: string (containsNull = true)\n",
      " |    |    |    |-- spl_set_id: array (nullable = true)\n",
      " |    |    |    |    |-- element: string (containsNull = true)\n",
      " |    |    |    |-- substance_name: array (nullable = true)\n",
      " |    |    |    |    |-- element: string (containsNull = true)\n",
      " |    |    |    |-- unii: array (nullable = true)\n",
      " |    |    |    |    |-- element: string (containsNull = true)\n",
      " |    |    |    |-- upc: array (nullable = true)\n",
      " |    |    |    |    |-- element: string (containsNull = true)\n",
      " |    |    |-- other_safety_information: array (nullable = true)\n",
      " |    |    |    |-- element: string (containsNull = true)\n",
      " |    |    |-- overdosage: array (nullable = true)\n",
      " |    |    |    |-- element: string (containsNull = true)\n",
      " |    |    |-- overdosage_table: array (nullable = true)\n",
      " |    |    |    |-- element: string (containsNull = true)\n",
      " |    |    |-- package_label_principal_display_panel: array (nullable = true)\n",
      " |    |    |    |-- element: string (containsNull = true)\n",
      " |    |    |-- package_label_principal_display_panel_table: array (nullable = true)\n",
      " |    |    |    |-- element: string (containsNull = true)\n",
      " |    |    |-- patient_medication_information: array (nullable = true)\n",
      " |    |    |    |-- element: string (containsNull = true)\n",
      " |    |    |-- patient_medication_information_table: array (nullable = true)\n",
      " |    |    |    |-- element: string (containsNull = true)\n",
      " |    |    |-- pediatric_use: array (nullable = true)\n",
      " |    |    |    |-- element: string (containsNull = true)\n",
      " |    |    |-- pediatric_use_table: array (nullable = true)\n",
      " |    |    |    |-- element: string (containsNull = true)\n",
      " |    |    |-- pharmacodynamics: array (nullable = true)\n",
      " |    |    |    |-- element: string (containsNull = true)\n",
      " |    |    |-- pharmacodynamics_table: array (nullable = true)\n",
      " |    |    |    |-- element: string (containsNull = true)\n",
      " |    |    |-- pharmacogenomics: array (nullable = true)\n",
      " |    |    |    |-- element: string (containsNull = true)\n",
      " |    |    |-- pharmacokinetics: array (nullable = true)\n",
      " |    |    |    |-- element: string (containsNull = true)\n",
      " |    |    |-- pharmacokinetics_table: array (nullable = true)\n",
      " |    |    |    |-- element: string (containsNull = true)\n",
      " |    |    |-- precautions: array (nullable = true)\n",
      " |    |    |    |-- element: string (containsNull = true)\n",
      " |    |    |-- precautions_table: array (nullable = true)\n",
      " |    |    |    |-- element: string (containsNull = true)\n",
      " |    |    |-- pregnancy: array (nullable = true)\n",
      " |    |    |    |-- element: string (containsNull = true)\n",
      " |    |    |-- pregnancy_or_breast_feeding: array (nullable = true)\n",
      " |    |    |    |-- element: string (containsNull = true)\n",
      " |    |    |-- pregnancy_or_breast_feeding_table: array (nullable = true)\n",
      " |    |    |    |-- element: string (containsNull = true)\n",
      " |    |    |-- pregnancy_table: array (nullable = true)\n",
      " |    |    |    |-- element: string (containsNull = true)\n",
      " |    |    |-- purpose: array (nullable = true)\n",
      " |    |    |    |-- element: string (containsNull = true)\n",
      " |    |    |-- purpose_table: array (nullable = true)\n",
      " |    |    |    |-- element: string (containsNull = true)\n",
      " |    |    |-- questions: array (nullable = true)\n",
      " |    |    |    |-- element: string (containsNull = true)\n",
      " |    |    |-- questions_table: array (nullable = true)\n",
      " |    |    |    |-- element: string (containsNull = true)\n",
      " |    |    |-- recent_major_changes: array (nullable = true)\n",
      " |    |    |    |-- element: string (containsNull = true)\n",
      " |    |    |-- recent_major_changes_table: array (nullable = true)\n",
      " |    |    |    |-- element: string (containsNull = true)\n",
      " |    |    |-- references: array (nullable = true)\n",
      " |    |    |    |-- element: string (containsNull = true)\n",
      " |    |    |-- references_table: array (nullable = true)\n",
      " |    |    |    |-- element: string (containsNull = true)\n",
      " |    |    |-- risks: array (nullable = true)\n",
      " |    |    |    |-- element: string (containsNull = true)\n",
      " |    |    |-- route: array (nullable = true)\n",
      " |    |    |    |-- element: string (containsNull = true)\n",
      " |    |    |-- safe_handling_warning: array (nullable = true)\n",
      " |    |    |    |-- element: string (containsNull = true)\n",
      " |    |    |-- set_id: string (nullable = true)\n",
      " |    |    |-- spl_indexing_data_elements: array (nullable = true)\n",
      " |    |    |    |-- element: string (containsNull = true)\n",
      " |    |    |-- spl_medguide: array (nullable = true)\n",
      " |    |    |    |-- element: string (containsNull = true)\n",
      " |    |    |-- spl_medguide_table: array (nullable = true)\n",
      " |    |    |    |-- element: string (containsNull = true)\n",
      " |    |    |-- spl_patient_package_insert: array (nullable = true)\n",
      " |    |    |    |-- element: string (containsNull = true)\n",
      " |    |    |-- spl_patient_package_insert_table: array (nullable = true)\n",
      " |    |    |    |-- element: string (containsNull = true)\n",
      " |    |    |-- spl_product_data_elements: array (nullable = true)\n",
      " |    |    |    |-- element: string (containsNull = true)\n",
      " |    |    |-- spl_unclassified_section: array (nullable = true)\n",
      " |    |    |    |-- element: string (containsNull = true)\n",
      " |    |    |-- spl_unclassified_section_table: array (nullable = true)\n",
      " |    |    |    |-- element: string (containsNull = true)\n",
      " |    |    |-- statement_of_identity: array (nullable = true)\n",
      " |    |    |    |-- element: string (containsNull = true)\n",
      " |    |    |-- statement_of_identity_table: array (nullable = true)\n",
      " |    |    |    |-- element: string (containsNull = true)\n",
      " |    |    |-- stop_use: array (nullable = true)\n",
      " |    |    |    |-- element: string (containsNull = true)\n",
      " |    |    |-- stop_use_table: array (nullable = true)\n",
      " |    |    |    |-- element: string (containsNull = true)\n",
      " |    |    |-- storage_and_handling: array (nullable = true)\n",
      " |    |    |    |-- element: string (containsNull = true)\n",
      " |    |    |-- storage_and_handling_table: array (nullable = true)\n",
      " |    |    |    |-- element: string (containsNull = true)\n",
      " |    |    |-- summary_of_safety_and_effectiveness: array (nullable = true)\n",
      " |    |    |    |-- element: string (containsNull = true)\n",
      " |    |    |-- teratogenic_effects: array (nullable = true)\n",
      " |    |    |    |-- element: string (containsNull = true)\n",
      " |    |    |-- teratogenic_effects_table: array (nullable = true)\n",
      " |    |    |    |-- element: string (containsNull = true)\n",
      " |    |    |-- use_in_specific_populations: array (nullable = true)\n",
      " |    |    |    |-- element: string (containsNull = true)\n",
      " |    |    |-- use_in_specific_populations_table: array (nullable = true)\n",
      " |    |    |    |-- element: string (containsNull = true)\n",
      " |    |    |-- user_safety_warnings: array (nullable = true)\n",
      " |    |    |    |-- element: string (containsNull = true)\n",
      " |    |    |-- version: string (nullable = true)\n",
      " |    |    |-- veterinary_indications: array (nullable = true)\n",
      " |    |    |    |-- element: string (containsNull = true)\n",
      " |    |    |-- warnings: array (nullable = true)\n",
      " |    |    |    |-- element: string (containsNull = true)\n",
      " |    |    |-- warnings_and_cautions: array (nullable = true)\n",
      " |    |    |    |-- element: string (containsNull = true)\n",
      " |    |    |-- warnings_and_cautions_table: array (nullable = true)\n",
      " |    |    |    |-- element: string (containsNull = true)\n",
      " |    |    |-- warnings_table: array (nullable = true)\n",
      " |    |    |    |-- element: string (containsNull = true)\n",
      " |    |    |-- when_using: array (nullable = true)\n",
      " |    |    |    |-- element: string (containsNull = true)\n",
      " |    |    |-- when_using_table: array (nullable = true)\n",
      " |    |    |    |-- element: string (containsNull = true)\n",
      "\n"
     ]
    }
   ],
   "source": [
    "# Read json\n",
    "import os\n",
    "DOWNLOAD_DIR = os.getenv('DOWNLOAD_DIR', '.')\n",
    "\n",
    "df_sample = spark.read.json(DOWNLOAD_DIR + \"/\" + CATEGORY_TO_DOWNLOAD + \"/downloads/drug-label-0002-of-0011.json\",multiLine=True)\n",
    "# df = spark.read.json(\"drug-label-0001-of-0011 copy.jsonl\",multiLine=False)\n",
    "\n",
    "df_sample.printSchema() # Prints readable schema, whereas sampledf.schema shows data types\n"
   ]
  },
  {
   "cell_type": "markdown",
   "metadata": {},
   "source": [
    "# Observation\n",
    " - The `meta` element can be ignored \n",
    " - In fact deleting the meta tag is beneficial for processing the data into a dataframe from performance perspective (We anyways have all the data inside results array)"
   ]
  },
  {
   "cell_type": "markdown",
   "metadata": {},
   "source": [
    "# Shell Commands (on mac)  - to remove meta tag\n",
    "- `sed -i '' '/  \"results\": \\[/,$!d' drug-label-0001-of-0011.json` - Delete all lines until\n",
    "- `sed -i '' 's/  \"results\": \\[/\\[/g' drug-label-0001-of-0011.json` - Replace with empty `[`\n",
    "- `sed -i '' -e '$ d' drug-label-0001-of-0011.json` - Remove `}` on the last line  \n",
    "\n",
    "On non-mac ignore the empty single quotes"
   ]
  },
  {
   "cell_type": "code",
   "execution_count": 7,
   "metadata": {},
   "outputs": [
    {
     "name": "stdout",
     "output_type": "stream",
     "text": [
      "root\n",
      " |-- abuse: array (nullable = true)\n",
      " |    |-- element: string (containsNull = true)\n",
      " |-- abuse_table: array (nullable = true)\n",
      " |    |-- element: string (containsNull = true)\n",
      " |-- accessories: array (nullable = true)\n",
      " |    |-- element: string (containsNull = true)\n",
      " |-- active_ingredient: array (nullable = true)\n",
      " |    |-- element: string (containsNull = true)\n",
      " |-- active_ingredient_table: array (nullable = true)\n",
      " |    |-- element: string (containsNull = true)\n",
      " |-- adverse_reactions: array (nullable = true)\n",
      " |    |-- element: string (containsNull = true)\n",
      " |-- adverse_reactions_table: array (nullable = true)\n",
      " |    |-- element: string (containsNull = true)\n",
      " |-- animal_pharmacology_and_or_toxicology: array (nullable = true)\n",
      " |    |-- element: string (containsNull = true)\n",
      " |-- animal_pharmacology_and_or_toxicology_table: array (nullable = true)\n",
      " |    |-- element: string (containsNull = true)\n",
      " |-- ask_doctor: array (nullable = true)\n",
      " |    |-- element: string (containsNull = true)\n",
      " |-- ask_doctor_or_pharmacist: array (nullable = true)\n",
      " |    |-- element: string (containsNull = true)\n",
      " |-- ask_doctor_or_pharmacist_table: array (nullable = true)\n",
      " |    |-- element: string (containsNull = true)\n",
      " |-- ask_doctor_table: array (nullable = true)\n",
      " |    |-- element: string (containsNull = true)\n",
      " |-- boxed_warning: array (nullable = true)\n",
      " |    |-- element: string (containsNull = true)\n",
      " |-- boxed_warning_table: array (nullable = true)\n",
      " |    |-- element: string (containsNull = true)\n",
      " |-- carcinogenesis_and_mutagenesis_and_impairment_of_fertility: array (nullable = true)\n",
      " |    |-- element: string (containsNull = true)\n",
      " |-- carcinogenesis_and_mutagenesis_and_impairment_of_fertility_table: array (nullable = true)\n",
      " |    |-- element: string (containsNull = true)\n",
      " |-- cleaning: array (nullable = true)\n",
      " |    |-- element: string (containsNull = true)\n",
      " |-- clinical_pharmacology: array (nullable = true)\n",
      " |    |-- element: string (containsNull = true)\n",
      " |-- clinical_pharmacology_table: array (nullable = true)\n",
      " |    |-- element: string (containsNull = true)\n",
      " |-- clinical_studies: array (nullable = true)\n",
      " |    |-- element: string (containsNull = true)\n",
      " |-- clinical_studies_table: array (nullable = true)\n",
      " |    |-- element: string (containsNull = true)\n",
      " |-- components: array (nullable = true)\n",
      " |    |-- element: string (containsNull = true)\n",
      " |-- contraindications: array (nullable = true)\n",
      " |    |-- element: string (containsNull = true)\n",
      " |-- contraindications_table: array (nullable = true)\n",
      " |    |-- element: string (containsNull = true)\n",
      " |-- controlled_substance: array (nullable = true)\n",
      " |    |-- element: string (containsNull = true)\n",
      " |-- dependence: array (nullable = true)\n",
      " |    |-- element: string (containsNull = true)\n",
      " |-- description: array (nullable = true)\n",
      " |    |-- element: string (containsNull = true)\n",
      " |-- description_table: array (nullable = true)\n",
      " |    |-- element: string (containsNull = true)\n",
      " |-- disposal_and_waste_handling: array (nullable = true)\n",
      " |    |-- element: string (containsNull = true)\n",
      " |-- do_not_use: array (nullable = true)\n",
      " |    |-- element: string (containsNull = true)\n",
      " |-- do_not_use_table: array (nullable = true)\n",
      " |    |-- element: string (containsNull = true)\n",
      " |-- dosage_and_administration: array (nullable = true)\n",
      " |    |-- element: string (containsNull = true)\n",
      " |-- dosage_and_administration_table: array (nullable = true)\n",
      " |    |-- element: string (containsNull = true)\n",
      " |-- dosage_forms_and_strengths: array (nullable = true)\n",
      " |    |-- element: string (containsNull = true)\n",
      " |-- dosage_forms_and_strengths_table: array (nullable = true)\n",
      " |    |-- element: string (containsNull = true)\n",
      " |-- drug_abuse_and_dependence: array (nullable = true)\n",
      " |    |-- element: string (containsNull = true)\n",
      " |-- drug_abuse_and_dependence_table: array (nullable = true)\n",
      " |    |-- element: string (containsNull = true)\n",
      " |-- drug_and_or_laboratory_test_interactions: array (nullable = true)\n",
      " |    |-- element: string (containsNull = true)\n",
      " |-- drug_and_or_laboratory_test_interactions_table: array (nullable = true)\n",
      " |    |-- element: string (containsNull = true)\n",
      " |-- drug_interactions: array (nullable = true)\n",
      " |    |-- element: string (containsNull = true)\n",
      " |-- drug_interactions_table: array (nullable = true)\n",
      " |    |-- element: string (containsNull = true)\n",
      " |-- effective_time: string (nullable = true)\n",
      " |-- general_precautions: array (nullable = true)\n",
      " |    |-- element: string (containsNull = true)\n",
      " |-- general_precautions_table: array (nullable = true)\n",
      " |    |-- element: string (containsNull = true)\n",
      " |-- geriatric_use: array (nullable = true)\n",
      " |    |-- element: string (containsNull = true)\n",
      " |-- geriatric_use_table: array (nullable = true)\n",
      " |    |-- element: string (containsNull = true)\n",
      " |-- health_care_provider_letter: array (nullable = true)\n",
      " |    |-- element: string (containsNull = true)\n",
      " |-- health_care_provider_letter_table: array (nullable = true)\n",
      " |    |-- element: string (containsNull = true)\n",
      " |-- health_claim: array (nullable = true)\n",
      " |    |-- element: string (containsNull = true)\n",
      " |-- how_supplied: array (nullable = true)\n",
      " |    |-- element: string (containsNull = true)\n",
      " |-- how_supplied_table: array (nullable = true)\n",
      " |    |-- element: string (containsNull = true)\n",
      " |-- id: string (nullable = true)\n",
      " |-- inactive_ingredient: array (nullable = true)\n",
      " |    |-- element: string (containsNull = true)\n",
      " |-- inactive_ingredient_table: array (nullable = true)\n",
      " |    |-- element: string (containsNull = true)\n",
      " |-- indications_and_usage: array (nullable = true)\n",
      " |    |-- element: string (containsNull = true)\n",
      " |-- indications_and_usage_table: array (nullable = true)\n",
      " |    |-- element: string (containsNull = true)\n",
      " |-- information_for_owners_or_caregivers: array (nullable = true)\n",
      " |    |-- element: string (containsNull = true)\n",
      " |-- information_for_owners_or_caregivers_table: array (nullable = true)\n",
      " |    |-- element: string (containsNull = true)\n",
      " |-- information_for_patients: array (nullable = true)\n",
      " |    |-- element: string (containsNull = true)\n",
      " |-- information_for_patients_table: array (nullable = true)\n",
      " |    |-- element: string (containsNull = true)\n",
      " |-- instructions_for_use: array (nullable = true)\n",
      " |    |-- element: string (containsNull = true)\n",
      " |-- instructions_for_use_table: array (nullable = true)\n",
      " |    |-- element: string (containsNull = true)\n",
      " |-- intended_use_of_the_device: array (nullable = true)\n",
      " |    |-- element: string (containsNull = true)\n",
      " |-- keep_out_of_reach_of_children: array (nullable = true)\n",
      " |    |-- element: string (containsNull = true)\n",
      " |-- keep_out_of_reach_of_children_table: array (nullable = true)\n",
      " |    |-- element: string (containsNull = true)\n",
      " |-- labor_and_delivery: array (nullable = true)\n",
      " |    |-- element: string (containsNull = true)\n",
      " |-- laboratory_tests: array (nullable = true)\n",
      " |    |-- element: string (containsNull = true)\n",
      " |-- laboratory_tests_table: array (nullable = true)\n",
      " |    |-- element: string (containsNull = true)\n",
      " |-- mechanism_of_action: array (nullable = true)\n",
      " |    |-- element: string (containsNull = true)\n",
      " |-- mechanism_of_action_table: array (nullable = true)\n",
      " |    |-- element: string (containsNull = true)\n",
      " |-- microbiology: array (nullable = true)\n",
      " |    |-- element: string (containsNull = true)\n",
      " |-- microbiology_table: array (nullable = true)\n",
      " |    |-- element: string (containsNull = true)\n",
      " |-- nonclinical_toxicology: array (nullable = true)\n",
      " |    |-- element: string (containsNull = true)\n",
      " |-- nonclinical_toxicology_table: array (nullable = true)\n",
      " |    |-- element: string (containsNull = true)\n",
      " |-- nonteratogenic_effects: array (nullable = true)\n",
      " |    |-- element: string (containsNull = true)\n",
      " |-- nursing_mothers: array (nullable = true)\n",
      " |    |-- element: string (containsNull = true)\n",
      " |-- openfda: struct (nullable = true)\n",
      " |    |-- application_number: array (nullable = true)\n",
      " |    |    |-- element: string (containsNull = true)\n",
      " |    |-- brand_name: array (nullable = true)\n",
      " |    |    |-- element: string (containsNull = true)\n",
      " |    |-- generic_name: array (nullable = true)\n",
      " |    |    |-- element: string (containsNull = true)\n",
      " |    |-- is_original_packager: array (nullable = true)\n",
      " |    |    |-- element: boolean (containsNull = true)\n",
      " |    |-- manufacturer_name: array (nullable = true)\n",
      " |    |    |-- element: string (containsNull = true)\n",
      " |    |-- nui: array (nullable = true)\n",
      " |    |    |-- element: string (containsNull = true)\n",
      " |    |-- original_packager_product_ndc: array (nullable = true)\n",
      " |    |    |-- element: string (containsNull = true)\n",
      " |    |-- package_ndc: array (nullable = true)\n",
      " |    |    |-- element: string (containsNull = true)\n",
      " |    |-- pharm_class_cs: array (nullable = true)\n",
      " |    |    |-- element: string (containsNull = true)\n",
      " |    |-- pharm_class_epc: array (nullable = true)\n",
      " |    |    |-- element: string (containsNull = true)\n",
      " |    |-- pharm_class_moa: array (nullable = true)\n",
      " |    |    |-- element: string (containsNull = true)\n",
      " |    |-- pharm_class_pe: array (nullable = true)\n",
      " |    |    |-- element: string (containsNull = true)\n",
      " |    |-- product_ndc: array (nullable = true)\n",
      " |    |    |-- element: string (containsNull = true)\n",
      " |    |-- product_type: array (nullable = true)\n",
      " |    |    |-- element: string (containsNull = true)\n",
      " |    |-- route: array (nullable = true)\n",
      " |    |    |-- element: string (containsNull = true)\n",
      " |    |-- rxcui: array (nullable = true)\n",
      " |    |    |-- element: string (containsNull = true)\n",
      " |    |-- spl_id: array (nullable = true)\n",
      " |    |    |-- element: string (containsNull = true)\n",
      " |    |-- spl_set_id: array (nullable = true)\n",
      " |    |    |-- element: string (containsNull = true)\n",
      " |    |-- substance_name: array (nullable = true)\n",
      " |    |    |-- element: string (containsNull = true)\n",
      " |    |-- unii: array (nullable = true)\n",
      " |    |    |-- element: string (containsNull = true)\n",
      " |    |-- upc: array (nullable = true)\n",
      " |    |    |-- element: string (containsNull = true)\n",
      " |-- other_safety_information: array (nullable = true)\n",
      " |    |-- element: string (containsNull = true)\n",
      " |-- overdosage: array (nullable = true)\n",
      " |    |-- element: string (containsNull = true)\n",
      " |-- overdosage_table: array (nullable = true)\n",
      " |    |-- element: string (containsNull = true)\n",
      " |-- package_label_principal_display_panel: array (nullable = true)\n",
      " |    |-- element: string (containsNull = true)\n",
      " |-- package_label_principal_display_panel_table: array (nullable = true)\n",
      " |    |-- element: string (containsNull = true)\n",
      " |-- patient_medication_information: array (nullable = true)\n",
      " |    |-- element: string (containsNull = true)\n",
      " |-- patient_medication_information_table: array (nullable = true)\n",
      " |    |-- element: string (containsNull = true)\n",
      " |-- pediatric_use: array (nullable = true)\n",
      " |    |-- element: string (containsNull = true)\n",
      " |-- pediatric_use_table: array (nullable = true)\n",
      " |    |-- element: string (containsNull = true)\n",
      " |-- pharmacodynamics: array (nullable = true)\n",
      " |    |-- element: string (containsNull = true)\n",
      " |-- pharmacodynamics_table: array (nullable = true)\n",
      " |    |-- element: string (containsNull = true)\n",
      " |-- pharmacogenomics: array (nullable = true)\n",
      " |    |-- element: string (containsNull = true)\n",
      " |-- pharmacokinetics: array (nullable = true)\n",
      " |    |-- element: string (containsNull = true)\n",
      " |-- pharmacokinetics_table: array (nullable = true)\n",
      " |    |-- element: string (containsNull = true)\n",
      " |-- precautions: array (nullable = true)\n",
      " |    |-- element: string (containsNull = true)\n",
      " |-- precautions_table: array (nullable = true)\n",
      " |    |-- element: string (containsNull = true)\n",
      " |-- pregnancy: array (nullable = true)\n",
      " |    |-- element: string (containsNull = true)\n",
      " |-- pregnancy_or_breast_feeding: array (nullable = true)\n",
      " |    |-- element: string (containsNull = true)\n",
      " |-- pregnancy_or_breast_feeding_table: array (nullable = true)\n",
      " |    |-- element: string (containsNull = true)\n",
      " |-- pregnancy_table: array (nullable = true)\n",
      " |    |-- element: string (containsNull = true)\n",
      " |-- purpose: array (nullable = true)\n",
      " |    |-- element: string (containsNull = true)\n",
      " |-- purpose_table: array (nullable = true)\n",
      " |    |-- element: string (containsNull = true)\n",
      " |-- questions: array (nullable = true)\n",
      " |    |-- element: string (containsNull = true)\n",
      " |-- questions_table: array (nullable = true)\n",
      " |    |-- element: string (containsNull = true)\n",
      " |-- recent_major_changes: array (nullable = true)\n",
      " |    |-- element: string (containsNull = true)\n",
      " |-- recent_major_changes_table: array (nullable = true)\n",
      " |    |-- element: string (containsNull = true)\n",
      " |-- references: array (nullable = true)\n",
      " |    |-- element: string (containsNull = true)\n",
      " |-- references_table: array (nullable = true)\n",
      " |    |-- element: string (containsNull = true)\n",
      " |-- risks: array (nullable = true)\n",
      " |    |-- element: string (containsNull = true)\n",
      " |-- risks_table: array (nullable = true)\n",
      " |    |-- element: string (containsNull = true)\n",
      " |-- route: array (nullable = true)\n",
      " |    |-- element: string (containsNull = true)\n",
      " |-- safe_handling_warning: array (nullable = true)\n",
      " |    |-- element: string (containsNull = true)\n",
      " |-- set_id: string (nullable = true)\n",
      " |-- spl_indexing_data_elements: array (nullable = true)\n",
      " |    |-- element: string (containsNull = true)\n",
      " |-- spl_medguide: array (nullable = true)\n",
      " |    |-- element: string (containsNull = true)\n",
      " |-- spl_medguide_table: array (nullable = true)\n",
      " |    |-- element: string (containsNull = true)\n",
      " |-- spl_patient_package_insert: array (nullable = true)\n",
      " |    |-- element: string (containsNull = true)\n",
      " |-- spl_patient_package_insert_table: array (nullable = true)\n",
      " |    |-- element: string (containsNull = true)\n",
      " |-- spl_product_data_elements: array (nullable = true)\n",
      " |    |-- element: string (containsNull = true)\n",
      " |-- spl_unclassified_section: array (nullable = true)\n",
      " |    |-- element: string (containsNull = true)\n",
      " |-- spl_unclassified_section_table: array (nullable = true)\n",
      " |    |-- element: string (containsNull = true)\n",
      " |-- statement_of_identity: array (nullable = true)\n",
      " |    |-- element: string (containsNull = true)\n",
      " |-- stop_use: array (nullable = true)\n",
      " |    |-- element: string (containsNull = true)\n",
      " |-- stop_use_table: array (nullable = true)\n",
      " |    |-- element: string (containsNull = true)\n",
      " |-- storage_and_handling: array (nullable = true)\n",
      " |    |-- element: string (containsNull = true)\n",
      " |-- storage_and_handling_table: array (nullable = true)\n",
      " |    |-- element: string (containsNull = true)\n",
      " |-- summary_of_safety_and_effectiveness: array (nullable = true)\n",
      " |    |-- element: string (containsNull = true)\n",
      " |-- teratogenic_effects: array (nullable = true)\n",
      " |    |-- element: string (containsNull = true)\n",
      " |-- troubleshooting: array (nullable = true)\n",
      " |    |-- element: string (containsNull = true)\n",
      " |-- use_in_specific_populations: array (nullable = true)\n",
      " |    |-- element: string (containsNull = true)\n",
      " |-- use_in_specific_populations_table: array (nullable = true)\n",
      " |    |-- element: string (containsNull = true)\n",
      " |-- user_safety_warnings: array (nullable = true)\n",
      " |    |-- element: string (containsNull = true)\n",
      " |-- version: string (nullable = true)\n",
      " |-- veterinary_indications: array (nullable = true)\n",
      " |    |-- element: string (containsNull = true)\n",
      " |-- warnings: array (nullable = true)\n",
      " |    |-- element: string (containsNull = true)\n",
      " |-- warnings_and_cautions: array (nullable = true)\n",
      " |    |-- element: string (containsNull = true)\n",
      " |-- warnings_and_cautions_table: array (nullable = true)\n",
      " |    |-- element: string (containsNull = true)\n",
      " |-- warnings_table: array (nullable = true)\n",
      " |    |-- element: string (containsNull = true)\n",
      " |-- when_using: array (nullable = true)\n",
      " |    |-- element: string (containsNull = true)\n",
      " |-- when_using_table: array (nullable = true)\n",
      " |    |-- element: string (containsNull = true)\n",
      "\n"
     ]
    }
   ],
   "source": [
    "# Read json\n",
    "import os\n",
    "DOWNLOAD_DIR = os.getenv('DOWNLOAD_DIR', '.')\n",
    "\n",
    "df = spark.read.json(DOWNLOAD_DIR + \"/\" + CATEGORY_TO_DOWNLOAD + \"/downloads/drug-label-0001-of-0011.json\",multiLine=True)\n",
    "# df = spark.read.json(\"drug-label-0001-of-0011 copy.jsonl\")\n",
    "\n",
    "df.printSchema() # Prints readable schema, whereas sampledf.schema shows data types\n"
   ]
  },
  {
   "cell_type": "markdown",
   "metadata": {},
   "source": [
    "# Openfda Brand Name"
   ]
  },
  {
   "cell_type": "code",
   "execution_count": 24,
   "metadata": {},
   "outputs": [
    {
     "data": {
      "text/plain": [
       "[['Polyethylene Glycol 3350, Sodium Chloride, Sodium Bicarbonate and Potassium Chloride - Unflavored'],\n",
       " ['Equate Lubricant Eye Drops'],\n",
       " ['benazepril hydrochloride and hydrochlorothiazide'],\n",
       " ['ACETAMINOPHEN AND CODEINE PHOSPHATE'],\n",
       " ['Esterified Estrogens and Methyltestosterone'],\n",
       " ['tobramycin and dexamethasone'],\n",
       " ['ADVAIR DISKUS'],\n",
       " ['Bisoprolol Fumarate and Hydrochlorothiazide'],\n",
       " ['cle de peau BEAUTE THE FOUNDATION N O50 TAN OCHER'],\n",
       " ['omeprazole sodium bicarbonate']]"
      ]
     },
     "execution_count": 24,
     "metadata": {},
     "output_type": "execute_result"
    }
   ],
   "source": [
    "import ast\n",
    "my_brand_list = [ast.literal_eval(str(row[\"brand_name\"])) for row in df.select(\"openfda.brand_name\").collect() if row[\"brand_name\"] is not None]\n",
    "my_brand_list[0:10]"
   ]
  },
  {
   "cell_type": "markdown",
   "metadata": {},
   "source": [
    "# Openfda UPC"
   ]
  },
  {
   "cell_type": "code",
   "execution_count": 25,
   "metadata": {},
   "outputs": [
    {
     "data": {
      "text/plain": [
       "3742"
      ]
     },
     "execution_count": 25,
     "metadata": {},
     "output_type": "execute_result"
    }
   ],
   "source": [
    "import ast\n",
    "my_upc_list = [ast.literal_eval(str(row[\"upc\"])) for row in df.select(\"openfda.upc\").collect() if row[\"upc\"] is not None]\n",
    "my_upc_flat_list = [item for sublist in my_upc_list for item in sublist]\n",
    "my_upc_flat_list = list(set(my_upc_flat_list)) # remove duplicates\n",
    "len(my_upc_flat_list)"
   ]
  },
  {
   "cell_type": "markdown",
   "metadata": {},
   "source": [
    "# Openfda API (active pharmaceutical ingredient)"
   ]
  },
  {
   "cell_type": "code",
   "execution_count": 9,
   "metadata": {},
   "outputs": [
    {
     "data": {
      "text/plain": [
       "8284"
      ]
     },
     "execution_count": 9,
     "metadata": {},
     "output_type": "execute_result"
    }
   ],
   "source": [
    "import ast\n",
    "api_list = [ast.literal_eval(str(row[\"active_ingredient\"])) for row in df.select(\"active_ingredient\").collect() if row[\"active_ingredient\"] is not None]\n",
    "api_flat_list = [item for sublist in api_list for item in sublist]\n",
    "api_flat_list = list(set(api_flat_list)) # remove duplicates\n",
    "len(api_flat_list)"
   ]
  },
  {
   "cell_type": "code",
   "execution_count": 14,
   "metadata": {},
   "outputs": [
    {
     "data": {
      "text/plain": [
       "'Drug Facts Active Ingredients Purpose (per suppository) Cocoa butter 88.44%...................................................................Protectant Phenylephrine hydrochloride 0.25%..............................................Vasoconstrictor'"
      ]
     },
     "execution_count": 14,
     "metadata": {},
     "output_type": "execute_result"
    }
   ],
   "source": [
    "api_flat_list[3]"
   ]
  },
  {
   "cell_type": "markdown",
   "metadata": {},
   "source": [
    "# Brand -> API"
   ]
  },
  {
   "cell_type": "code",
   "execution_count": 63,
   "metadata": {},
   "outputs": [
    {
     "name": "stdout",
     "output_type": "stream",
     "text": [
      "+------------------------------------------------------------------------------------------------------+------------------------------------------------------------------------------------------------------------------------------------------------------------------------------------------------------------------------------------------------------------------------------------------------------------------------------------------------------------------------------------------------------------------------------------------------------------------------------------------------------------------------------------+\n",
      "|brand_name                                                                                            |active_ingredient                                                                                                                                                                                                                                                                                                                                                                                                                                                                                                                   |\n",
      "+------------------------------------------------------------------------------------------------------+------------------------------------------------------------------------------------------------------------------------------------------------------------------------------------------------------------------------------------------------------------------------------------------------------------------------------------------------------------------------------------------------------------------------------------------------------------------------------------------------------------------------------------+\n",
      "|[Equate Lubricant Eye Drops]                                                                          |[Active ingredients Polyethylene glycol 400 0.4% Propylene glycol 0.3%]                                                                                                                                                                                                                                                                                                                                                                                                                                                             |\n",
      "|[cle de peau BEAUTE THE FOUNDATION N O50 TAN OCHER]                                                   |[Active ingredients Purpose Octinoxate 3.9% Sunscreen Titanium Dioxide 3.3% Sunscreen]                                                                                                                                                                                                                                                                                                                                                                                                                                              |\n",
      "|[SENSODYNE PRONAMEL Intensive Enamel Repair Whitening]                                                |[Active ingredient Potassium nitrate 5% Sodium fluoride 0.25% (0.15% w/v fluoride ion)]                                                                                                                                                                                                                                                                                                                                                                                                                                             |\n",
      "|[UNDA 312]                                                                                            |[Active ingredients Each drop contains: Angelica archangelica (European angelica) Root 6X Drosera (Sundew) Whole Plant 6X Grindelia (Gum-plant) Aerial Parts 6X Lamium album (Dead nettle) Aerial Parts 6X Pinus sylvestris (Scotch pine) Shoots 6X Rubus fruticosus (Shrubby blackberry) Leaf 6X Senega officinalis (Snakeroot) Root 6X, Active ingredients Each drop contains equal parts of: Berberis vulgaris (Barberry) Bark 4X Calcarea fluorica (Calcium fluoride) 12X]                                                      |\n",
      "|[UNDA 312]                                                                                            |[Active ingredients Each drop contains: Angelica archangelica (European angelica) Root 6X Drosera (Sundew) Whole Plant 6X Grindelia (Gum-plant) Aerial Parts 6X Lamium album (Dead nettle) Aerial Parts 6X Pinus sylvestris (Scotch pine) Shoots 6X Rubus fruticosus (Shrubby blackberry) Leaf 6X Senega officinalis (Snakeroot) Root 6X, Active ingredients Each drop contains equal parts of: Berberis vulgaris (Barberry) Bark 4X Calcarea fluorica (Calcium fluoride) 12X]                                                      |\n",
      "|[Lil Drug Store Headache Relief Extra Strength]                                                       |[Active ingredients (in each caplet) Purposes Acetaminophen 250 mg Pain reliever Aspirin 250 mg (NSAID) nonsteroidal anti-inflammatory drug Pain reliever Caffeine 65 mg Pain reliever aid]                                                                                                                                                                                                                                                                                                                                         |\n",
      "|[THE SOF FLUID LONG WEAR FOUNDATION BROAD SPECTRUM SPF 20]                                            |[Active Ingredients Octinoxate 7.5% Titanium dioxide 1.9%]                                                                                                                                                                                                                                                                                                                                                                                                                                                                          |\n",
      "|[Light Illusion Luminous Makeup Nude-Skin Feel all day wear broad spectrum spf18 sunscreen Caramel M5]|[Bottle Back Label 02 Bottle Back Label 02, Bottle Back Label 03 Bottle Back Label 03, Bottle Back Label 04 Bottle Back Label 04, Bottle Back Label 06 Bottle Back Label 06, Bottle Back Label 07 Bottle Back Label 07, Bottle Back Label 08 Bottle Back Label 08, Bottle Back Label 09 Bottle Back Label 09, Bottle Back Label 10 Bottle Back Label 10, Bottle Back Label 11 Bottle Back Label 11, Bottle Back Label 12 Bottle Back Label 12, Bottle Back Label 01 Bottle Back Label 01, Bottle Back Label 05 Bottle Back Label 05]|\n",
      "|[Light Illusion Luminous Makeup Nude-Skin Feel all day wear broad spectrum spf18 sunscreen Caramel M5]|[Bottle Back Label 02 Bottle Back Label 02, Bottle Back Label 03 Bottle Back Label 03, Bottle Back Label 04 Bottle Back Label 04, Bottle Back Label 06 Bottle Back Label 06, Bottle Back Label 07 Bottle Back Label 07, Bottle Back Label 08 Bottle Back Label 08, Bottle Back Label 09 Bottle Back Label 09, Bottle Back Label 10 Bottle Back Label 10, Bottle Back Label 11 Bottle Back Label 11, Bottle Back Label 12 Bottle Back Label 12, Bottle Back Label 01 Bottle Back Label 01, Bottle Back Label 05 Bottle Back Label 05]|\n",
      "|[Light Illusion Luminous Makeup Nude-Skin Feel all day wear broad spectrum spf18 sunscreen Caramel M5]|[Bottle Back Label 02 Bottle Back Label 02, Bottle Back Label 03 Bottle Back Label 03, Bottle Back Label 04 Bottle Back Label 04, Bottle Back Label 06 Bottle Back Label 06, Bottle Back Label 07 Bottle Back Label 07, Bottle Back Label 08 Bottle Back Label 08, Bottle Back Label 09 Bottle Back Label 09, Bottle Back Label 10 Bottle Back Label 10, Bottle Back Label 11 Bottle Back Label 11, Bottle Back Label 12 Bottle Back Label 12, Bottle Back Label 01 Bottle Back Label 01, Bottle Back Label 05 Bottle Back Label 05]|\n",
      "+------------------------------------------------------------------------------------------------------+------------------------------------------------------------------------------------------------------------------------------------------------------------------------------------------------------------------------------------------------------------------------------------------------------------------------------------------------------------------------------------------------------------------------------------------------------------------------------------------------------------------------------------+\n",
      "only showing top 10 rows\n",
      "\n"
     ]
    }
   ],
   "source": [
    "from pyspark.sql import functions as F\n",
    "\n",
    "df_brand_api = df.withColumn(\"brand_api\", F.explode(F.arrays_zip(\"openfda.brand_name\", \"active_ingredient\")))\\\n",
    "    .select(\"openfda.brand_name\", \"active_ingredient\")\n",
    "\n",
    "df_brand_api.show(10,truncate=False)"
   ]
  },
  {
   "cell_type": "code",
   "execution_count": 64,
   "metadata": {},
   "outputs": [
    {
     "data": {
      "text/plain": [
       "['brand_name', 'active_ingredient']"
      ]
     },
     "execution_count": 64,
     "metadata": {},
     "output_type": "execute_result"
    }
   ],
   "source": [
    "df_brand_api.columns"
   ]
  },
  {
   "cell_type": "code",
   "execution_count": 57,
   "metadata": {},
   "outputs": [
    {
     "name": "stdout",
     "output_type": "stream",
     "text": [
      "Here is another one --> 'Lil Drug Store Headache Relief Extra Strength'\n",
      "Here is another one --> 'ADVIL DUAL ACTION WITH ACETAMINOPHEN'\n",
      "Here is another one --> 'Medique Pain Off'\n",
      "Here is another one --> 'Excedrin PM Triple Action Caplets'\n",
      "Here is another one --> 'Physicians Care Extra Strength Pain Reliever'\n",
      "Here is another one --> 'Headache Relief Extra Strength'\n",
      "Here is another one --> 'EXTRA STRENGTH HEADACHE RELIEF'\n",
      "Here is another one --> 'Headache Relief Extra Strength'\n",
      "Here is another one --> 'Extra Strength Headache Relief'\n",
      "Here is another one --> 'Headache Relief Extra Strength'\n",
      "Here is another one --> 'health mart migraine relief'\n",
      "Here is another one --> 'Excedrin Extra Strength'\n",
      "Here is another one --> 'Excedrin Migraine Geltabs'\n",
      "Here is another one --> 'Headache Relief'\n",
      "Here is another one --> 'Cove Migraine Relief'\n",
      "Here is another one --> 'Quality Choice Pain Relief Powder'\n",
      "Here is another one --> 'Quality Choice Pain Relief Powder'\n",
      "Here is another one --> 'Alka-Seltzer Hangover Relief'\n",
      "Here is another one --> 'dg health migraine relief'\n",
      "Here is another one --> 'Handy Solutions Headache Pain Relief'\n"
     ]
    }
   ],
   "source": [
    "from flashtext import KeywordProcessor\n",
    "keyword_processor = KeywordProcessor()\n",
    "import ast\n",
    "my_api_lookup = ['Acetaminophen 250 mg', 'Aspirin 250 mg (NSAID)','Caffeine 65 mg']\n",
    "[keyword_processor.add_keyword(x) for x in my_api_lookup]\n",
    "\n",
    "for brand, api in df_brand_api.select(\"brand_name\",\"active_ingredient\").collect():\n",
    "    current_brand = str(brand).replace('[','').replace(']','')\n",
    "    current_api = str(api).replace('[','').replace(']','')\n",
    "    if len(keyword_processor.extract_keywords(str(current_api))) != 0:\n",
    "           print(f\"Here is another one --> {current_brand}\")\n"
   ]
  },
  {
   "cell_type": "markdown",
   "metadata": {},
   "source": [
    "# All ingredients are present"
   ]
  },
  {
   "cell_type": "code",
   "execution_count": 60,
   "metadata": {},
   "outputs": [
    {
     "name": "stdout",
     "output_type": "stream",
     "text": [
      "Here is another one --> 'Lil Drug Store Headache Relief Extra Strength'\n",
      "Here is another one --> 'Headache Relief Extra Strength'\n",
      "Here is another one --> 'EXTRA STRENGTH HEADACHE RELIEF'\n",
      "Here is another one --> 'Headache Relief Extra Strength'\n",
      "Here is another one --> 'Headache Relief Extra Strength'\n",
      "Here is another one --> 'Headache Relief'\n"
     ]
    }
   ],
   "source": [
    "from flashtext import KeywordProcessor\n",
    "keyword_processor = KeywordProcessor()\n",
    "import ast\n",
    "my_api_lookup = ['Acetaminophen 250 mg', 'Aspirin 250 mg (NSAID)','Caffeine 65 mg']\n",
    "[keyword_processor.add_keyword(x) for x in my_api_lookup]\n",
    "\n",
    "for brand, api in df_brand_api.select(\"brand_name\",\"active_ingredient\").collect():\n",
    "    current_brand = str(brand).replace('[','').replace(']','')\n",
    "    current_api = str(api).replace('[','').replace(']','')\n",
    "    if (set(my_api_lookup).issubset(set(keyword_processor.extract_keywords(str(current_api))))):\n",
    "           print(f\"Here is another one --> {current_brand}\")\n"
   ]
  },
  {
   "cell_type": "markdown",
   "metadata": {},
   "source": [
    "# Openfda - Out of reach of children"
   ]
  },
  {
   "cell_type": "code",
   "execution_count": 8,
   "metadata": {},
   "outputs": [
    {
     "data": {
      "text/plain": [
       "[['Keep out of reach of children. If swallowed, get medical help or contact a Poison Control Center (1-800-222-1222) right away.'],\n",
       " ['Keep out of reach of children. If product is swallowed, get medical help or contact a Poison Control Center right away.'],\n",
       " ['Keep out of reach of children. If more than used for brushing is accidentally swallowed, get medical help or contact a Poison Control Center right away.'],\n",
       " ['Keep out of reach of children.', 'Keep out of reach of children.'],\n",
       " ['Keep out of reach of children. In case of overdose, get medical help or contact a Poison Control Center right away. Quick medical attention is critical for adults as well as for children even if you do not notice any signs or symptoms.'],\n",
       " ['KEEP OUT OF REACH OF CHILDREN SECTION AS WITH ALL MEDICATIONS, KEEP OUT OF REACH OF CHILDREM'],\n",
       " ['Keep out of reach of children. If product is swallowed, get medical help or contact a Poison Control Center right away .'],\n",
       " ['KEEP OUT OF REACH OF THE CHILDREN'],\n",
       " ['Keep out of reach of children. If swallowed, get medical help or contact a Poison Control Center right away.'],\n",
       " ['Keep out of reach of children.',\n",
       "  'Keep out of reach of children.',\n",
       "  'Keep out of reach of children.',\n",
       "  'Keep out of reach of children.',\n",
       "  'Keep out of reach of children.']]"
      ]
     },
     "execution_count": 8,
     "metadata": {},
     "output_type": "execute_result"
    }
   ],
   "source": [
    "import ast\n",
    "mylist = [ast.literal_eval(str(row[\"keep_out_of_reach_of_children\"])) for row in df.select(\"keep_out_of_reach_of_children\").collect() if row[\"keep_out_of_reach_of_children\"] is not None]\n",
    "mylist[0:10]"
   ]
  },
  {
   "cell_type": "markdown",
   "metadata": {},
   "source": [
    "# Openfda - UPC, Brand and Manufacturer\n",
    "- General hierarchy is Manufacturer(1) -> Brand (n) -> UPC (n) i.e 1-many-many relationship"
   ]
  },
  {
   "cell_type": "code",
   "execution_count": 9,
   "metadata": {},
   "outputs": [
    {
     "name": "stdout",
     "output_type": "stream",
     "text": [
      "+---------------------------+---------------------------------------------+---------------------------------------------+\n",
      "|manufacturer_name          |brand_name                                   |upc                                          |\n",
      "+---------------------------+---------------------------------------------+---------------------------------------------+\n",
      "|[Walmart, Inc.]            |[Equate Lubricant Eye Drops]                 |[0681131107099]                              |\n",
      "|[SpecGx LLC]               |[ACETAMINOPHEN AND CODEINE PHOSPHATE]        |[0304060484108, 0304060483019, 0304060485051]|\n",
      "|[SpecGx LLC]               |[ACETAMINOPHEN AND CODEINE PHOSPHATE]        |[0304060484108, 0304060483019, 0304060485051]|\n",
      "|[SpecGx LLC]               |[ACETAMINOPHEN AND CODEINE PHOSPHATE]        |[0304060484108, 0304060483019, 0304060485051]|\n",
      "|[ANI Pharmaceuticals, Inc.]|[Esterified Estrogens and Methyltestosterone]|[0362559149013, 0362559150019]               |\n",
      "+---------------------------+---------------------------------------------+---------------------------------------------+\n",
      "only showing top 5 rows\n",
      "\n"
     ]
    }
   ],
   "source": [
    "from pyspark.sql import functions as F\n",
    "\n",
    "df1 = df.withColumn(\"manufacturer_brand_upc\", F.explode(F.arrays_zip(\"openfda.manufacturer_name\", \"openfda.brand_name\",\"openfda.upc\")))\\\n",
    "    .select(\"openfda.manufacturer_name\", \"openfda.brand_name\",\"openfda.upc\")\n",
    "\n",
    "df1.show(5,truncate=False)"
   ]
  },
  {
   "cell_type": "code",
   "execution_count": 10,
   "metadata": {},
   "outputs": [
    {
     "name": "stdout",
     "output_type": "stream",
     "text": [
      "+---------------------------------+\n",
      "|count(DISTINCT manufacturer_name)|\n",
      "+---------------------------------+\n",
      "|                             1096|\n",
      "+---------------------------------+\n",
      "\n"
     ]
    }
   ],
   "source": [
    "from pyspark.sql.functions import countDistinct\n",
    "df1.select(countDistinct(\"manufacturer_name\")).show()"
   ]
  },
  {
   "cell_type": "code",
   "execution_count": 11,
   "metadata": {},
   "outputs": [
    {
     "data": {
      "text/plain": [
       "1096"
      ]
     },
     "execution_count": 11,
     "metadata": {},
     "output_type": "execute_result"
    }
   ],
   "source": [
    "import ast\n",
    "mylist = [ast.literal_eval(str(row[\"manufacturer_name\"])) for row in df1.select(\"manufacturer_name\").collect() if row[\"manufacturer_name\"] is not None]\n",
    "flat_list = [item for sublist in mylist for item in sublist]\n",
    "flat_list = list(set(flat_list)) # remove duplicates\n",
    "len(flat_list)"
   ]
  },
  {
   "cell_type": "markdown",
   "metadata": {},
   "source": [
    "# Check if manufacturer array has more than 1 item - should not "
   ]
  },
  {
   "cell_type": "code",
   "execution_count": 66,
   "metadata": {},
   "outputs": [],
   "source": [
    "for sublist in mylist:\n",
    "    if len(sublist) > 1:\n",
    "        print(sublist)"
   ]
  },
  {
   "cell_type": "markdown",
   "metadata": {},
   "source": [
    "### count Openfda - brands and upcs"
   ]
  },
  {
   "cell_type": "code",
   "execution_count": 13,
   "metadata": {},
   "outputs": [
    {
     "name": "stdout",
     "output_type": "stream",
     "text": [
      "+---------------------------+---------------------------------------------+---------------------------------------------+-----------+---------+\n",
      "|manufacturer_name          |brand_name                                   |upc                                          |brand_count|upc_count|\n",
      "+---------------------------+---------------------------------------------+---------------------------------------------+-----------+---------+\n",
      "|[Walmart, Inc.]            |[Equate Lubricant Eye Drops]                 |[0681131107099]                              |1          |1        |\n",
      "|[SpecGx LLC]               |[ACETAMINOPHEN AND CODEINE PHOSPHATE]        |[0304060484108, 0304060483019, 0304060485051]|1          |3        |\n",
      "|[SpecGx LLC]               |[ACETAMINOPHEN AND CODEINE PHOSPHATE]        |[0304060484108, 0304060483019, 0304060485051]|1          |3        |\n",
      "|[SpecGx LLC]               |[ACETAMINOPHEN AND CODEINE PHOSPHATE]        |[0304060484108, 0304060483019, 0304060485051]|1          |3        |\n",
      "|[ANI Pharmaceuticals, Inc.]|[Esterified Estrogens and Methyltestosterone]|[0362559149013, 0362559150019]               |1          |2        |\n",
      "+---------------------------+---------------------------------------------+---------------------------------------------+-----------+---------+\n",
      "only showing top 5 rows\n",
      "\n"
     ]
    }
   ],
   "source": [
    "from pyspark.sql.functions import col, udf\n",
    "from pyspark.sql.types import StringType\n",
    "\n",
    "def count_brand(brand_array):\n",
    "    if brand_array is not None:\n",
    "        return len(ast.literal_eval(str(brand_array)))\n",
    "    else:\n",
    "        return 0\n",
    "    \n",
    "def count_upc(upc_array):\n",
    "    if upc_array is not None:\n",
    "        return len(ast.literal_eval(str(upc_array)))\n",
    "    else:\n",
    "        return 0\n",
    "\n",
    "count_brand_udf = udf(lambda z: count_brand(z))\n",
    "count_upc_udf = udf(lambda z: count_upc(z))\n",
    "\n",
    "df1 = df1.withColumn(\"brand_count\", count_brand_udf(col(\"brand_name\")))\n",
    "df1 = df1.withColumn(\"upc_count\", count_upc_udf(col(\"upc\")))\n",
    "df1.show(5, truncate=False)"
   ]
  },
  {
   "cell_type": "markdown",
   "metadata": {},
   "source": [
    "# This proves that manufacturer-brand is also 1:1\n",
    "- i.e. manufacturer_name(1) -> brand_name(1) -> upc(n) is the association i.e. 1-1-many relationship"
   ]
  },
  {
   "cell_type": "code",
   "execution_count": 14,
   "metadata": {},
   "outputs": [
    {
     "name": "stdout",
     "output_type": "stream",
     "text": [
      "+-----------------+----------+---+-----------+---------+\n",
      "|manufacturer_name|brand_name|upc|brand_count|upc_count|\n",
      "+-----------------+----------+---+-----------+---------+\n",
      "+-----------------+----------+---+-----------+---------+\n",
      "\n"
     ]
    }
   ],
   "source": [
    "df1.filter(df1.brand_count > 1).show()"
   ]
  },
  {
   "cell_type": "code",
   "execution_count": 15,
   "metadata": {},
   "outputs": [
    {
     "name": "stdout",
     "output_type": "stream",
     "text": [
      "+--------------------+--------------------+--------------------+-----------+---------+\n",
      "|   manufacturer_name|          brand_name|                 upc|brand_count|upc_count|\n",
      "+--------------------+--------------------+--------------------+-----------+---------+\n",
      "|        [SpecGx LLC]|[ACETAMINOPHEN AN...|[0304060484108, 0...|          1|        3|\n",
      "|        [SpecGx LLC]|[ACETAMINOPHEN AN...|[0304060484108, 0...|          1|        3|\n",
      "|        [SpecGx LLC]|[ACETAMINOPHEN AN...|[0304060484108, 0...|          1|        3|\n",
      "|[ANI Pharmaceutic...|[Esterified Estro...|[0362559149013, 0...|          1|        2|\n",
      "|[ANI Pharmaceutic...|[Esterified Estro...|[0362559149013, 0...|          1|        2|\n",
      "|[Mylan Pharmaceut...|[Bisoprolol Fumar...|[0303780505018, 0...|          1|        3|\n",
      "|[Mylan Pharmaceut...|[Bisoprolol Fumar...|[0303780505018, 0...|          1|        3|\n",
      "|[Mylan Pharmaceut...|[Bisoprolol Fumar...|[0303780505018, 0...|          1|        3|\n",
      "|    [Cipla USA Inc.]|[omeprazole sodiu...|[0369097914028, 0...|          1|        2|\n",
      "|    [Cipla USA Inc.]|[omeprazole sodiu...|[0369097914028, 0...|          1|        2|\n",
      "|[Lupin Pharmaceut...|      [Azithromycin]|[0343386470600, 0...|          1|        2|\n",
      "|[Lupin Pharmaceut...|      [Azithromycin]|[0343386470600, 0...|          1|        2|\n",
      "|[ScieGen Pharmace...|        [Gabapentin]|[0350228177306, 0...|          1|       13|\n",
      "|[ScieGen Pharmace...|        [Gabapentin]|[0350228177306, 0...|          1|       13|\n",
      "|[ScieGen Pharmace...|        [Gabapentin]|[0350228177306, 0...|          1|       13|\n",
      "|[ScieGen Pharmace...|        [Gabapentin]|[0350228177306, 0...|          1|       13|\n",
      "|[ScieGen Pharmace...|        [Gabapentin]|[0350228177306, 0...|          1|       13|\n",
      "|[ScieGen Pharmace...|        [Gabapentin]|[0350228177306, 0...|          1|       13|\n",
      "|[ScieGen Pharmace...|        [Gabapentin]|[0350228177306, 0...|          1|       13|\n",
      "|[ScieGen Pharmace...|        [Gabapentin]|[0350228177306, 0...|          1|       13|\n",
      "+--------------------+--------------------+--------------------+-----------+---------+\n",
      "only showing top 20 rows\n",
      "\n"
     ]
    }
   ],
   "source": [
    "df1.filter(df1.upc_count > 1).show()"
   ]
  },
  {
   "cell_type": "code",
   "execution_count": 16,
   "metadata": {},
   "outputs": [
    {
     "data": {
      "text/plain": [
       "3861"
      ]
     },
     "execution_count": 16,
     "metadata": {},
     "output_type": "execute_result"
    }
   ],
   "source": [
    "df1.count()"
   ]
  },
  {
   "cell_type": "code",
   "execution_count": 17,
   "metadata": {},
   "outputs": [
    {
     "data": {
      "text/plain": [
       "2692"
      ]
     },
     "execution_count": 17,
     "metadata": {},
     "output_type": "execute_result"
    }
   ],
   "source": [
    "df1.distinct().count() #can apply dropDuplicates() too"
   ]
  },
  {
   "cell_type": "code",
   "execution_count": 18,
   "metadata": {},
   "outputs": [
    {
     "name": "stdout",
     "output_type": "stream",
     "text": [
      "+-------------------------------------------------------------+------------------------------------------------------------------+------------------------------------------------------------------------------------------------------------------------------------------------------+-----------+---------+\n",
      "|manufacturer_name                                            |brand_name                                                        |upc                                                                                                                                                   |brand_count|upc_count|\n",
      "+-------------------------------------------------------------+------------------------------------------------------------------+------------------------------------------------------------------------------------------------------------------------------------------------------+-----------+---------+\n",
      "|[Walmart, Inc.]                                              |[Equate Lubricant Eye Drops]                                      |[0681131107099]                                                                                                                                       |1          |1        |\n",
      "|[Alembic Pharmaceuticals Inc.]                               |[Losartan Potassium and Hydrochlorothiazide]                      |[0362332049301, 0362332050307, 0362332048304]                                                                                                         |1          |3        |\n",
      "|[Padagis Israel Pharmaceuticals Ltd]                         |[Alogliptin and Pioglitazone]                                     |[0345802304650, 0345802499653, 0345802260659, 0345802238658, 0345802402653, 0345802351654]                                                            |1          |6        |\n",
      "|[Camber Pharmaceuticals, Inc.]                               |[Hydrocodone Bitartrate and Acetaminophen]                        |[0331722941013, 0331722942010, 0331722940016, 0331722943017]                                                                                          |1          |4        |\n",
      "|[Amneal Pharmaceuticals LLC]                                 |[Imatinib Mesylate]                                               |[0365162794038, 0365162795035]                                                                                                                        |1          |2        |\n",
      "|[Rising Pharma Holdings, Inc.]                               |[Topiramate]                                                      |[0316571706068, 0316571705061]                                                                                                                        |1          |2        |\n",
      "|[ARAMIS INC.]                                                |[ARAMIS 24 HOUR HIGH PERFORMANCE ANTIPERSPIRANT]                  |[0022548057063]                                                                                                                                       |1          |1        |\n",
      "|[Pharmacia and Upjohn Company]                               |[Provera]                                                         |[0300090064044, 0300090050023]                                                                                                                        |1          |2        |\n",
      "|[Honeywell Safety Products USA, INC]                         |[4193 First Aid Kit]                                              |[0364809450337, 0821812011851, 0669635351019]                                                                                                         |1          |3        |\n",
      "|[ARMY AND AIR FORCE EXCHANGE SERVICE]                        |[Allergy Multi-Symptom]                                           |[0614299401280]                                                                                                                                       |1          |1        |\n",
      "|[Fougera Pharmaceuticals Inc.]                               |[Lidocaine]                                                       |[0301680204376]                                                                                                                                       |1          |1        |\n",
      "|[Edgewell Personal Care Brands LLC]                          |[Banana Boat Sport coolzone Clear Sunscreen Broad Spectrum SPF 30]|[0079656030587, 0079656051407, 0079656083323, 0079656000399, 0079656051643]                                                                           |1          |5        |\n",
      "|[Akorn]                                                      |[Pilocarpine Hydrochloride]                                       |[0317478226123, 0317478224129, 0317478223122]                                                                                                         |1          |3        |\n",
      "|[Bayshore Pharmaceuticals, LLC]                              |[Diphenoxylate Hydrochloride and Atropine Sulfate]                |[0376385107017]                                                                                                                                       |1          |1        |\n",
      "|[Advagen Pharma Limited]                                     |[Metoprolol Tartrate]                                             |[0372888004006, 0372888006017, 0372888004013, 0372888101057, 0372888006000, 0372888101019, 0372888023014, 0372888005003, 0372888023052, 0372888005010]|1          |10       |\n",
      "|[Akorn]                                                      |[Gentak]                                                          |[0317478284352]                                                                                                                                       |1          |1        |\n",
      "|[Glenmark Pharmaceuticals Inc., USA]                         |[levonorgestrel and ethinyl estradiol]                            |[0368462672952]                                                                                                                                       |1          |1        |\n",
      "|[Borden Company (Private) Limited]                           |[Eagle Medicated Oil Refreshing]                                  |[8888951886117]                                                                                                                                       |1          |1        |\n",
      "|[Fuzhou Meimei Environmental Protection Technology Co., Ltd.]|[Electrolyzed-oxidizing Water Disinfectant]                       |[6972694570739, 6972694570784, 6972694570760, 6972694570746, 6972694570777, 6972694570753]                                                            |1          |6        |\n",
      "|[Actavis Pharma, Inc.]                                       |[Methylphenidate Hydrochloride]                                   |[0362037726019, 0362037734014, 0362037727016, 0362037725012]                                                                                          |1          |4        |\n",
      "+-------------------------------------------------------------+------------------------------------------------------------------+------------------------------------------------------------------------------------------------------------------------------------------------------+-----------+---------+\n",
      "only showing top 20 rows\n",
      "\n"
     ]
    }
   ],
   "source": [
    "df2 = df1.dropDuplicates()\n",
    "df2.show(truncate=False)"
   ]
  },
  {
   "cell_type": "markdown",
   "metadata": {},
   "source": [
    "# Get pyspark pandas DF (pyspark pandas api df is distributed whereas pandas df is not)"
   ]
  },
  {
   "cell_type": "code",
   "execution_count": 19,
   "metadata": {},
   "outputs": [],
   "source": [
    "import pyspark.pandas as ps\n",
    "ps_df = ps.DataFrame(df2)"
   ]
  },
  {
   "cell_type": "code",
   "execution_count": 24,
   "metadata": {},
   "outputs": [],
   "source": [
    "ps_df[\"upc_count\"] = ps.to_numeric(ps_df[\"upc_count\"])\n",
    "ps_df[\"brand_count\"] = ps.to_numeric(ps_df[\"brand_count\"])"
   ]
  },
  {
   "cell_type": "code",
   "execution_count": 25,
   "metadata": {},
   "outputs": [
    {
     "data": {
      "text/html": [
       "<iframe\n",
       "    scrolling=\"no\"\n",
       "    width=\"100%\"\n",
       "    height=\"545px\"\n",
       "    src=\"iframe_figures/figure_25.html\"\n",
       "    frameborder=\"0\"\n",
       "    allowfullscreen\n",
       "></iframe>\n"
      ]
     },
     "metadata": {},
     "output_type": "display_data"
    }
   ],
   "source": [
    "# Do the below if jupyterlab doesn't render the image\n",
    "import plotly.io as pio\n",
    "pio.renderers.default = 'iframe' # or 'iframe' or 'notebook' or 'colab' or 'jupyterlab'\n",
    "\n",
    "ps_df[\"upc_count\"].plot.hist(bins=10)"
   ]
  },
  {
   "cell_type": "markdown",
   "metadata": {},
   "source": [
    "## Get Openfda - brands and upcs for manufacturers"
   ]
  },
  {
   "cell_type": "code",
   "execution_count": 24,
   "metadata": {},
   "outputs": [],
   "source": [
    "ps_df_group = ps_df.groupby(['manufacturer_name']).agg({\"brand_count\":\"sum\",\"upc_count\":\"sum\"}).reset_index()"
   ]
  },
  {
   "cell_type": "code",
   "execution_count": 25,
   "metadata": {},
   "outputs": [
    {
     "data": {
      "text/html": [
       "<div>\n",
       "<style scoped>\n",
       "    .dataframe tbody tr th:only-of-type {\n",
       "        vertical-align: middle;\n",
       "    }\n",
       "\n",
       "    .dataframe tbody tr th {\n",
       "        vertical-align: top;\n",
       "    }\n",
       "\n",
       "    .dataframe thead th {\n",
       "        text-align: right;\n",
       "    }\n",
       "</style>\n",
       "<table border=\"1\" class=\"dataframe\">\n",
       "  <thead>\n",
       "    <tr style=\"text-align: right;\">\n",
       "      <th></th>\n",
       "      <th>manufacturer_name</th>\n",
       "      <th>brand_count</th>\n",
       "      <th>upc_count</th>\n",
       "    </tr>\n",
       "  </thead>\n",
       "  <tbody>\n",
       "    <tr>\n",
       "      <th>0</th>\n",
       "      <td>[Padagis Israel Pharmaceuticals Ltd]</td>\n",
       "      <td>2.0</td>\n",
       "      <td>7.0</td>\n",
       "    </tr>\n",
       "    <tr>\n",
       "      <th>1</th>\n",
       "      <td>[Rising Pharma Holdings, Inc.]</td>\n",
       "      <td>4.0</td>\n",
       "      <td>9.0</td>\n",
       "    </tr>\n",
       "    <tr>\n",
       "      <th>2</th>\n",
       "      <td>[Pharmacia and Upjohn Company]</td>\n",
       "      <td>1.0</td>\n",
       "      <td>2.0</td>\n",
       "    </tr>\n",
       "    <tr>\n",
       "      <th>3</th>\n",
       "      <td>[Edgewell Personal Care Brands LLC]</td>\n",
       "      <td>8.0</td>\n",
       "      <td>16.0</td>\n",
       "    </tr>\n",
       "    <tr>\n",
       "      <th>4</th>\n",
       "      <td>[Dash Pharmaceuticals LLC]</td>\n",
       "      <td>1.0</td>\n",
       "      <td>2.0</td>\n",
       "    </tr>\n",
       "  </tbody>\n",
       "</table>\n",
       "</div>"
      ],
      "text/plain": [
       "                      manufacturer_name  brand_count  upc_count\n",
       "0  [Padagis Israel Pharmaceuticals Ltd]          2.0        7.0\n",
       "1        [Rising Pharma Holdings, Inc.]          4.0        9.0\n",
       "2        [Pharmacia and Upjohn Company]          1.0        2.0\n",
       "3   [Edgewell Personal Care Brands LLC]          8.0       16.0\n",
       "4            [Dash Pharmaceuticals LLC]          1.0        2.0"
      ]
     },
     "execution_count": 25,
     "metadata": {},
     "output_type": "execute_result"
    }
   ],
   "source": [
    "ps_df_group.head(5)"
   ]
  },
  {
   "cell_type": "code",
   "execution_count": 26,
   "metadata": {},
   "outputs": [
    {
     "data": {
      "text/plain": [
       "1096"
      ]
     },
     "execution_count": 26,
     "metadata": {},
     "output_type": "execute_result"
    }
   ],
   "source": [
    "ps_df_group[\"manufacturer_name\"].count()"
   ]
  },
  {
   "cell_type": "markdown",
   "metadata": {},
   "source": [
    "### brand_count and upc_count correlation"
   ]
  },
  {
   "cell_type": "code",
   "execution_count": null,
   "metadata": {},
   "outputs": [
    {
     "data": {
      "text/html": [
       "<iframe\n",
       "    scrolling=\"no\"\n",
       "    width=\"100%\"\n",
       "    height=\"545px\"\n",
       "    src=\"iframe_figures/figure_29.html\"\n",
       "    frameborder=\"0\"\n",
       "    allowfullscreen\n",
       "></iframe>\n"
      ]
     },
     "metadata": {},
     "output_type": "display_data"
    }
   ],
   "source": [
    "# Do the below if jupyterlab doesn't render the image\n",
    "import plotly.io as pio\n",
    "pio.renderers.default = 'iframe' # or 'iframe' or 'notebook' or 'colab' or 'jupyterlab'\n",
    "ps_df_group.plot.bar(x=\"brand_count\",y=\"upc_count\")"
   ]
  },
  {
   "cell_type": "markdown",
   "metadata": {},
   "source": [
    "### manufacturer_name and brand_count bars"
   ]
  },
  {
   "cell_type": "code",
   "execution_count": 35,
   "metadata": {},
   "outputs": [
    {
     "name": "stderr",
     "output_type": "stream",
     "text": [
      "/usr/local/lib/python3.7/site-packages/pyspark/pandas/utils.py:975: PandasAPIOnSparkAdviceWarning:\n",
      "\n",
      "`to_pandas` loads all data into the driver's memory. It should only be used if the resulting pandas DataFrame is expected to be small.\n",
      "\n"
     ]
    },
    {
     "data": {
      "text/html": [
       "<div>\n",
       "<style scoped>\n",
       "    .dataframe tbody tr th:only-of-type {\n",
       "        vertical-align: middle;\n",
       "    }\n",
       "\n",
       "    .dataframe tbody tr th {\n",
       "        vertical-align: top;\n",
       "    }\n",
       "\n",
       "    .dataframe thead th {\n",
       "        text-align: right;\n",
       "    }\n",
       "</style>\n",
       "<table border=\"1\" class=\"dataframe\">\n",
       "  <thead>\n",
       "    <tr style=\"text-align: right;\">\n",
       "      <th></th>\n",
       "      <th>manufacturer_name</th>\n",
       "      <th>brand_count</th>\n",
       "      <th>upc_count</th>\n",
       "    </tr>\n",
       "  </thead>\n",
       "  <tbody>\n",
       "    <tr>\n",
       "      <th>0</th>\n",
       "      <td>[Padagis Israel Pharmaceuticals Ltd]</td>\n",
       "      <td>2.0</td>\n",
       "      <td>7.0</td>\n",
       "    </tr>\n",
       "    <tr>\n",
       "      <th>1</th>\n",
       "      <td>[Rising Pharma Holdings, Inc.]</td>\n",
       "      <td>4.0</td>\n",
       "      <td>9.0</td>\n",
       "    </tr>\n",
       "    <tr>\n",
       "      <th>2</th>\n",
       "      <td>[Pharmacia and Upjohn Company]</td>\n",
       "      <td>1.0</td>\n",
       "      <td>2.0</td>\n",
       "    </tr>\n",
       "    <tr>\n",
       "      <th>3</th>\n",
       "      <td>[Edgewell Personal Care Brands LLC]</td>\n",
       "      <td>8.0</td>\n",
       "      <td>16.0</td>\n",
       "    </tr>\n",
       "    <tr>\n",
       "      <th>4</th>\n",
       "      <td>[Dash Pharmaceuticals LLC]</td>\n",
       "      <td>1.0</td>\n",
       "      <td>2.0</td>\n",
       "    </tr>\n",
       "    <tr>\n",
       "      <th>...</th>\n",
       "      <td>...</td>\n",
       "      <td>...</td>\n",
       "      <td>...</td>\n",
       "    </tr>\n",
       "    <tr>\n",
       "      <th>1091</th>\n",
       "      <td>[NV Perricone LLC]</td>\n",
       "      <td>1.0</td>\n",
       "      <td>1.0</td>\n",
       "    </tr>\n",
       "    <tr>\n",
       "      <th>1092</th>\n",
       "      <td>[Publix Super Markets Inc]</td>\n",
       "      <td>1.0</td>\n",
       "      <td>1.0</td>\n",
       "    </tr>\n",
       "    <tr>\n",
       "      <th>1093</th>\n",
       "      <td>[Quallent Pharmaceuticals Health LLC]</td>\n",
       "      <td>1.0</td>\n",
       "      <td>1.0</td>\n",
       "    </tr>\n",
       "    <tr>\n",
       "      <th>1094</th>\n",
       "      <td>[Novartis Pharmaceuticals Corporation]</td>\n",
       "      <td>1.0</td>\n",
       "      <td>1.0</td>\n",
       "    </tr>\n",
       "    <tr>\n",
       "      <th>1095</th>\n",
       "      <td>[NICETY SOLUTIONS LLC]</td>\n",
       "      <td>1.0</td>\n",
       "      <td>1.0</td>\n",
       "    </tr>\n",
       "  </tbody>\n",
       "</table>\n",
       "<p>1096 rows × 3 columns</p>\n",
       "</div>"
      ],
      "text/plain": [
       "                           manufacturer_name  brand_count  upc_count\n",
       "0       [Padagis Israel Pharmaceuticals Ltd]          2.0        7.0\n",
       "1             [Rising Pharma Holdings, Inc.]          4.0        9.0\n",
       "2             [Pharmacia and Upjohn Company]          1.0        2.0\n",
       "3        [Edgewell Personal Care Brands LLC]          8.0       16.0\n",
       "4                 [Dash Pharmaceuticals LLC]          1.0        2.0\n",
       "...                                      ...          ...        ...\n",
       "1091                      [NV Perricone LLC]          1.0        1.0\n",
       "1092              [Publix Super Markets Inc]          1.0        1.0\n",
       "1093   [Quallent Pharmaceuticals Health LLC]          1.0        1.0\n",
       "1094  [Novartis Pharmaceuticals Corporation]          1.0        1.0\n",
       "1095                  [NICETY SOLUTIONS LLC]          1.0        1.0\n",
       "\n",
       "[1096 rows x 3 columns]"
      ]
     },
     "execution_count": 35,
     "metadata": {},
     "output_type": "execute_result"
    }
   ],
   "source": [
    "ps_df_group_pandas = ps_df_group.to_pandas()\n",
    "ps_df_group_pandas"
   ]
  },
  {
   "cell_type": "code",
   "execution_count": 38,
   "metadata": {},
   "outputs": [
    {
     "data": {
      "text/plain": [
       "<AxesSubplot:xlabel='manufacturer_name'>"
      ]
     },
     "execution_count": 38,
     "metadata": {},
     "output_type": "execute_result"
    },
    {
     "data": {
      "image/png": "[encoded data removed]",
      "text/plain": [
       "<Figure size 432x288 with 1 Axes>"
      ]
     },
     "metadata": {
      "needs_background": "light"
     },
     "output_type": "display_data"
    }
   ],
   "source": [
    "ps_df_group_pandas[0:10].plot.bar(x=\"manufacturer_name\",y=\"brand_count\")"
   ]
  },
  {
   "cell_type": "markdown",
   "metadata": {},
   "source": [
    "### manufacturer and brand_count"
   ]
  },
  {
   "cell_type": "code",
   "execution_count": 44,
   "metadata": {},
   "outputs": [
    {
     "data": {
      "text/html": [
       "<iframe\n",
       "    scrolling=\"no\"\n",
       "    width=\"100%\"\n",
       "    height=\"545px\"\n",
       "    src=\"iframe_figures/figure_44.html\"\n",
       "    frameborder=\"0\"\n",
       "    allowfullscreen\n",
       "></iframe>\n"
      ]
     },
     "metadata": {},
     "output_type": "display_data"
    }
   ],
   "source": [
    "# Do the below if jupyterlab doesn't render the image\n",
    "import plotly.io as pio\n",
    "pio.renderers.default = 'iframe' # or 'iframe' or 'notebook' or 'colab' or 'jupyterlab'\n",
    "\n",
    "ps_df_group[0:2].plot.bar(x=\"manufacturer_name\",y=\"brand_count\")"
   ]
  },
  {
   "cell_type": "code",
   "execution_count": null,
   "metadata": {},
   "outputs": [],
   "source": [
    "spark.stop()"
   ]
  }
 ],
 "metadata": {
  "kernelspec": {
   "display_name": "Python 3",
   "language": "python",
   "name": "python3"
  },
  "language_info": {
   "codemirror_mode": {
    "name": "ipython",
    "version": 3
   },
   "file_extension": ".py",
   "mimetype": "text/x-python",
   "name": "python",
   "nbconvert_exporter": "python",
   "pygments_lexer": "ipython3",
   "version": "3.7.9"
  }
 },
 "nbformat": 4,
 "nbformat_minor": 4
}
