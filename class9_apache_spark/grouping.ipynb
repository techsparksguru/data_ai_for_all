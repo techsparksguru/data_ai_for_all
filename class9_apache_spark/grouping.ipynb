{
 "cells": [
  {
   "cell_type": "markdown",
   "metadata": {},
   "source": [
    "# Data Analysis"
   ]
  },
  {
   "cell_type": "code",
   "execution_count": null,
   "metadata": {},
   "outputs": [],
   "source": [
    "# Below variables are to be set in the shell profile\n",
    "# export SPARK_HOME=/Users/pmacharl/spark-2.4.4-bin-hadoop2.7\n",
    "# export PATH=$PATH:$SPARK_HOME/bin\n",
    "# export PYSPARK_SUBMIT_ARGS=\"pyspark-shell\"\n",
    "# export PYSPARK_DRIVER_PYTHON=/usr/local/bin/python3\n",
    "# export PYSPARK_PYTHON=/usr/local/bin/python3"
   ]
  },
  {
   "cell_type": "markdown",
   "metadata": {},
   "source": [
    "# Start cluster manually"
   ]
  },
  {
   "cell_type": "code",
   "execution_count": null,
   "metadata": {},
   "outputs": [],
   "source": [
    "# https://spark.apache.org/docs/latest/spark-standalone.html\n",
    "# ./sbin/start-master.sh \n",
    "# Start your spark server by navigating to SPARK_HOME/sbin and executing ./start-all.sh\n",
    "# By default web Spark UI serves on :8080 in cluster mode. See all options for setting host, ip etc. in documentation"
   ]
  },
  {
   "cell_type": "code",
   "execution_count": 4,
   "metadata": {},
   "outputs": [],
   "source": [
    "from pyspark.sql import SparkSession\n",
    "from pyspark.conf import SparkConf\n",
    "# https://spark.apache.org/docs/latest/api/python/pyspark.html#pyspark.SparkConf\n",
    "config = SparkConf()\n",
    "config.set(\"spark.driver.memory\", \"2g\")\n",
    "config.set(\"spark.executor.memory\", \"1g\")\n",
    "spark = SparkSession.builder.config(conf=config).master(\"spark://192.168.0.6:7077\").appName(\"Analyzing Real Estate Sales\").getOrCreate()"
   ]
  },
  {
   "cell_type": "code",
   "execution_count": 5,
   "metadata": {},
   "outputs": [],
   "source": [
    "df = spark.read.format('csv').option(\"header\", \"true\").load('../Real_Estate_Sales_2001-2017.csv')"
   ]
  },
  {
   "cell_type": "code",
   "execution_count": 6,
   "metadata": {},
   "outputs": [
    {
     "name": "stdout",
     "output_type": "stream",
     "text": [
      "root\n",
      " |-- ID: string (nullable = true)\n",
      " |-- SerialNumber: string (nullable = true)\n",
      " |-- ListYear: string (nullable = true)\n",
      " |-- DateRecorded: string (nullable = true)\n",
      " |-- Town: string (nullable = true)\n",
      " |-- Address: string (nullable = true)\n",
      " |-- AssessedValue: string (nullable = true)\n",
      " |-- SaleAmount: string (nullable = true)\n",
      " |-- SalesRatio: string (nullable = true)\n",
      " |-- PropertyType: string (nullable = true)\n",
      " |-- ResidentialType: string (nullable = true)\n",
      " |-- NonUseCode: string (nullable = true)\n",
      " |-- Remarks: string (nullable = true)\n",
      "\n"
     ]
    }
   ],
   "source": [
    "df.printSchema()"
   ]
  },
  {
   "cell_type": "markdown",
   "metadata": {},
   "source": [
    "# Get total counts of properties transacted by ListYear"
   ]
  },
  {
   "cell_type": "code",
   "execution_count": 7,
   "metadata": {},
   "outputs": [
    {
     "name": "stdout",
     "output_type": "stream",
     "text": [
      "+--------+---------+\n",
      "|ListYear|count(ID)|\n",
      "+--------+---------+\n",
      "|    2016|    49773|\n",
      "|    2012|    35973|\n",
      "|    2017|    45692|\n",
      "|    2014|    49563|\n",
      "|    2013|    39943|\n",
      "|    2005|    61602|\n",
      "|    2002|   106068|\n",
      "|    2009|    42508|\n",
      "|    2006|    48775|\n",
      "|    2004|    84056|\n",
      "|    2011|    31065|\n",
      "|    2008|    32734|\n",
      "|    2007|    35616|\n",
      "|    2015|    46651|\n",
      "|    2001|    59584|\n",
      "|    2010|    27755|\n",
      "|    2003|    64239|\n",
      "+--------+---------+\n",
      "\n"
     ]
    }
   ],
   "source": [
    "property_by_year = df.groupBy(\"ListYear\").agg({\"ID\":\"count\"})\n",
    "property_by_year.show()"
   ]
  },
  {
   "cell_type": "markdown",
   "metadata": {},
   "source": [
    "# How much money got transacted by PropertyType"
   ]
  },
  {
   "cell_type": "code",
   "execution_count": 16,
   "metadata": {},
   "outputs": [
    {
     "name": "stdout",
     "output_type": "stream",
     "text": [
      "+--------------+------------------+\n",
      "|  PropertyType|   sum(SaleAmount)|\n",
      "+--------------+------------------+\n",
      "|    Apartments|     6.679886858E9|\n",
      "|   Vacant Land|     8.648986096E9|\n",
      "|            NA|     2.237281744E9|\n",
      "|   Residential|2.0461496626929E11|\n",
      "|          null|   1.7968785803E10|\n",
      "|    Industrial|     3.698454639E9|\n",
      "|         Condo|    2.530141781E10|\n",
      "|Public Utility|       2.9632347E7|\n",
      "|10 Mill Forest|         1830160.0|\n",
      "|    Commercial|   3.0602284248E10|\n",
      "+--------------+------------------+\n",
      "\n",
      "0:00:01.052141\n"
     ]
    }
   ],
   "source": [
    "df.groupBy(\"PropertyType\").agg({\"SaleAmount\":\"sum\"}).show()"
   ]
  },
  {
   "cell_type": "markdown",
   "metadata": {},
   "source": [
    "# Rename column"
   ]
  },
  {
   "cell_type": "code",
   "execution_count": 18,
   "metadata": {},
   "outputs": [
    {
     "name": "stdout",
     "output_type": "stream",
     "text": [
      "+--------------+--------------------+\n",
      "|  PropertyType|TotalMoneyTransacted|\n",
      "+--------------+--------------------+\n",
      "|    Apartments|       6.679886858E9|\n",
      "|   Vacant Land|       8.648986096E9|\n",
      "|            NA|       2.237281744E9|\n",
      "|   Residential|  2.0461496626929E11|\n",
      "|          null|     1.7968785803E10|\n",
      "|    Industrial|       3.698454639E9|\n",
      "|         Condo|      2.530141781E10|\n",
      "|Public Utility|         2.9632347E7|\n",
      "|10 Mill Forest|           1830160.0|\n",
      "|    Commercial|     3.0602284248E10|\n",
      "+--------------+--------------------+\n",
      "\n"
     ]
    }
   ],
   "source": [
    "df.groupBy(\"PropertyType\").agg({\"SaleAmount\":\"sum\"}).withColumnRenamed(\"sum(SaleAmount)\",\"TotalMoneyTransacted\").show()"
   ]
  },
  {
   "cell_type": "markdown",
   "metadata": {},
   "source": [
    "# Time your code to check efficiency"
   ]
  },
  {
   "cell_type": "code",
   "execution_count": 20,
   "metadata": {},
   "outputs": [
    {
     "name": "stdout",
     "output_type": "stream",
     "text": [
      "+--------------+------------------+\n",
      "|  PropertyType|   sum(SaleAmount)|\n",
      "+--------------+------------------+\n",
      "|    Apartments|     6.679886858E9|\n",
      "|   Vacant Land|     8.648986096E9|\n",
      "|            NA|     2.237281744E9|\n",
      "|   Residential|2.0461496626929E11|\n",
      "|          null|   1.7968785803E10|\n",
      "|    Industrial|     3.698454639E9|\n",
      "|         Condo|    2.530141781E10|\n",
      "|Public Utility|       2.9632347E7|\n",
      "|10 Mill Forest|         1830160.0|\n",
      "|    Commercial|   3.0602284248E10|\n",
      "+--------------+------------------+\n",
      "\n",
      "+--------------+------------------+\n",
      "|  PropertyType|   sum(SaleAmount)|\n",
      "+--------------+------------------+\n",
      "|    Apartments|     6.679886858E9|\n",
      "|   Vacant Land|     8.648986096E9|\n",
      "|            NA|     2.237281744E9|\n",
      "|   Residential|2.0461496626929E11|\n",
      "|          null|   1.7968785803E10|\n",
      "|    Industrial|     3.698454639E9|\n",
      "|         Condo|    2.530141781E10|\n",
      "|Public Utility|       2.9632347E7|\n",
      "|10 Mill Forest|         1830160.0|\n",
      "|    Commercial|   3.0602284248E10|\n",
      "+--------------+------------------+\n",
      "\n",
      "+--------------+------------------+\n",
      "|  PropertyType|   sum(SaleAmount)|\n",
      "+--------------+------------------+\n",
      "|    Apartments|     6.679886858E9|\n",
      "|   Vacant Land|     8.648986096E9|\n",
      "|            NA|     2.237281744E9|\n",
      "|   Residential|2.0461496626929E11|\n",
      "|          null|   1.7968785803E10|\n",
      "|    Industrial|     3.698454639E9|\n",
      "|         Condo|    2.530141781E10|\n",
      "|Public Utility|       2.9632347E7|\n",
      "|10 Mill Forest|         1830160.0|\n",
      "|    Commercial|   3.0602284248E10|\n",
      "+--------------+------------------+\n",
      "\n",
      "+--------------+------------------+\n",
      "|  PropertyType|   sum(SaleAmount)|\n",
      "+--------------+------------------+\n",
      "|    Apartments|     6.679886858E9|\n",
      "|   Vacant Land|     8.648986096E9|\n",
      "|            NA|     2.237281744E9|\n",
      "|   Residential|2.0461496626929E11|\n",
      "|          null|   1.7968785803E10|\n",
      "|    Industrial|     3.698454639E9|\n",
      "|         Condo|    2.530141781E10|\n",
      "|Public Utility|       2.9632347E7|\n",
      "|10 Mill Forest|         1830160.0|\n",
      "|    Commercial|   3.0602284248E10|\n",
      "+--------------+------------------+\n",
      "\n",
      "+--------------+------------------+\n",
      "|  PropertyType|   sum(SaleAmount)|\n",
      "+--------------+------------------+\n",
      "|    Apartments|     6.679886858E9|\n",
      "|   Vacant Land|     8.648986096E9|\n",
      "|            NA|     2.237281744E9|\n",
      "|   Residential|2.0461496626929E11|\n",
      "|          null|   1.7968785803E10|\n",
      "|    Industrial|     3.698454639E9|\n",
      "|         Condo|    2.530141781E10|\n",
      "|Public Utility|       2.9632347E7|\n",
      "|10 Mill Forest|         1830160.0|\n",
      "|    Commercial|   3.0602284248E10|\n",
      "+--------------+------------------+\n",
      "\n",
      "+--------------+------------------+\n",
      "|  PropertyType|   sum(SaleAmount)|\n",
      "+--------------+------------------+\n",
      "|    Apartments|     6.679886858E9|\n",
      "|   Vacant Land|     8.648986096E9|\n",
      "|            NA|     2.237281744E9|\n",
      "|   Residential|2.0461496626929E11|\n",
      "|          null|   1.7968785803E10|\n",
      "|    Industrial|     3.698454639E9|\n",
      "|         Condo|    2.530141781E10|\n",
      "|Public Utility|       2.9632347E7|\n",
      "|10 Mill Forest|         1830160.0|\n",
      "|    Commercial|   3.0602284248E10|\n",
      "+--------------+------------------+\n",
      "\n",
      "+--------------+------------------+\n",
      "|  PropertyType|   sum(SaleAmount)|\n",
      "+--------------+------------------+\n",
      "|    Apartments|     6.679886858E9|\n",
      "|   Vacant Land|     8.648986096E9|\n",
      "|            NA|     2.237281744E9|\n",
      "|   Residential|2.0461496626929E11|\n",
      "|          null|   1.7968785803E10|\n",
      "|    Industrial|     3.698454639E9|\n",
      "|         Condo|    2.530141781E10|\n",
      "|Public Utility|       2.9632347E7|\n",
      "|10 Mill Forest|         1830160.0|\n",
      "|    Commercial|   3.0602284248E10|\n",
      "+--------------+------------------+\n",
      "\n",
      "+--------------+------------------+\n",
      "|  PropertyType|   sum(SaleAmount)|\n",
      "+--------------+------------------+\n",
      "|    Apartments|     6.679886858E9|\n",
      "|   Vacant Land|     8.648986096E9|\n",
      "|            NA|     2.237281744E9|\n",
      "|   Residential|2.0461496626929E11|\n",
      "|          null|   1.7968785803E10|\n",
      "|    Industrial|     3.698454639E9|\n",
      "|         Condo|    2.530141781E10|\n",
      "|Public Utility|       2.9632347E7|\n",
      "|10 Mill Forest|         1830160.0|\n",
      "|    Commercial|   3.0602284248E10|\n",
      "+--------------+------------------+\n",
      "\n",
      "974 ms ± 88.3 ms per loop (mean ± std. dev. of 7 runs, 1 loop each)\n"
     ]
    }
   ],
   "source": [
    "# %%timeit Use this magic function if you want mean execution time, but beware it runs the code multiple times\n",
    "from datetime import datetime\n",
    "start = datetime.now()\n",
    "\n",
    "df.groupBy(\"PropertyType\").agg({\"SaleAmount\":\"sum\"}).show()\n",
    "\n",
    "print(\"{0}\".format(datetime.now() - start))"
   ]
  },
  {
   "cell_type": "markdown",
   "metadata": {},
   "source": [
    "# Remove spark application"
   ]
  },
  {
   "cell_type": "code",
   "execution_count": 21,
   "metadata": {},
   "outputs": [],
   "source": [
    "spark.stop()"
   ]
  }
 ],
 "metadata": {
  "kernelspec": {
   "display_name": "Python 3",
   "language": "python",
   "name": "python3"
  },
  "language_info": {
   "codemirror_mode": {
    "name": "ipython",
    "version": 3
   },
   "file_extension": ".py",
   "mimetype": "text/x-python",
   "name": "python",
   "nbconvert_exporter": "python",
   "pygments_lexer": "ipython3",
   "version": "3.7.5"
  }
 },
 "nbformat": 4,
 "nbformat_minor": 4
}
