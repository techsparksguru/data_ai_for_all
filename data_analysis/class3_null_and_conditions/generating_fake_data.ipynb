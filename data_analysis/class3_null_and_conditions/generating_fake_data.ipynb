{
 "cells": [
  {
   "cell_type": "markdown",
   "metadata": {},
   "source": [
    "# Using Faker to generate fake data\n",
    "- https://faker.readthedocs.io/en/stable/"
   ]
  },
  {
   "cell_type": "code",
   "execution_count": null,
   "metadata": {},
   "outputs": [],
   "source": [
    "!pip3 install Faker==4.1.1"
   ]
  },
  {
   "cell_type": "code",
   "execution_count": null,
   "metadata": {},
   "outputs": [],
   "source": [
    "import pandas as pd\n",
    "df = pd.read_parquet(\"./techsparks_candidate_table_dataset_2.parquet\")\n",
    "df"
   ]
  },
  {
   "cell_type": "code",
   "execution_count": null,
   "metadata": {},
   "outputs": [],
   "source": [
    "df_sample = df.sample(1000)"
   ]
  },
  {
   "cell_type": "code",
   "execution_count": null,
   "metadata": {},
   "outputs": [],
   "source": [
    "df_sample[df_sample['candidate_id'].str.contains(\"@\")]"
   ]
  },
  {
   "cell_type": "code",
   "execution_count": null,
   "metadata": {},
   "outputs": [],
   "source": [
    "from faker import Faker\n",
    "fake = Faker()\n",
    "import random\n",
    "\n",
    "def replace_fake_emails(val):\n",
    "    if \"@\" in val:\n",
    "        return fake.email()\n",
    "    else:\n",
    "        return val\n",
    "\n",
    "def phone_number(val):\n",
    "    if str(val).isnumeric():\n",
    "        return fake.phone_number()\n",
    "    else:\n",
    "        return val\n",
    "\n",
    "def random_integer_candidate_type(val):\n",
    "    return random.randint(1,100)\n",
    "\n",
    "def random_integer_job_id(val):\n",
    "    return random.randint(10000,99999)\n",
    "    \n",
    "    \n",
    "df['candidate_id'] = df['candidate_id'].apply(replace_fake_emails)\n",
    "df['candidate_id'] = df['candidate_id'].apply(phone_number)\n",
    "df['job_id'] = df['job_id'].apply(random_integer_job_id)\n",
    "df['candidate_type'] = df['candidate_type'].apply(random_integer_candidate_type)"
   ]
  },
  {
   "cell_type": "code",
   "execution_count": null,
   "metadata": {},
   "outputs": [],
   "source": [
    "df"
   ]
  },
  {
   "cell_type": "code",
   "execution_count": null,
   "metadata": {},
   "outputs": [],
   "source": [
    "df.to_parquet(\"./techsparks_candidate_table_dataset_2.parquet\")"
   ]
  }
 ],
 "metadata": {
  "kernelspec": {
   "display_name": "Python 3",
   "language": "python",
   "name": "python3"
  },
  "language_info": {
   "codemirror_mode": {
    "name": "ipython",
    "version": 3
   },
   "file_extension": ".py",
   "mimetype": "text/x-python",
   "name": "python",
   "nbconvert_exporter": "python",
   "pygments_lexer": "ipython3",
   "version": "3.8.5"
  }
 },
 "nbformat": 4,
 "nbformat_minor": 4
}
