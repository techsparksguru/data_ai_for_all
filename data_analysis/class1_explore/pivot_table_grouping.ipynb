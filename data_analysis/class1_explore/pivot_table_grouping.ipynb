{
 "cells": [
  {
   "cell_type": "markdown",
   "metadata": {},
   "source": [
    "# Load Data"
   ]
  },
  {
   "cell_type": "code",
   "execution_count": 24,
   "metadata": {},
   "outputs": [
    {
     "data": {
      "text/html": [
       "<div>\n",
       "<style scoped>\n",
       "    .dataframe tbody tr th:only-of-type {\n",
       "        vertical-align: middle;\n",
       "    }\n",
       "\n",
       "    .dataframe tbody tr th {\n",
       "        vertical-align: top;\n",
       "    }\n",
       "\n",
       "    .dataframe thead th {\n",
       "        text-align: right;\n",
       "    }\n",
       "</style>\n",
       "<table border=\"1\" class=\"dataframe\">\n",
       "  <thead>\n",
       "    <tr style=\"text-align: right;\">\n",
       "      <th></th>\n",
       "      <th>Retailer</th>\n",
       "      <th>PercentagePoints</th>\n",
       "      <th>Units</th>\n",
       "      <th>Date</th>\n",
       "    </tr>\n",
       "  </thead>\n",
       "  <tbody>\n",
       "    <tr>\n",
       "      <th>0</th>\n",
       "      <td>Amazon</td>\n",
       "      <td>0.844994</td>\n",
       "      <td>19</td>\n",
       "      <td>08/11/2020</td>\n",
       "    </tr>\n",
       "    <tr>\n",
       "      <th>1</th>\n",
       "      <td>More</td>\n",
       "      <td>0.912953</td>\n",
       "      <td>69</td>\n",
       "      <td>08/29/2020</td>\n",
       "    </tr>\n",
       "    <tr>\n",
       "      <th>2</th>\n",
       "      <td>Reliance</td>\n",
       "      <td>0.677285</td>\n",
       "      <td>66</td>\n",
       "      <td>08/20/2020</td>\n",
       "    </tr>\n",
       "    <tr>\n",
       "      <th>3</th>\n",
       "      <td>Reliance</td>\n",
       "      <td>0.202650</td>\n",
       "      <td>11</td>\n",
       "      <td>08/24/2020</td>\n",
       "    </tr>\n",
       "    <tr>\n",
       "      <th>4</th>\n",
       "      <td>Reliance</td>\n",
       "      <td>0.692599</td>\n",
       "      <td>64</td>\n",
       "      <td>08/03/2020</td>\n",
       "    </tr>\n",
       "    <tr>\n",
       "      <th>...</th>\n",
       "      <td>...</td>\n",
       "      <td>...</td>\n",
       "      <td>...</td>\n",
       "      <td>...</td>\n",
       "    </tr>\n",
       "    <tr>\n",
       "      <th>21778</th>\n",
       "      <td>Amazon</td>\n",
       "      <td>0.279162</td>\n",
       "      <td>64</td>\n",
       "      <td>08/23/2020</td>\n",
       "    </tr>\n",
       "    <tr>\n",
       "      <th>21779</th>\n",
       "      <td>Walmart</td>\n",
       "      <td>0.809386</td>\n",
       "      <td>37</td>\n",
       "      <td>08/18/2020</td>\n",
       "    </tr>\n",
       "    <tr>\n",
       "      <th>21780</th>\n",
       "      <td>FlipKart</td>\n",
       "      <td>0.335272</td>\n",
       "      <td>76</td>\n",
       "      <td>08/20/2020</td>\n",
       "    </tr>\n",
       "    <tr>\n",
       "      <th>21781</th>\n",
       "      <td>Nilgiris</td>\n",
       "      <td>0.687438</td>\n",
       "      <td>86</td>\n",
       "      <td>08/13/2020</td>\n",
       "    </tr>\n",
       "    <tr>\n",
       "      <th>21782</th>\n",
       "      <td>Reliance</td>\n",
       "      <td>0.189497</td>\n",
       "      <td>13</td>\n",
       "      <td>08/27/2020</td>\n",
       "    </tr>\n",
       "  </tbody>\n",
       "</table>\n",
       "<p>21783 rows × 4 columns</p>\n",
       "</div>"
      ],
      "text/plain": [
       "       Retailer  PercentagePoints  Units        Date\n",
       "0        Amazon          0.844994     19  08/11/2020\n",
       "1          More          0.912953     69  08/29/2020\n",
       "2      Reliance          0.677285     66  08/20/2020\n",
       "3      Reliance          0.202650     11  08/24/2020\n",
       "4      Reliance          0.692599     64  08/03/2020\n",
       "...         ...               ...    ...         ...\n",
       "21778    Amazon          0.279162     64  08/23/2020\n",
       "21779   Walmart          0.809386     37  08/18/2020\n",
       "21780  FlipKart          0.335272     76  08/20/2020\n",
       "21781  Nilgiris          0.687438     86  08/13/2020\n",
       "21782  Reliance          0.189497     13  08/27/2020\n",
       "\n",
       "[21783 rows x 4 columns]"
      ]
     },
     "execution_count": 24,
     "metadata": {},
     "output_type": "execute_result"
    }
   ],
   "source": [
    "import glob, os, pandas as pd\n",
    "cols_to_read = ['Date','Retailer','PercentagePoints','Units']\n",
    "\n",
    "df = pd.read_excel(\"./data/consolidated.xlsx\")\n",
    "df.drop(df.columns.difference(cols_to_read), 1, inplace=True) # Drop all columns except cols_to_read\n",
    "df"
   ]
  },
  {
   "cell_type": "markdown",
   "metadata": {},
   "source": [
    "# Counts - All"
   ]
  },
  {
   "cell_type": "code",
   "execution_count": null,
   "metadata": {},
   "outputs": [],
   "source": [
    "df.groupby(['Retailer'])['Retailer'].count()"
   ]
  },
  {
   "cell_type": "markdown",
   "metadata": {},
   "source": [
    "# Pivot Table"
   ]
  },
  {
   "cell_type": "code",
   "execution_count": null,
   "metadata": {},
   "outputs": [],
   "source": [
    "import pandas as pd\n",
    "df_pivot_table = pd.pivot_table(df,index=[\"Date\",\"Retailer\"], values=\"PercentagePoints\", aggfunc=['count'], fill_value=0)"
   ]
  },
  {
   "cell_type": "code",
   "execution_count": null,
   "metadata": {},
   "outputs": [],
   "source": [
    "df_pivot_table"
   ]
  },
  {
   "cell_type": "code",
   "execution_count": null,
   "metadata": {},
   "outputs": [],
   "source": [
    "df_pivot_table.groupby(['Date']).plot(kind='bar')"
   ]
  }
 ],
 "metadata": {
  "kernelspec": {
   "display_name": "Python 3",
   "language": "python",
   "name": "python3"
  },
  "language_info": {
   "codemirror_mode": {
    "name": "ipython",
    "version": 3
   },
   "file_extension": ".py",
   "mimetype": "text/x-python",
   "name": "python",
   "nbconvert_exporter": "python",
   "pygments_lexer": "ipython3",
   "version": "3.8.5"
  }
 },
 "nbformat": 4,
 "nbformat_minor": 4
}
