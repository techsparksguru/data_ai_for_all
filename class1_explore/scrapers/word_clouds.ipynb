{
 "cells": [
  {
   "cell_type": "markdown",
   "metadata": {},
   "source": [
    "# Generate Word Clouds\n",
    "- Data Analytics, Data Science, Data Analysis\n",
    "- Basic WordCloud, Custom, Fancier\n",
    "- Execute this notebook from command line \n",
    "    - `jupyter nbconvert --no-input --execute --ExecutePreprocessor.timeout=180 --to html --template basic word_clouds.ipynb`\n",
    "    - `jupyter nbconvert --no-input --execute --ExecutePreprocessor.timeout=180 --to html --template=nbextensions  word_clouds.ipynb` - nbextensions template for suppressing code output. Read more [here](https://jupyter-contrib-nbextensions.readthedocs.io/en/latest/exporting.html)"
   ]
  },
  {
   "cell_type": "markdown",
   "metadata": {},
   "source": [
    "# Data Analytics"
   ]
  },
  {
   "cell_type": "code",
   "execution_count": null,
   "metadata": {},
   "outputs": [],
   "source": [
    "# Import packages\n",
    "import wikipedia\n",
    "import re# Specify the title of the Wikipedia page\n",
    "wiki = wikipedia.page('Data Analytics')# Extract the plain text content of the page\n",
    "text = wiki.content# Clean text\n",
    "text = re.sub(r'==.*?==+', '', text)\n",
    "text = text.replace('\\n', '')\n",
    "\n",
    "import matplotlib.pyplot as plt\n",
    "%matplotlib widget\n",
    "# Import package\n",
    "from wordcloud import WordCloud, STOPWORDS# Generate word cloud\n",
    "wordcloud = WordCloud(width = 3000, height = 2000, random_state=1, background_color='salmon', colormap='Pastel1', collocations=False, stopwords = STOPWORDS).generate(text)# Plot\n",
    "\n",
    "plt.figure(figsize=(5, 5))\n",
    "# Display image\n",
    "plt.imshow(wordcloud) \n",
    "# No axis details\n",
    "plt.axis(\"off\");"
   ]
  },
  {
   "cell_type": "code",
   "execution_count": null,
   "metadata": {},
   "outputs": [],
   "source": [
    "# Import packages\n",
    "import wikipedia\n",
    "import re# Specify the title of the Wikipedia page\n",
    "wiki = wikipedia.page('Data Analytics')# Extract the plain text content of the page\n",
    "text = wiki.content# Clean text\n",
    "text = re.sub(r'==.*?==+', '', text)\n",
    "text = text.replace('\\n', '')\n",
    "\n",
    "import matplotlib.pyplot as plt\n",
    "%matplotlib widget\n",
    "# Import package\n",
    "from wordcloud import WordCloud, STOPWORDS# Generate word cloud\n",
    "# Generate wordcloud\n",
    "wordcloud = WordCloud(width = 3000, height = 2000, random_state=1, background_color='black', colormap='Set2', collocations=False, stopwords = STOPWORDS).generate(text)\n",
    "\n",
    "plt.figure(figsize=(5, 5))\n",
    "# Display image\n",
    "plt.imshow(wordcloud) \n",
    "# No axis details\n",
    "plt.axis(\"off\");"
   ]
  },
  {
   "cell_type": "markdown",
   "metadata": {},
   "source": [
    "# Cloud frame"
   ]
  },
  {
   "cell_type": "code",
   "execution_count": null,
   "metadata": {},
   "outputs": [],
   "source": [
    "# Import packages\n",
    "import wikipedia\n",
    "import re# Specify the title of the Wikipedia page\n",
    "wiki = wikipedia.page('Data Analytics')# Extract the plain text content of the page\n",
    "text = wiki.content# Clean text\n",
    "text = re.sub(r'==.*?==+', '', text)\n",
    "text = text.replace('\\n', '')\n",
    "\n",
    "import matplotlib.pyplot as plt\n",
    "%matplotlib inline\n",
    "# Import package\n",
    "from wordcloud import WordCloud, STOPWORDS# Generate word cloud\n",
    "# Generate wordcloud\n",
    "\n",
    "from PIL import Image\n",
    "import numpy as np\n",
    "mask = np.array(Image.open('cloud_white_background.png'))\n",
    "\n",
    "\n",
    "wordcloud = WordCloud(width = 3000, height = 2000, random_state=1, background_color='white', colormap='rainbow', collocations=False, stopwords = STOPWORDS, mask=mask).generate(text)\n",
    "plt.figure(figsize=(5, 5))\n",
    "# Display image\n",
    "plt.imshow(wordcloud) \n",
    "# No axis details\n",
    "plt.axis(\"off\");"
   ]
  },
  {
   "cell_type": "code",
   "execution_count": null,
   "metadata": {},
   "outputs": [],
   "source": [
    "# Import packages\n",
    "import wikipedia\n",
    "import re# Specify the title of the Wikipedia page\n",
    "wiki = wikipedia.page('Data Analytics')# Extract the plain text content of the page\n",
    "text = wiki.content# Clean text\n",
    "text = re.sub(r'==.*?==+', '', text)\n",
    "text = text.replace('\\n', '')\n",
    "\n",
    "import matplotlib.pyplot as plt\n",
    "%matplotlib inline\n",
    "# Import package\n",
    "from wordcloud import WordCloud, STOPWORDS# Generate word cloud\n",
    "# Generate wordcloud\n",
    "\n",
    "from PIL import Image\n",
    "import numpy as np\n",
    "mask = np.array(Image.open('comment_white_background.png'))\n",
    "\n",
    "\n",
    "wordcloud = WordCloud(width = 3000, height = 2000, random_state=1, background_color='white', colormap='rainbow', collocations=False, stopwords = STOPWORDS, mask=mask).generate(text)\n",
    "plt.figure(figsize=(5, 5))\n",
    "# Display image\n",
    "plt.imshow(wordcloud) \n",
    "# No axis details\n",
    "plt.axis(\"off\");"
   ]
  },
  {
   "cell_type": "markdown",
   "metadata": {},
   "source": [
    "# Data Science"
   ]
  },
  {
   "cell_type": "code",
   "execution_count": null,
   "metadata": {},
   "outputs": [],
   "source": [
    "# Import packages\n",
    "import wikipedia\n",
    "import re# Specify the title of the Wikipedia page\n",
    "wiki = wikipedia.page('Data Science')# Extract the plain text content of the page\n",
    "text = wiki.content# Clean text\n",
    "text = re.sub(r'==.*?==+', '', text)\n",
    "text = text.replace('\\n', '')\n",
    "\n",
    "import matplotlib.pyplot as plt\n",
    "%matplotlib inline\n",
    "# Import package\n",
    "from wordcloud import WordCloud, STOPWORDS# Generate word cloud\n",
    "# Generate wordcloud\n",
    "\n",
    "wordcloud = WordCloud(width = 3000, height = 2000, random_state=1, background_color='black', colormap='Set2', collocations=False, stopwords = STOPWORDS).generate(text)\n",
    "plt.figure(figsize=(5, 5))\n",
    "# Display image\n",
    "plt.imshow(wordcloud) \n",
    "# No axis details\n",
    "plt.axis(\"off\");"
   ]
  },
  {
   "cell_type": "markdown",
   "metadata": {},
   "source": [
    "# Data Analysis"
   ]
  },
  {
   "cell_type": "code",
   "execution_count": null,
   "metadata": {},
   "outputs": [],
   "source": [
    "# Import packages\n",
    "import wikipedia\n",
    "import re# Specify the title of the Wikipedia page\n",
    "wiki = wikipedia.page('Data Analysis')# Extract the plain text content of the page\n",
    "text = wiki.content# Clean text\n",
    "text = re.sub(r'==.*?==+', '', text)\n",
    "text = text.replace('\\n', '')\n",
    "\n",
    "import matplotlib.pyplot as plt\n",
    "%matplotlib inline\n",
    "# Import package\n",
    "from wordcloud import WordCloud, STOPWORDS# Generate word cloud\n",
    "# Generate wordcloud\n",
    "\n",
    "wordcloud = WordCloud(width = 3000, height = 2000, random_state=1, background_color='black', colormap='Set2', collocations=False, stopwords = STOPWORDS).generate(text)\n",
    "plt.figure(figsize=(5, 5))\n",
    "# Display image\n",
    "plt.imshow(wordcloud) \n",
    "# No axis details\n",
    "plt.axis(\"off\");"
   ]
  },
  {
   "cell_type": "markdown",
   "metadata": {},
   "source": [
    "### Data Analysis vs. Data Science vs. Data Analytics vs. Data Engineering"
   ]
  },
  {
   "cell_type": "code",
   "execution_count": null,
   "metadata": {},
   "outputs": [],
   "source": [
    "# Import packages\n",
    "import wikipedia\n",
    "import re# Specify the title of the Wikipedia page\n",
    "my_keywords = ['Data Analysis','Data Science','Data Engineering', 'Data Analytics']\n",
    "\n",
    "consolidated_text = \"\"\n",
    "for keyword in my_keywords:\n",
    "    wiki = wikipedia.page('Data Analysis')# Extract the plain text content of the page\n",
    "    text = wiki.content# Clean text\n",
    "    text = re.sub(r'==.*?==+', '', text)\n",
    "    text = text.replace('\\n', '')\n",
    "    consolidated_text += text\n",
    "\n",
    "import matplotlib.pyplot as plt\n",
    "%matplotlib inline\n",
    "# Import package\n",
    "from wordcloud import WordCloud, STOPWORDS# Generate word cloud\n",
    "# Generate wordcloud\n",
    "\n",
    "wordcloud = WordCloud(width = 3000, height = 2000, random_state=1, background_color='black', colormap='Set2', collocations=False, stopwords = STOPWORDS).generate(consolidated_text)\n",
    "plt.figure(figsize=(5, 5))\n",
    "# Display image\n",
    "plt.imshow(wordcloud) \n",
    "# No axis details\n",
    "plt.axis(\"off\");"
   ]
  }
 ],
 "metadata": {
  "kernelspec": {
   "display_name": "Python 3",
   "language": "python",
   "name": "python3"
  },
  "language_info": {
   "codemirror_mode": {
    "name": "ipython",
    "version": 3
   },
   "file_extension": ".py",
   "mimetype": "text/x-python",
   "name": "python",
   "nbconvert_exporter": "python",
   "pygments_lexer": "ipython3",
   "version": "3.8.5"
  }
 },
 "nbformat": 4,
 "nbformat_minor": 4
}
