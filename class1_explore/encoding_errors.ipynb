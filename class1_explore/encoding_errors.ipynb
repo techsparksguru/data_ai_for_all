{
 "cells": [
  {
   "cell_type": "markdown",
   "metadata": {},
   "source": [
    "# Use the right encoding (how to know)\n",
    "- Determine the encoding of the file (Correctly detecting the encoding all times is impossible. See this [stackoverflow post](https://stackoverflow.com/questions/436220/how-to-determine-the-encoding-of-text))\n",
    "- Python libraries exist: [chardet](https://pypi.org/project/chardet/), [python-magic](https://pypi.org/project/python-magic/), [UnicodeDammit](https://www.crummy.com/software/BeautifulSoup/bs4/doc/#unicode-dammit)\n",
    "- There can be gotchas for e.g. libmagic (which is OS dependency) needs to be installed for python-magic to work, as it depends on that (For macOSX, `brew install libmagic`)\n",
    "- [Pandas documentation](https://docs.python.org/3/library/codecs.html#standard-encodings) refers to encoding - https://docs.python.org/3/library/codecs.html#standard-encodings"
   ]
  },
  {
   "cell_type": "code",
   "execution_count": 1,
   "metadata": {},
   "outputs": [
    {
     "ename": "UnicodeDecodeError",
     "evalue": "'utf-8' codec can't decode byte 0xa0 in position 4: invalid start byte",
     "output_type": "error",
     "traceback": [
      "\u001b[0;31m---------------------------------------------------------------------------\u001b[0m",
      "\u001b[0;31mUnicodeDecodeError\u001b[0m                        Traceback (most recent call last)",
      "\u001b[0;32mpandas/_libs/parsers.pyx\u001b[0m in \u001b[0;36mpandas._libs.parsers.TextReader._convert_tokens\u001b[0;34m()\u001b[0m\n",
      "\u001b[0;32mpandas/_libs/parsers.pyx\u001b[0m in \u001b[0;36mpandas._libs.parsers.TextReader._convert_with_dtype\u001b[0;34m()\u001b[0m\n",
      "\u001b[0;32mpandas/_libs/parsers.pyx\u001b[0m in \u001b[0;36mpandas._libs.parsers.TextReader._string_convert\u001b[0;34m()\u001b[0m\n",
      "\u001b[0;32mpandas/_libs/parsers.pyx\u001b[0m in \u001b[0;36mpandas._libs.parsers._string_box_utf8\u001b[0;34m()\u001b[0m\n",
      "\u001b[0;31mUnicodeDecodeError\u001b[0m: 'utf-8' codec can't decode byte 0xa0 in position 4: invalid start byte",
      "\nDuring handling of the above exception, another exception occurred:\n",
      "\u001b[0;31mUnicodeDecodeError\u001b[0m                        Traceback (most recent call last)",
      "\u001b[0;32m<ipython-input-1-1c7b3c99965f>\u001b[0m in \u001b[0;36m<module>\u001b[0;34m\u001b[0m\n\u001b[1;32m      1\u001b[0m \u001b[0;32mimport\u001b[0m \u001b[0mpandas\u001b[0m \u001b[0;32mas\u001b[0m \u001b[0mpd\u001b[0m\u001b[0;34m\u001b[0m\u001b[0;34m\u001b[0m\u001b[0m\n\u001b[1;32m      2\u001b[0m df_clicks = pd.read_csv(\"./data/Clicks.csv\", \n\u001b[0;32m----> 3\u001b[0;31m                         sep=\"|\", error_bad_lines=True)\n\u001b[0m\u001b[1;32m      4\u001b[0m \u001b[0mdf_clicks\u001b[0m\u001b[0;34m\u001b[0m\u001b[0;34m\u001b[0m\u001b[0m\n",
      "\u001b[0;32m/usr/local/lib/python3.7/site-packages/pandas/io/parsers.py\u001b[0m in \u001b[0;36mparser_f\u001b[0;34m(filepath_or_buffer, sep, delimiter, header, names, index_col, usecols, squeeze, prefix, mangle_dupe_cols, dtype, engine, converters, true_values, false_values, skipinitialspace, skiprows, skipfooter, nrows, na_values, keep_default_na, na_filter, verbose, skip_blank_lines, parse_dates, infer_datetime_format, keep_date_col, date_parser, dayfirst, cache_dates, iterator, chunksize, compression, thousands, decimal, lineterminator, quotechar, quoting, doublequote, escapechar, comment, encoding, dialect, error_bad_lines, warn_bad_lines, delim_whitespace, low_memory, memory_map, float_precision)\u001b[0m\n\u001b[1;32m    674\u001b[0m         )\n\u001b[1;32m    675\u001b[0m \u001b[0;34m\u001b[0m\u001b[0m\n\u001b[0;32m--> 676\u001b[0;31m         \u001b[0;32mreturn\u001b[0m \u001b[0m_read\u001b[0m\u001b[0;34m(\u001b[0m\u001b[0mfilepath_or_buffer\u001b[0m\u001b[0;34m,\u001b[0m \u001b[0mkwds\u001b[0m\u001b[0;34m)\u001b[0m\u001b[0;34m\u001b[0m\u001b[0;34m\u001b[0m\u001b[0m\n\u001b[0m\u001b[1;32m    677\u001b[0m \u001b[0;34m\u001b[0m\u001b[0m\n\u001b[1;32m    678\u001b[0m     \u001b[0mparser_f\u001b[0m\u001b[0;34m.\u001b[0m\u001b[0m__name__\u001b[0m \u001b[0;34m=\u001b[0m \u001b[0mname\u001b[0m\u001b[0;34m\u001b[0m\u001b[0;34m\u001b[0m\u001b[0m\n",
      "\u001b[0;32m/usr/local/lib/python3.7/site-packages/pandas/io/parsers.py\u001b[0m in \u001b[0;36m_read\u001b[0;34m(filepath_or_buffer, kwds)\u001b[0m\n\u001b[1;32m    452\u001b[0m \u001b[0;34m\u001b[0m\u001b[0m\n\u001b[1;32m    453\u001b[0m     \u001b[0;32mtry\u001b[0m\u001b[0;34m:\u001b[0m\u001b[0;34m\u001b[0m\u001b[0;34m\u001b[0m\u001b[0m\n\u001b[0;32m--> 454\u001b[0;31m         \u001b[0mdata\u001b[0m \u001b[0;34m=\u001b[0m \u001b[0mparser\u001b[0m\u001b[0;34m.\u001b[0m\u001b[0mread\u001b[0m\u001b[0;34m(\u001b[0m\u001b[0mnrows\u001b[0m\u001b[0;34m)\u001b[0m\u001b[0;34m\u001b[0m\u001b[0;34m\u001b[0m\u001b[0m\n\u001b[0m\u001b[1;32m    455\u001b[0m     \u001b[0;32mfinally\u001b[0m\u001b[0;34m:\u001b[0m\u001b[0;34m\u001b[0m\u001b[0;34m\u001b[0m\u001b[0m\n\u001b[1;32m    456\u001b[0m         \u001b[0mparser\u001b[0m\u001b[0;34m.\u001b[0m\u001b[0mclose\u001b[0m\u001b[0;34m(\u001b[0m\u001b[0;34m)\u001b[0m\u001b[0;34m\u001b[0m\u001b[0;34m\u001b[0m\u001b[0m\n",
      "\u001b[0;32m/usr/local/lib/python3.7/site-packages/pandas/io/parsers.py\u001b[0m in \u001b[0;36mread\u001b[0;34m(self, nrows)\u001b[0m\n\u001b[1;32m   1131\u001b[0m     \u001b[0;32mdef\u001b[0m \u001b[0mread\u001b[0m\u001b[0;34m(\u001b[0m\u001b[0mself\u001b[0m\u001b[0;34m,\u001b[0m \u001b[0mnrows\u001b[0m\u001b[0;34m=\u001b[0m\u001b[0;32mNone\u001b[0m\u001b[0;34m)\u001b[0m\u001b[0;34m:\u001b[0m\u001b[0;34m\u001b[0m\u001b[0;34m\u001b[0m\u001b[0m\n\u001b[1;32m   1132\u001b[0m         \u001b[0mnrows\u001b[0m \u001b[0;34m=\u001b[0m \u001b[0m_validate_integer\u001b[0m\u001b[0;34m(\u001b[0m\u001b[0;34m\"nrows\"\u001b[0m\u001b[0;34m,\u001b[0m \u001b[0mnrows\u001b[0m\u001b[0;34m)\u001b[0m\u001b[0;34m\u001b[0m\u001b[0;34m\u001b[0m\u001b[0m\n\u001b[0;32m-> 1133\u001b[0;31m         \u001b[0mret\u001b[0m \u001b[0;34m=\u001b[0m \u001b[0mself\u001b[0m\u001b[0;34m.\u001b[0m\u001b[0m_engine\u001b[0m\u001b[0;34m.\u001b[0m\u001b[0mread\u001b[0m\u001b[0;34m(\u001b[0m\u001b[0mnrows\u001b[0m\u001b[0;34m)\u001b[0m\u001b[0;34m\u001b[0m\u001b[0;34m\u001b[0m\u001b[0m\n\u001b[0m\u001b[1;32m   1134\u001b[0m \u001b[0;34m\u001b[0m\u001b[0m\n\u001b[1;32m   1135\u001b[0m         \u001b[0;31m# May alter columns / col_dict\u001b[0m\u001b[0;34m\u001b[0m\u001b[0;34m\u001b[0m\u001b[0;34m\u001b[0m\u001b[0m\n",
      "\u001b[0;32m/usr/local/lib/python3.7/site-packages/pandas/io/parsers.py\u001b[0m in \u001b[0;36mread\u001b[0;34m(self, nrows)\u001b[0m\n\u001b[1;32m   2035\u001b[0m     \u001b[0;32mdef\u001b[0m \u001b[0mread\u001b[0m\u001b[0;34m(\u001b[0m\u001b[0mself\u001b[0m\u001b[0;34m,\u001b[0m \u001b[0mnrows\u001b[0m\u001b[0;34m=\u001b[0m\u001b[0;32mNone\u001b[0m\u001b[0;34m)\u001b[0m\u001b[0;34m:\u001b[0m\u001b[0;34m\u001b[0m\u001b[0;34m\u001b[0m\u001b[0m\n\u001b[1;32m   2036\u001b[0m         \u001b[0;32mtry\u001b[0m\u001b[0;34m:\u001b[0m\u001b[0;34m\u001b[0m\u001b[0;34m\u001b[0m\u001b[0m\n\u001b[0;32m-> 2037\u001b[0;31m             \u001b[0mdata\u001b[0m \u001b[0;34m=\u001b[0m \u001b[0mself\u001b[0m\u001b[0;34m.\u001b[0m\u001b[0m_reader\u001b[0m\u001b[0;34m.\u001b[0m\u001b[0mread\u001b[0m\u001b[0;34m(\u001b[0m\u001b[0mnrows\u001b[0m\u001b[0;34m)\u001b[0m\u001b[0;34m\u001b[0m\u001b[0;34m\u001b[0m\u001b[0m\n\u001b[0m\u001b[1;32m   2038\u001b[0m         \u001b[0;32mexcept\u001b[0m \u001b[0mStopIteration\u001b[0m\u001b[0;34m:\u001b[0m\u001b[0;34m\u001b[0m\u001b[0;34m\u001b[0m\u001b[0m\n\u001b[1;32m   2039\u001b[0m             \u001b[0;32mif\u001b[0m \u001b[0mself\u001b[0m\u001b[0;34m.\u001b[0m\u001b[0m_first_chunk\u001b[0m\u001b[0;34m:\u001b[0m\u001b[0;34m\u001b[0m\u001b[0;34m\u001b[0m\u001b[0m\n",
      "\u001b[0;32mpandas/_libs/parsers.pyx\u001b[0m in \u001b[0;36mpandas._libs.parsers.TextReader.read\u001b[0;34m()\u001b[0m\n",
      "\u001b[0;32mpandas/_libs/parsers.pyx\u001b[0m in \u001b[0;36mpandas._libs.parsers.TextReader._read_low_memory\u001b[0;34m()\u001b[0m\n",
      "\u001b[0;32mpandas/_libs/parsers.pyx\u001b[0m in \u001b[0;36mpandas._libs.parsers.TextReader._read_rows\u001b[0;34m()\u001b[0m\n",
      "\u001b[0;32mpandas/_libs/parsers.pyx\u001b[0m in \u001b[0;36mpandas._libs.parsers.TextReader._convert_column_data\u001b[0;34m()\u001b[0m\n",
      "\u001b[0;32mpandas/_libs/parsers.pyx\u001b[0m in \u001b[0;36mpandas._libs.parsers.TextReader._convert_tokens\u001b[0;34m()\u001b[0m\n",
      "\u001b[0;32mpandas/_libs/parsers.pyx\u001b[0m in \u001b[0;36mpandas._libs.parsers.TextReader._convert_with_dtype\u001b[0;34m()\u001b[0m\n",
      "\u001b[0;32mpandas/_libs/parsers.pyx\u001b[0m in \u001b[0;36mpandas._libs.parsers.TextReader._string_convert\u001b[0;34m()\u001b[0m\n",
      "\u001b[0;32mpandas/_libs/parsers.pyx\u001b[0m in \u001b[0;36mpandas._libs.parsers._string_box_utf8\u001b[0;34m()\u001b[0m\n",
      "\u001b[0;31mUnicodeDecodeError\u001b[0m: 'utf-8' codec can't decode byte 0xa0 in position 4: invalid start byte"
     ]
    }
   ],
   "source": [
    "import pandas as pd\n",
    "df_clicks = pd.read_csv(\"./data/Clicks.csv\", \n",
    "                        sep=\"|\", error_bad_lines=True)\n",
    "df_clicks"
   ]
  },
  {
   "cell_type": "markdown",
   "metadata": {},
   "source": [
    "# Use python-magic - To determine encoding\n",
    "- `brew install libmagic` on Mac OSX upfront"
   ]
  },
  {
   "cell_type": "code",
   "execution_count": 2,
   "metadata": {},
   "outputs": [
    {
     "name": "stdout",
     "output_type": "stream",
     "text": [
      "Requirement already satisfied: python-magic in /usr/local/lib/python3.7/site-packages (0.4.18)\n"
     ]
    }
   ],
   "source": [
    "!pip install python-magic==0.4.18"
   ]
  },
  {
   "cell_type": "code",
   "execution_count": 3,
   "metadata": {},
   "outputs": [
    {
     "data": {
      "text/plain": [
       "'iso-8859-1'"
      ]
     },
     "execution_count": 3,
     "metadata": {},
     "output_type": "execute_result"
    }
   ],
   "source": [
    "import magic\n",
    "\n",
    "blob = open('./data/Clicks.csv', 'rb').read()\n",
    "m = magic.Magic(mime_encoding=True)\n",
    "encoding = m.from_buffer(blob)\n",
    "encoding"
   ]
  },
  {
   "cell_type": "code",
   "execution_count": 4,
   "metadata": {},
   "outputs": [
    {
     "data": {
      "text/html": [
       "<div>\n",
       "<style scoped>\n",
       "    .dataframe tbody tr th:only-of-type {\n",
       "        vertical-align: middle;\n",
       "    }\n",
       "\n",
       "    .dataframe tbody tr th {\n",
       "        vertical-align: top;\n",
       "    }\n",
       "\n",
       "    .dataframe thead th {\n",
       "        text-align: right;\n",
       "    }\n",
       "</style>\n",
       "<table border=\"1\" class=\"dataframe\">\n",
       "  <thead>\n",
       "    <tr style=\"text-align: right;\">\n",
       "      <th></th>\n",
       "      <th>ClientID</th>\n",
       "      <th>SendID</th>\n",
       "      <th>SubscriberKey</th>\n",
       "      <th>EmailAddress</th>\n",
       "      <th>SubscriberID</th>\n",
       "      <th>ListID</th>\n",
       "      <th>EventDate</th>\n",
       "      <th>EventType</th>\n",
       "      <th>SendURLID</th>\n",
       "      <th>URLID</th>\n",
       "      <th>URL</th>\n",
       "      <th>Alias</th>\n",
       "      <th>BatchID</th>\n",
       "      <th>TriggeredSendExternalKey</th>\n",
       "      <th>Browser</th>\n",
       "      <th>EmailClient</th>\n",
       "      <th>OperatingSystem</th>\n",
       "      <th>Device</th>\n",
       "    </tr>\n",
       "  </thead>\n",
       "  <tbody>\n",
       "    <tr>\n",
       "      <th>0</th>\n",
       "      <td>12345</td>\n",
       "      <td>98765</td>\n",
       "      <td>blah@blah.com ()</td>\n",
       "      <td>blah@blah.com</td>\n",
       "      <td>372058613</td>\n",
       "      <td>371051</td>\n",
       "      <td>5/14/2020 6:42:32 AM</td>\n",
       "      <td>Click</td>\n",
       "      <td>54793413</td>\n",
       "      <td>4578751</td>\n",
       "      <td>http://www.techsparks.guru</td>\n",
       "      <td>Save $0.25</td>\n",
       "      <td>1</td>\n",
       "      <td>NaN</td>\n",
       "      <td>Unspecified</td>\n",
       "      <td>Unspecified</td>\n",
       "      <td>Windows</td>\n",
       "      <td>PC</td>\n",
       "    </tr>\n",
       "    <tr>\n",
       "      <th>1</th>\n",
       "      <td>12345</td>\n",
       "      <td>98765</td>\n",
       "      <td>blah@blah.com ()</td>\n",
       "      <td>blah@blah.com</td>\n",
       "      <td>372058613</td>\n",
       "      <td>371051</td>\n",
       "      <td>5/14/2020 6:42:43 AM</td>\n",
       "      <td>Click</td>\n",
       "      <td>54793413</td>\n",
       "      <td>4578751</td>\n",
       "      <td>http://www.techsparks.guru</td>\n",
       "      <td>Save $0.25</td>\n",
       "      <td>1</td>\n",
       "      <td>NaN</td>\n",
       "      <td>Chrome</td>\n",
       "      <td>Unspecified</td>\n",
       "      <td>Windows 7</td>\n",
       "      <td>PC</td>\n",
       "    </tr>\n",
       "    <tr>\n",
       "      <th>2</th>\n",
       "      <td>12345</td>\n",
       "      <td>98765</td>\n",
       "      <td>blah@blah.com ()</td>\n",
       "      <td>blah@blah.com</td>\n",
       "      <td>372058613</td>\n",
       "      <td>371051</td>\n",
       "      <td>5/14/2020 6:43:12 AM</td>\n",
       "      <td>Click</td>\n",
       "      <td>54793414</td>\n",
       "      <td>4578751</td>\n",
       "      <td>http://www.techsparks.guru</td>\n",
       "      <td>Save $0.25</td>\n",
       "      <td>1</td>\n",
       "      <td>NaN</td>\n",
       "      <td>Unspecified</td>\n",
       "      <td>Unspecified</td>\n",
       "      <td>Windows</td>\n",
       "      <td>PC</td>\n",
       "    </tr>\n",
       "    <tr>\n",
       "      <th>3</th>\n",
       "      <td>12345</td>\n",
       "      <td>98765</td>\n",
       "      <td>blah@blah.com ()</td>\n",
       "      <td>blah@blah.com</td>\n",
       "      <td>372058613</td>\n",
       "      <td>371051</td>\n",
       "      <td>5/14/2020 6:43:29 AM</td>\n",
       "      <td>Click</td>\n",
       "      <td>54793414</td>\n",
       "      <td>4578751</td>\n",
       "      <td>http://www.techsparks.guru</td>\n",
       "      <td>Save $0.25</td>\n",
       "      <td>1</td>\n",
       "      <td>NaN</td>\n",
       "      <td>Unspecified</td>\n",
       "      <td>Unspecified</td>\n",
       "      <td>Windows</td>\n",
       "      <td>PC</td>\n",
       "    </tr>\n",
       "    <tr>\n",
       "      <th>4</th>\n",
       "      <td>12345</td>\n",
       "      <td>98765</td>\n",
       "      <td>blah@blah.com ()</td>\n",
       "      <td>blah@blah.com</td>\n",
       "      <td>372058613</td>\n",
       "      <td>371051</td>\n",
       "      <td>5/14/2020 6:45:10 AM</td>\n",
       "      <td>Click</td>\n",
       "      <td>54793414</td>\n",
       "      <td>4578751</td>\n",
       "      <td>http://www.techsparks.guru</td>\n",
       "      <td>Save $0.25</td>\n",
       "      <td>1</td>\n",
       "      <td>NaN</td>\n",
       "      <td>Unspecified</td>\n",
       "      <td>Unspecified</td>\n",
       "      <td>Windows</td>\n",
       "      <td>PC</td>\n",
       "    </tr>\n",
       "  </tbody>\n",
       "</table>\n",
       "</div>"
      ],
      "text/plain": [
       "   ClientID  SendID     SubscriberKey   EmailAddress  SubscriberID  ListID  \\\n",
       "0     12345   98765  blah@blah.com ()  blah@blah.com     372058613  371051   \n",
       "1     12345   98765  blah@blah.com ()  blah@blah.com     372058613  371051   \n",
       "2     12345   98765  blah@blah.com ()  blah@blah.com     372058613  371051   \n",
       "3     12345   98765  blah@blah.com ()  blah@blah.com     372058613  371051   \n",
       "4     12345   98765  blah@blah.com ()  blah@blah.com     372058613  371051   \n",
       "\n",
       "              EventDate EventType  SendURLID    URLID  \\\n",
       "0  5/14/2020 6:42:32 AM     Click   54793413  4578751   \n",
       "1  5/14/2020 6:42:43 AM     Click   54793413  4578751   \n",
       "2  5/14/2020 6:43:12 AM     Click   54793414  4578751   \n",
       "3  5/14/2020 6:43:29 AM     Click   54793414  4578751   \n",
       "4  5/14/2020 6:45:10 AM     Click   54793414  4578751   \n",
       "\n",
       "                          URL       Alias  BatchID  TriggeredSendExternalKey  \\\n",
       "0  http://www.techsparks.guru  Save $0.25        1                       NaN   \n",
       "1  http://www.techsparks.guru  Save $0.25        1                       NaN   \n",
       "2  http://www.techsparks.guru  Save $0.25        1                       NaN   \n",
       "3  http://www.techsparks.guru  Save $0.25        1                       NaN   \n",
       "4  http://www.techsparks.guru  Save $0.25        1                       NaN   \n",
       "\n",
       "       Browser  EmailClient OperatingSystem Device  \n",
       "0  Unspecified  Unspecified         Windows     PC  \n",
       "1       Chrome  Unspecified       Windows 7     PC  \n",
       "2  Unspecified  Unspecified         Windows     PC  \n",
       "3  Unspecified  Unspecified         Windows     PC  \n",
       "4  Unspecified  Unspecified         Windows     PC  "
      ]
     },
     "execution_count": 4,
     "metadata": {},
     "output_type": "execute_result"
    }
   ],
   "source": [
    "import pandas as pd\n",
    "df_clicks = pd.read_csv(\"./data/Clicks.csv\", \n",
    "                        sep=\"|\", error_bad_lines=True, encoding = \"ISO-8859-1\")\n",
    "df_clicks"
   ]
  },
  {
   "cell_type": "markdown",
   "metadata": {},
   "source": [
    "# Use chardet\n",
    "- https://pypi.org/project/chardet/\n",
    "- https://chardet.readthedocs.io/en/latest/usage.html#basic-usage"
   ]
  },
  {
   "cell_type": "code",
   "execution_count": 5,
   "metadata": {},
   "outputs": [
    {
     "name": "stdout",
     "output_type": "stream",
     "text": [
      "Requirement already satisfied: chardet in /usr/local/lib/python3.7/site-packages (3.0.4)\n"
     ]
    }
   ],
   "source": [
    "! pip install chardet==3.0.4"
   ]
  },
  {
   "cell_type": "code",
   "execution_count": 6,
   "metadata": {},
   "outputs": [
    {
     "data": {
      "text/plain": [
       "'ISO-8859-1'"
      ]
     },
     "execution_count": 6,
     "metadata": {},
     "output_type": "execute_result"
    }
   ],
   "source": [
    "import chardet    \n",
    "rawdata = open(\"./data/Clicks.csv\", 'rb').read()\n",
    "result = chardet.detect(rawdata)\n",
    "charenc = result['encoding']\n",
    "charenc"
   ]
  },
  {
   "cell_type": "markdown",
   "metadata": {},
   "source": [
    "# Use UnicodeDammit\n",
    "- https://www.crummy.com/software/BeautifulSoup/bs4/doc/#unicode-dammit"
   ]
  },
  {
   "cell_type": "code",
   "execution_count": 7,
   "metadata": {},
   "outputs": [
    {
     "name": "stdout",
     "output_type": "stream",
     "text": [
      "Collecting beautifulsoup4==4.9.1\n",
      "\u001b[?25l  Downloading https://files.pythonhosted.org/packages/66/25/ff030e2437265616a1e9b25ccc864e0371a0bc3adb7c5a404fd661c6f4f6/beautifulsoup4-4.9.1-py3-none-any.whl (115kB)\n",
      "\u001b[K     |████████████████████████████████| 122kB 1.2MB/s eta 0:00:01\n",
      "\u001b[?25hRequirement already satisfied: soupsieve>1.2 in /usr/local/lib/python3.7/site-packages (from beautifulsoup4==4.9.1) (2.0)\n",
      "Installing collected packages: beautifulsoup4\n",
      "  Found existing installation: beautifulsoup4 4.8.2\n",
      "    Uninstalling beautifulsoup4-4.8.2:\n",
      "      Successfully uninstalled beautifulsoup4-4.8.2\n",
      "Successfully installed beautifulsoup4-4.9.1\n"
     ]
    }
   ],
   "source": [
    "! pip install beautifulsoup4==4.9.1"
   ]
  },
  {
   "cell_type": "code",
   "execution_count": 8,
   "metadata": {},
   "outputs": [
    {
     "name": "stdout",
     "output_type": "stream",
     "text": [
      "ClientID|SendID|SubscriberKey|EmailAddress|SubscriberID|ListID|EventDate|EventType|SendURLID|URLID|URL|Alias|BatchID|TriggeredSendExternalKey|Browser|EmailClient|OperatingSystem|Device\n",
      "12345|98765|blah@blah.com ()|blah@blah.com|372058613|371051|5/14/2020 6:42:32 AM|Click|54793413|4578751|http://www.techsparks.guru|Save $0.25|1||Unspecified|Unspecified|Windows|PC\n",
      "12345|98765|blah@blah.com ()|blah@blah.com|372058613|371051|5/14/2020 6:42:43 AM|Click|54793413|4578751|http://www.techsparks.guru|Save $0.25|1||Chrome|Unspecified|Windows 7|PC\n",
      "12345|98765|blah@blah.com ()|blah@blah.com|372058613|371051|5/14/2020 6:43:12 AM|Click|54793414|4578751|http://www.techsparks.guru|Save $0.25|1||Unspecified|Unspecified|Windows|PC\n",
      "12345|98765|blah@blah.com ()|blah@blah.com|372058613|371051|5/14/2020 6:43:29 AM|Click|54793414|4578751|http://www.techsparks.guru|Save $0.25|1||Unspecified|Unspecified|Windows|PC\n",
      "12345|98765|blah@blah.com ()|blah@blah.com|372058613|371051|5/14/2020 6:45:10 AM|Click|54793414|4578751|http://www.techsparks.guru|Save $0.25|1||Unspecified|Unspecified|Windows|PC\n"
     ]
    },
    {
     "data": {
      "text/plain": [
       "'iso-8859-1'"
      ]
     },
     "execution_count": 8,
     "metadata": {},
     "output_type": "execute_result"
    }
   ],
   "source": [
    "from bs4 import UnicodeDammit\n",
    "rawdata = open(\"./data/Clicks.csv\", 'rb').read()\n",
    "dammit = UnicodeDammit(rawdata)\n",
    "print(dammit.unicode_markup)\n",
    "dammit.original_encoding"
   ]
  }
 ],
 "metadata": {
  "kernelspec": {
   "display_name": "Python 3",
   "language": "python",
   "name": "python3"
  },
  "language_info": {
   "codemirror_mode": {
    "name": "ipython",
    "version": 3
   },
   "file_extension": ".py",
   "mimetype": "text/x-python",
   "name": "python",
   "nbconvert_exporter": "python",
   "pygments_lexer": "ipython3",
   "version": "3.8.5"
  }
 },
 "nbformat": 4,
 "nbformat_minor": 4
}
