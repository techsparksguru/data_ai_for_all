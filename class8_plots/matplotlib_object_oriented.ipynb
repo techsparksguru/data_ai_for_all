{
 "cells": [
  {
   "cell_type": "code",
   "execution_count": null,
   "metadata": {},
   "outputs": [],
   "source": [
    "# widget & notebook adds a little interactivity. widget for jupyterlab\n",
    "%matplotlib widget\n",
    "import pandas as pd\n",
    "import matplotlib.pyplot as plt"
   ]
  },
  {
   "cell_type": "code",
   "execution_count": null,
   "metadata": {},
   "outputs": [],
   "source": [
    "df = pd.read_csv('../Real_Estate_Sales_2001-2017.csv')"
   ]
  },
  {
   "cell_type": "code",
   "execution_count": null,
   "metadata": {},
   "outputs": [],
   "source": [
    "# What is the average value by PropertyType ?\n",
    "averages = df.groupby(['PropertyType']).mean().reset_index()\n",
    "averages"
   ]
  },
  {
   "cell_type": "code",
   "execution_count": null,
   "metadata": {},
   "outputs": [],
   "source": [
    "fig, ax = plt.subplots(2,3) # use subplots() if only 1 plot. Here we get a grid of 6 plots 2 rows, 3 columns\n",
    "ax[0,0].bar(averages['PropertyType'],averages['SaleAmount'])\n",
    "\n",
    "# averages['SaleAmount'].plot(ax=ax[0,0]) by passing the axes object to dataframe"
   ]
  },
  {
   "cell_type": "markdown",
   "metadata": {},
   "source": [
    "# Area Charts (Stacked, unstacked)\n",
    "- Total (cumulative) Sales by property type by year"
   ]
  },
  {
   "cell_type": "code",
   "execution_count": null,
   "metadata": {},
   "outputs": [],
   "source": [
    "pd.set_option('display.float_format', lambda x: '%.2f' % x)\n",
    "df_group_by_year_type = df.groupby(['ListYear','PropertyType'])['SaleAmount'].sum()\n",
    "df_group_by_year_type = df_group_by_year_type.unstack()\n",
    "df_group_by_year_type"
   ]
  },
  {
   "cell_type": "code",
   "execution_count": null,
   "metadata": {},
   "outputs": [],
   "source": [
    "cum_sales_year_type = df_group_by_year_type.fillna(0).cumsum()\n",
    "cum_sales_year_type"
   ]
  },
  {
   "cell_type": "code",
   "execution_count": null,
   "metadata": {},
   "outputs": [],
   "source": [
    "fig, ax = plt.subplots()\n",
    "cum_sales_year_type.plot.area(title=\"Total Sales by year by type\", ax=ax)\n",
    "fig.tight_layout() # Sometimes legends get cut off , hence we tighten so that everything fits"
   ]
  },
  {
   "cell_type": "markdown",
   "metadata": {},
   "source": [
    "- In the above graph, we can't clearly compare red and green, because all of them are stacked vs. overlapped\n",
    "- To fix this we have to unstack them (and then for aesthetics can add a grid)"
   ]
  },
  {
   "cell_type": "code",
   "execution_count": null,
   "metadata": {},
   "outputs": [],
   "source": [
    "fig, ax = plt.subplots()\n",
    "cum_sales_year_type.plot.area(title=\"Total Sales by year by type\", ax=ax, stacked=False, grid=True) # Observe that colors lighten/transparent\n",
    "fig.tight_layout() # Sometimes legends get cut off , hence we tighten so that everything fits"
   ]
  },
  {
   "cell_type": "markdown",
   "metadata": {},
   "source": [
    "- Now I want cumulative sales by total year on the same graph - to be able to compare yearly sales with each type"
   ]
  },
  {
   "cell_type": "code",
   "execution_count": null,
   "metadata": {},
   "outputs": [],
   "source": [
    "pd.set_option('display.float_format', lambda x: '%.2f' % x)\n",
    "df_group_by_year = df.groupby(['ListYear'])['SaleAmount'].sum().cumsum()\n",
    "df_group_by_year"
   ]
  },
  {
   "cell_type": "code",
   "execution_count": null,
   "metadata": {},
   "outputs": [],
   "source": [
    "fig, ax = plt.subplots()\n",
    "ax.ticklabel_format(style='plain') # The style=plain disables scientific notation on y axis\n",
    "# Plot cumsum by year first with a line on the ax layout\n",
    "df_group_by_year.plot(ax=ax, style='b--', legend=True, label=\"Total Yearly\")\n",
    "\n",
    "# Now area plot by year by type on the same ax layout\n",
    "cum_sales_year_type.plot.area(title=\"Total Sales by year by type\", ax=ax, stacked=False, grid=True) # Observe that colors lighten/transparent\n",
    "fig.tight_layout() # Sometimes legends get cut off , hence we tighten so that everything fits"
   ]
  },
  {
   "cell_type": "markdown",
   "metadata": {},
   "source": [
    "# Bar Charts (stacked & unstacked)"
   ]
  },
  {
   "cell_type": "code",
   "execution_count": null,
   "metadata": {},
   "outputs": [],
   "source": [
    "# Easiest way without using matplotlib object oriented\n",
    "averages = df.groupby(['PropertyType']).mean().reset_index()\n",
    "ax = averages.plot.bar(title='Average sale by Property Type',x='PropertyType',y=['AssessedValue','SaleAmount'])"
   ]
  },
  {
   "cell_type": "code",
   "execution_count": null,
   "metadata": {},
   "outputs": [],
   "source": [
    "# Easiest way without using matplotlib object oriented and stacking them\n",
    "fig, ax = plt.subplots()\n",
    "averages = df.groupby(['PropertyType']).mean().reset_index()\n",
    "ax = averages.plot.bar(ax=ax, title='Average sale by Property Type',x='PropertyType',y=['AssessedValue','SaleAmount'], stacked=True)\n",
    "fig.tight_layout()"
   ]
  },
  {
   "cell_type": "markdown",
   "metadata": {},
   "source": [
    "### Learning: Area charts are stacked by default, whereas bar charts are NOT"
   ]
  },
  {
   "cell_type": "markdown",
   "metadata": {},
   "source": [
    "# Lets try another example"
   ]
  },
  {
   "cell_type": "code",
   "execution_count": null,
   "metadata": {},
   "outputs": [],
   "source": [
    "df_by_year_type = df.groupby(['ListYear','PropertyType']).size().unstack()\n",
    "df_by_year_type = df_by_year_type.fillna(0)\n",
    "df_by_year_type"
   ]
  },
  {
   "cell_type": "code",
   "execution_count": null,
   "metadata": {},
   "outputs": [],
   "source": [
    "fig, ax = plt.subplots()\n",
    "ax = df_by_year_type.plot.bar(ax=ax, title='Count Share by Year by Type', stacked=True)\n",
    "fig.tight_layout()"
   ]
  },
  {
   "cell_type": "code",
   "execution_count": null,
   "metadata": {},
   "outputs": [],
   "source": [
    "fig, ax = plt.subplots()\n",
    "ax = df_by_year_type.plot.bar(ax=ax, title='Count Share by Year by Type')\n",
    "fig.tight_layout()"
   ]
  },
  {
   "cell_type": "markdown",
   "metadata": {},
   "source": [
    "# Stacked Bar Chart (using seaborn)"
   ]
  },
  {
   "cell_type": "code",
   "execution_count": null,
   "metadata": {},
   "outputs": [],
   "source": [
    "from matplotlib.colors import ListedColormap\n",
    "import seaborn as sns\n",
    "sns.set()\n",
    "ax = df.groupby(['ListYear','PropertyType']).size().unstack().plot(kind='bar', stacked=True,colormap=ListedColormap(sns.color_palette(\"muted\")), \n",
    "          figsize=(20,15))"
   ]
  }
 ],
 "metadata": {
  "kernelspec": {
   "display_name": "Python 3",
   "language": "python",
   "name": "python3"
  },
  "language_info": {
   "codemirror_mode": {
    "name": "ipython",
    "version": 3
   },
   "file_extension": ".py",
   "mimetype": "text/x-python",
   "name": "python",
   "nbconvert_exporter": "python",
   "pygments_lexer": "ipython3",
   "version": "3.8.5"
  }
 },
 "nbformat": 4,
 "nbformat_minor": 4
}
