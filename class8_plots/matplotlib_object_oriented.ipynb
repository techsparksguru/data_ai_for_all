{
 "cells": [
  {
   "cell_type": "code",
   "execution_count": 1,
   "metadata": {},
   "outputs": [],
   "source": [
    "# widget adds a little interactivity\n",
    "%matplotlib widget\n",
    "import pandas as pd\n",
    "import matplotlib.pyplot as plt"
   ]
  },
  {
   "cell_type": "code",
   "execution_count": 2,
   "metadata": {},
   "outputs": [],
   "source": [
    "df = pd.read_csv('../Real_Estate_Sales_2001-2017.csv')"
   ]
  },
  {
   "cell_type": "code",
   "execution_count": 3,
   "metadata": {},
   "outputs": [
    {
     "data": {
      "text/html": [
       "<div>\n",
       "<style scoped>\n",
       "    .dataframe tbody tr th:only-of-type {\n",
       "        vertical-align: middle;\n",
       "    }\n",
       "\n",
       "    .dataframe tbody tr th {\n",
       "        vertical-align: top;\n",
       "    }\n",
       "\n",
       "    .dataframe thead th {\n",
       "        text-align: right;\n",
       "    }\n",
       "</style>\n",
       "<table border=\"1\" class=\"dataframe\">\n",
       "  <thead>\n",
       "    <tr style=\"text-align: right;\">\n",
       "      <th></th>\n",
       "      <th>PropertyType</th>\n",
       "      <th>ID</th>\n",
       "      <th>SerialNumber</th>\n",
       "      <th>ListYear</th>\n",
       "      <th>AssessedValue</th>\n",
       "      <th>SaleAmount</th>\n",
       "      <th>SalesRatio</th>\n",
       "    </tr>\n",
       "  </thead>\n",
       "  <tbody>\n",
       "    <tr>\n",
       "      <th>0</th>\n",
       "      <td>10 Mill Forest</td>\n",
       "      <td>405484.545455</td>\n",
       "      <td>59176.363636</td>\n",
       "      <td>2010.000000</td>\n",
       "      <td>8.315909e+04</td>\n",
       "      <td>1.830160e+05</td>\n",
       "      <td>0.501271</td>\n",
       "    </tr>\n",
       "    <tr>\n",
       "      <th>1</th>\n",
       "      <td>Apartments</td>\n",
       "      <td>417406.913935</td>\n",
       "      <td>117574.397210</td>\n",
       "      <td>2008.322911</td>\n",
       "      <td>8.732501e+05</td>\n",
       "      <td>1.198831e+06</td>\n",
       "      <td>1836.996471</td>\n",
       "    </tr>\n",
       "    <tr>\n",
       "      <th>2</th>\n",
       "      <td>Commercial</td>\n",
       "      <td>393078.379084</td>\n",
       "      <td>101290.685512</td>\n",
       "      <td>2008.226458</td>\n",
       "      <td>1.485650e+06</td>\n",
       "      <td>1.042632e+06</td>\n",
       "      <td>2694.755727</td>\n",
       "    </tr>\n",
       "    <tr>\n",
       "      <th>3</th>\n",
       "      <td>Condo</td>\n",
       "      <td>402198.107112</td>\n",
       "      <td>69686.820822</td>\n",
       "      <td>2005.304917</td>\n",
       "      <td>1.290439e+05</td>\n",
       "      <td>2.142420e+05</td>\n",
       "      <td>336.522156</td>\n",
       "    </tr>\n",
       "    <tr>\n",
       "      <th>4</th>\n",
       "      <td>Industrial</td>\n",
       "      <td>374978.978713</td>\n",
       "      <td>86195.514949</td>\n",
       "      <td>2007.852188</td>\n",
       "      <td>7.285687e+05</td>\n",
       "      <td>9.971568e+05</td>\n",
       "      <td>86.362072</td>\n",
       "    </tr>\n",
       "    <tr>\n",
       "      <th>5</th>\n",
       "      <td>Public Utility</td>\n",
       "      <td>401877.602837</td>\n",
       "      <td>75075.773050</td>\n",
       "      <td>2005.581560</td>\n",
       "      <td>5.835741e+05</td>\n",
       "      <td>2.227996e+05</td>\n",
       "      <td>205.041414</td>\n",
       "    </tr>\n",
       "    <tr>\n",
       "      <th>6</th>\n",
       "      <td>Residential</td>\n",
       "      <td>411161.215243</td>\n",
       "      <td>116144.051129</td>\n",
       "      <td>2007.890536</td>\n",
       "      <td>2.219131e+05</td>\n",
       "      <td>3.519694e+05</td>\n",
       "      <td>823.361179</td>\n",
       "    </tr>\n",
       "    <tr>\n",
       "      <th>7</th>\n",
       "      <td>Vacant Land</td>\n",
       "      <td>395270.531517</td>\n",
       "      <td>92476.796272</td>\n",
       "      <td>2005.822008</td>\n",
       "      <td>1.110980e+05</td>\n",
       "      <td>1.983576e+05</td>\n",
       "      <td>333.556047</td>\n",
       "    </tr>\n",
       "  </tbody>\n",
       "</table>\n",
       "</div>"
      ],
      "text/plain": [
       "     PropertyType             ID   SerialNumber     ListYear  AssessedValue  \\\n",
       "0  10 Mill Forest  405484.545455   59176.363636  2010.000000   8.315909e+04   \n",
       "1      Apartments  417406.913935  117574.397210  2008.322911   8.732501e+05   \n",
       "2      Commercial  393078.379084  101290.685512  2008.226458   1.485650e+06   \n",
       "3           Condo  402198.107112   69686.820822  2005.304917   1.290439e+05   \n",
       "4      Industrial  374978.978713   86195.514949  2007.852188   7.285687e+05   \n",
       "5  Public Utility  401877.602837   75075.773050  2005.581560   5.835741e+05   \n",
       "6     Residential  411161.215243  116144.051129  2007.890536   2.219131e+05   \n",
       "7     Vacant Land  395270.531517   92476.796272  2005.822008   1.110980e+05   \n",
       "\n",
       "     SaleAmount   SalesRatio  \n",
       "0  1.830160e+05     0.501271  \n",
       "1  1.198831e+06  1836.996471  \n",
       "2  1.042632e+06  2694.755727  \n",
       "3  2.142420e+05   336.522156  \n",
       "4  9.971568e+05    86.362072  \n",
       "5  2.227996e+05   205.041414  \n",
       "6  3.519694e+05   823.361179  \n",
       "7  1.983576e+05   333.556047  "
      ]
     },
     "execution_count": 3,
     "metadata": {},
     "output_type": "execute_result"
    }
   ],
   "source": [
    "# What is the average value by PropertyType ?\n",
    "averages = df.groupby(['PropertyType']).mean().reset_index()\n",
    "averages"
   ]
  },
  {
   "cell_type": "code",
   "execution_count": 6,
   "metadata": {},
   "outputs": [
    {
     "data": {
      "application/vnd.jupyter.widget-view+json": {
       "model_id": "0b833b5ad4bf4636b1d2a47d21e7fbc1",
       "version_major": 2,
       "version_minor": 0
      },
      "text/plain": [
       "Canvas(toolbar=Toolbar(toolitems=[('Home', 'Reset original view', 'home', 'home'), ('Back', 'Back to previous …"
      ]
     },
     "metadata": {},
     "output_type": "display_data"
    },
    {
     "data": {
      "text/plain": [
       "<BarContainer object of 8 artists>"
      ]
     },
     "execution_count": 6,
     "metadata": {},
     "output_type": "execute_result"
    }
   ],
   "source": [
    "fig, ax = plt.subplots(2,3) # use subplots() if only 1 plot. Here we get a grid of 6 plots 2 rows, 3 columns\n",
    "ax[0,0].bar(averages['PropertyType'],averages['SaleAmount'])\n",
    "\n",
    "# averages['SaleAmount'].plot(ax=ax[0,0]) by passing the axes object to dataframe"
   ]
  }
 ],
 "metadata": {
  "kernelspec": {
   "display_name": "Python 3",
   "language": "python",
   "name": "python3"
  },
  "language_info": {
   "codemirror_mode": {
    "name": "ipython",
    "version": 3
   },
   "file_extension": ".py",
   "mimetype": "text/x-python",
   "name": "python",
   "nbconvert_exporter": "python",
   "pygments_lexer": "ipython3",
   "version": "3.7.5"
  }
 },
 "nbformat": 4,
 "nbformat_minor": 4
}
