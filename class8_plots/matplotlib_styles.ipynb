{
 "cells": [
  {
   "cell_type": "markdown",
   "metadata": {},
   "source": [
    "# Use contextual style (not the whole notebook style)"
   ]
  },
  {
   "cell_type": "code",
   "execution_count": 1,
   "metadata": {},
   "outputs": [
    {
     "data": {
      "text/html": [
       "<div>\n",
       "<style scoped>\n",
       "    .dataframe tbody tr th:only-of-type {\n",
       "        vertical-align: middle;\n",
       "    }\n",
       "\n",
       "    .dataframe tbody tr th {\n",
       "        vertical-align: top;\n",
       "    }\n",
       "\n",
       "    .dataframe thead th {\n",
       "        text-align: right;\n",
       "    }\n",
       "</style>\n",
       "<table border=\"1\" class=\"dataframe\">\n",
       "  <thead>\n",
       "    <tr style=\"text-align: right;\">\n",
       "      <th></th>\n",
       "      <th>PropertyType</th>\n",
       "      <th>ID</th>\n",
       "      <th>SerialNumber</th>\n",
       "      <th>ListYear</th>\n",
       "      <th>AssessedValue</th>\n",
       "      <th>SaleAmount</th>\n",
       "      <th>SalesRatio</th>\n",
       "    </tr>\n",
       "  </thead>\n",
       "  <tbody>\n",
       "    <tr>\n",
       "      <th>0</th>\n",
       "      <td>10 Mill Forest</td>\n",
       "      <td>405484.55</td>\n",
       "      <td>59176.36</td>\n",
       "      <td>2010.00</td>\n",
       "      <td>83159.09</td>\n",
       "      <td>183016.00</td>\n",
       "      <td>0.50</td>\n",
       "    </tr>\n",
       "    <tr>\n",
       "      <th>1</th>\n",
       "      <td>Apartments</td>\n",
       "      <td>417406.91</td>\n",
       "      <td>117574.40</td>\n",
       "      <td>2008.32</td>\n",
       "      <td>873250.07</td>\n",
       "      <td>1198831.09</td>\n",
       "      <td>1837.00</td>\n",
       "    </tr>\n",
       "    <tr>\n",
       "      <th>2</th>\n",
       "      <td>Commercial</td>\n",
       "      <td>393078.38</td>\n",
       "      <td>101290.69</td>\n",
       "      <td>2008.23</td>\n",
       "      <td>1485650.17</td>\n",
       "      <td>1042631.74</td>\n",
       "      <td>2694.76</td>\n",
       "    </tr>\n",
       "    <tr>\n",
       "      <th>3</th>\n",
       "      <td>Condo</td>\n",
       "      <td>402198.11</td>\n",
       "      <td>69686.82</td>\n",
       "      <td>2005.30</td>\n",
       "      <td>129043.90</td>\n",
       "      <td>214242.01</td>\n",
       "      <td>336.52</td>\n",
       "    </tr>\n",
       "    <tr>\n",
       "      <th>4</th>\n",
       "      <td>Industrial</td>\n",
       "      <td>374978.98</td>\n",
       "      <td>86195.51</td>\n",
       "      <td>2007.85</td>\n",
       "      <td>728568.65</td>\n",
       "      <td>997156.82</td>\n",
       "      <td>86.36</td>\n",
       "    </tr>\n",
       "    <tr>\n",
       "      <th>5</th>\n",
       "      <td>Public Utility</td>\n",
       "      <td>401877.60</td>\n",
       "      <td>75075.77</td>\n",
       "      <td>2005.58</td>\n",
       "      <td>583574.14</td>\n",
       "      <td>222799.60</td>\n",
       "      <td>205.04</td>\n",
       "    </tr>\n",
       "    <tr>\n",
       "      <th>6</th>\n",
       "      <td>Residential</td>\n",
       "      <td>411161.22</td>\n",
       "      <td>116144.05</td>\n",
       "      <td>2007.89</td>\n",
       "      <td>221913.09</td>\n",
       "      <td>351969.43</td>\n",
       "      <td>823.36</td>\n",
       "    </tr>\n",
       "    <tr>\n",
       "      <th>7</th>\n",
       "      <td>Vacant Land</td>\n",
       "      <td>395270.53</td>\n",
       "      <td>92476.80</td>\n",
       "      <td>2005.82</td>\n",
       "      <td>111097.98</td>\n",
       "      <td>198357.59</td>\n",
       "      <td>333.56</td>\n",
       "    </tr>\n",
       "  </tbody>\n",
       "</table>\n",
       "</div>"
      ],
      "text/plain": [
       "     PropertyType        ID  SerialNumber  ListYear  AssessedValue  \\\n",
       "0  10 Mill Forest 405484.55      59176.36   2010.00       83159.09   \n",
       "1      Apartments 417406.91     117574.40   2008.32      873250.07   \n",
       "2      Commercial 393078.38     101290.69   2008.23     1485650.17   \n",
       "3           Condo 402198.11      69686.82   2005.30      129043.90   \n",
       "4      Industrial 374978.98      86195.51   2007.85      728568.65   \n",
       "5  Public Utility 401877.60      75075.77   2005.58      583574.14   \n",
       "6     Residential 411161.22     116144.05   2007.89      221913.09   \n",
       "7     Vacant Land 395270.53      92476.80   2005.82      111097.98   \n",
       "\n",
       "   SaleAmount  SalesRatio  \n",
       "0   183016.00        0.50  \n",
       "1  1198831.09     1837.00  \n",
       "2  1042631.74     2694.76  \n",
       "3   214242.01      336.52  \n",
       "4   997156.82       86.36  \n",
       "5   222799.60      205.04  \n",
       "6   351969.43      823.36  \n",
       "7   198357.59      333.56  "
      ]
     },
     "execution_count": 1,
     "metadata": {},
     "output_type": "execute_result"
    }
   ],
   "source": [
    "# widget & notebook adds a little interactivity. widget for jupyterlab\n",
    "%matplotlib widget\n",
    "import pandas as pd\n",
    "import matplotlib.pyplot as plt\n",
    "df = pd.read_csv('../Real_Estate_Sales_2001-2017.csv')\n",
    "pd.set_option('display.float_format', lambda x: '%.2f' % x)\n",
    "averages = df.groupby(['PropertyType']).mean().reset_index()\n",
    "averages"
   ]
  },
  {
   "cell_type": "code",
   "execution_count": 3,
   "metadata": {},
   "outputs": [
    {
     "data": {
      "application/vnd.jupyter.widget-view+json": {
       "model_id": "bcb7cb412674432c98df75f55f5da252",
       "version_major": 2,
       "version_minor": 0
      },
      "text/plain": [
       "Canvas(toolbar=Toolbar(toolitems=[('Home', 'Reset original view', 'home', 'home'), ('Back', 'Back to previous …"
      ]
     },
     "metadata": {},
     "output_type": "display_data"
    }
   ],
   "source": [
    "with plt.style.context('classic'):\n",
    "    fig, ax = plt.subplots()\n",
    "    averages.plot(ax=ax, figsize=(5,5))"
   ]
  },
  {
   "cell_type": "code",
   "execution_count": 6,
   "metadata": {},
   "outputs": [
    {
     "data": {
      "application/vnd.jupyter.widget-view+json": {
       "model_id": "0c0af260b5534cebad23b52352d86670",
       "version_major": 2,
       "version_minor": 0
      },
      "text/plain": [
       "Canvas(toolbar=Toolbar(toolitems=[('Home', 'Reset original view', 'home', 'home'), ('Back', 'Back to previous …"
      ]
     },
     "metadata": {},
     "output_type": "display_data"
    }
   ],
   "source": [
    "# https://matplotlib.org/1.5.3/api/pyplot_api.html#matplotlib.pyplot.plot\n",
    "with plt.style.context('fivethirtyeight'):\n",
    "    fig, ax = plt.subplots()\n",
    "    averages.plot(ax=ax, figsize=(5,5), style={'AssessedValue':'--v', 'SaleAmount':':s'})"
   ]
  },
  {
   "cell_type": "code",
   "execution_count": 2,
   "metadata": {},
   "outputs": [
    {
     "data": {
      "application/vnd.jupyter.widget-view+json": {
       "model_id": "500faa0efc4744ccb1f6677aea52699e",
       "version_major": 2,
       "version_minor": 0
      },
      "text/plain": [
       "Canvas(toolbar=Toolbar(toolitems=[('Home', 'Reset original view', 'home', 'home'), ('Back', 'Back to previous …"
      ]
     },
     "metadata": {},
     "output_type": "display_data"
    }
   ],
   "source": [
    "# BEST PRACTICE\n",
    "# if null values are there in columns, they will not be aligned, so you have to apply style to each line separately\n",
    "styles={'AssessedValue':'--v', 'SaleAmount':':s'}\n",
    "with plt.style.context('fivethirtyeight'):\n",
    "    fig, ax = plt.subplots()\n",
    "    for column in styles:\n",
    "        averages[column].dropna().plot(ax=ax, figsize=(5,5), style=styles)\n",
    "\n",
    "fig.suptitle(\"Trend of various\", fontweight=\"bold\")\n",
    "ax.set_title(\"General plotting\",  fontstyle=\"italic\", fontsize=\"8\")\n",
    "ax.set_ylabel(\"whatever\")\n",
    "ax.grid(True)\n",
    "fig.tight_layout()"
   ]
  },
  {
   "cell_type": "markdown",
   "metadata": {},
   "source": [
    "https://matplotlib.org/3.1.1/tutorials/introductory/customizing.html"
   ]
  }
 ],
 "metadata": {
  "kernelspec": {
   "display_name": "Python 3",
   "language": "python",
   "name": "python3"
  },
  "language_info": {
   "codemirror_mode": {
    "name": "ipython",
    "version": 3
   },
   "file_extension": ".py",
   "mimetype": "text/x-python",
   "name": "python",
   "nbconvert_exporter": "python",
   "pygments_lexer": "ipython3",
   "version": "3.7.5"
  }
 },
 "nbformat": 4,
 "nbformat_minor": 4
}
