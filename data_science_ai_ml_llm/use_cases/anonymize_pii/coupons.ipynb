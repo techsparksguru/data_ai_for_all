{
 "cells": [
  {
   "cell_type": "markdown",
   "id": "4283a646-5e32-4e8f-8061-f96592cafd3e",
   "metadata": {},
   "source": [
    "## NOTES\n",
    "- The file `coupons_brand_manuf_retailer.csv` is the original source file and is not included in the repo\n",
    "- You can start execution from FASTTEXT block\n",
    "- extract files from coupons_fast.tar.gz --> coupons_fast.txt"
   ]
  },
  {
   "cell_type": "code",
   "execution_count": 4,
   "id": "b275c5e6-c53a-4898-a11f-4a50e54c5604",
   "metadata": {
    "tags": []
   },
   "outputs": [
    {
     "data": {
      "text/html": [
       "<div>\n",
       "<style scoped>\n",
       "    .dataframe tbody tr th:only-of-type {\n",
       "        vertical-align: middle;\n",
       "    }\n",
       "\n",
       "    .dataframe tbody tr th {\n",
       "        vertical-align: top;\n",
       "    }\n",
       "\n",
       "    .dataframe thead th {\n",
       "        text-align: right;\n",
       "    }\n",
       "</style>\n",
       "<table border=\"1\" class=\"dataframe\">\n",
       "  <thead>\n",
       "    <tr style=\"text-align: right;\">\n",
       "      <th></th>\n",
       "      <th>labels</th>\n",
       "      <th>Offerdetails</th>\n",
       "      <th>SINGLE_LINE</th>\n",
       "    </tr>\n",
       "  </thead>\n",
       "  <tbody>\n",
       "    <tr>\n",
       "      <th>0</th>\n",
       "      <td>__label__1800 __label__ProximoSpirits __label_...</td>\n",
       "      <td>$3.00 OFF | 1800 and Gran Centenario $3.00 OFF...</td>\n",
       "      <td>__label__1800 __label__ProximoSpirits __label_...</td>\n",
       "    </tr>\n",
       "    <tr>\n",
       "      <th>1</th>\n",
       "      <td>__label__1800 __label__ProximoSpirits __label_...</td>\n",
       "      <td>$4.00 OFF | 1800 Ultimate Margarita® $4.00 OFF...</td>\n",
       "      <td>__label__1800 __label__ProximoSpirits __label_...</td>\n",
       "    </tr>\n",
       "    <tr>\n",
       "      <th>2</th>\n",
       "      <td>__label__1924 __label__DelicatoFamilyVineyards...</td>\n",
       "      <td>$4.00 REBATE | 1924, Gnarly Head, Three Finger...</td>\n",
       "      <td>__label__1924 __label__DelicatoFamilyVineyards...</td>\n",
       "    </tr>\n",
       "    <tr>\n",
       "      <th>3</th>\n",
       "      <td>__label__7UP __label__DRPEPPERSNAPPLEGROUP __l...</td>\n",
       "      <td>Save$1.00 on THREE (3) 12-pack cans of any fla...</td>\n",
       "      <td>__label__7UP __label__DRPEPPERSNAPPLEGROUP __l...</td>\n",
       "    </tr>\n",
       "    <tr>\n",
       "      <th>4</th>\n",
       "      <td>__label__9Elements __label__TheProcter&amp;GambleC...</td>\n",
       "      <td>Save $1.00 on 9 Elements Multi-Purpose or Bath...</td>\n",
       "      <td>__label__9Elements __label__TheProcter&amp;GambleC...</td>\n",
       "    </tr>\n",
       "    <tr>\n",
       "      <th>...</th>\n",
       "      <td>...</td>\n",
       "      <td>...</td>\n",
       "      <td>...</td>\n",
       "    </tr>\n",
       "    <tr>\n",
       "      <th>220015</th>\n",
       "      <td>__label__Zyrtec __label__Johnson&amp;JohnsonInc. _...</td>\n",
       "      <td>Save $10.00 on Adult ZYRTEC® product when you ...</td>\n",
       "      <td>__label__Zyrtec __label__Johnson&amp;JohnsonInc. _...</td>\n",
       "    </tr>\n",
       "    <tr>\n",
       "      <th>220016</th>\n",
       "      <td>__label__ZzzQuil __label__TheProcter&amp;GambleCom...</td>\n",
       "      <td>SAVE $0.50 ONE ZzzQuil OR PURE Zzzs Product (e...</td>\n",
       "      <td>__label__ZzzQuil __label__TheProcter&amp;GambleCom...</td>\n",
       "    </tr>\n",
       "    <tr>\n",
       "      <th>220017</th>\n",
       "      <td>__label__ZzzQuil __label__TheProcter&amp;GambleCom...</td>\n",
       "      <td>Save $0.50 | ZzzQuil ONE ZzzQuil OR PURE Zzzs ...</td>\n",
       "      <td>__label__ZzzQuil __label__TheProcter&amp;GambleCom...</td>\n",
       "    </tr>\n",
       "    <tr>\n",
       "      <th>220018</th>\n",
       "      <td>__label__ZzzQuil __label__TheProcter&amp;GambleCom...</td>\n",
       "      <td>Save $0.50 ONE ZzzQuil OR PURE Zzzs Product (e...</td>\n",
       "      <td>__label__ZzzQuil __label__TheProcter&amp;GambleCom...</td>\n",
       "    </tr>\n",
       "    <tr>\n",
       "      <th>220019</th>\n",
       "      <td>__label__ZzzQuil __label__TheProcter&amp;GambleCom...</td>\n",
       "      <td>Save $0.50 ONE ZzzQuil OR PURE Zzzs Product (e...</td>\n",
       "      <td>__label__ZzzQuil __label__TheProcter&amp;GambleCom...</td>\n",
       "    </tr>\n",
       "  </tbody>\n",
       "</table>\n",
       "<p>220020 rows × 3 columns</p>\n",
       "</div>"
      ],
      "text/plain": [
       "                                                   labels  \\\n",
       "0       __label__1800 __label__ProximoSpirits __label_...   \n",
       "1       __label__1800 __label__ProximoSpirits __label_...   \n",
       "2       __label__1924 __label__DelicatoFamilyVineyards...   \n",
       "3       __label__7UP __label__DRPEPPERSNAPPLEGROUP __l...   \n",
       "4       __label__9Elements __label__TheProcter&GambleC...   \n",
       "...                                                   ...   \n",
       "220015  __label__Zyrtec __label__Johnson&JohnsonInc. _...   \n",
       "220016  __label__ZzzQuil __label__TheProcter&GambleCom...   \n",
       "220017  __label__ZzzQuil __label__TheProcter&GambleCom...   \n",
       "220018  __label__ZzzQuil __label__TheProcter&GambleCom...   \n",
       "220019  __label__ZzzQuil __label__TheProcter&GambleCom...   \n",
       "\n",
       "                                             Offerdetails  \\\n",
       "0       $3.00 OFF | 1800 and Gran Centenario $3.00 OFF...   \n",
       "1       $4.00 OFF | 1800 Ultimate Margarita® $4.00 OFF...   \n",
       "2       $4.00 REBATE | 1924, Gnarly Head, Three Finger...   \n",
       "3       Save$1.00 on THREE (3) 12-pack cans of any fla...   \n",
       "4       Save $1.00 on 9 Elements Multi-Purpose or Bath...   \n",
       "...                                                   ...   \n",
       "220015  Save $10.00 on Adult ZYRTEC® product when you ...   \n",
       "220016  SAVE $0.50 ONE ZzzQuil OR PURE Zzzs Product (e...   \n",
       "220017  Save $0.50 | ZzzQuil ONE ZzzQuil OR PURE Zzzs ...   \n",
       "220018  Save $0.50 ONE ZzzQuil OR PURE Zzzs Product (e...   \n",
       "220019  Save $0.50 ONE ZzzQuil OR PURE Zzzs Product (e...   \n",
       "\n",
       "                                              SINGLE_LINE  \n",
       "0       __label__1800 __label__ProximoSpirits __label_...  \n",
       "1       __label__1800 __label__ProximoSpirits __label_...  \n",
       "2       __label__1924 __label__DelicatoFamilyVineyards...  \n",
       "3       __label__7UP __label__DRPEPPERSNAPPLEGROUP __l...  \n",
       "4       __label__9Elements __label__TheProcter&GambleC...  \n",
       "...                                                   ...  \n",
       "220015  __label__Zyrtec __label__Johnson&JohnsonInc. _...  \n",
       "220016  __label__ZzzQuil __label__TheProcter&GambleCom...  \n",
       "220017  __label__ZzzQuil __label__TheProcter&GambleCom...  \n",
       "220018  __label__ZzzQuil __label__TheProcter&GambleCom...  \n",
       "220019  __label__ZzzQuil __label__TheProcter&GambleCom...  \n",
       "\n",
       "[220020 rows x 3 columns]"
      ]
     },
     "execution_count": 4,
     "metadata": {},
     "output_type": "execute_result"
    }
   ],
   "source": [
    "import pandas as pd\n",
    "df = pd.read_csv(\"coupons_brand_manuf_retailer.csv\")\n",
    "df[\"SINGLE_LINE\"] = df[\"labels\"] + \"  \" + df[\"Offerdetails\"]\n",
    "df"
   ]
  },
  {
   "cell_type": "code",
   "execution_count": 6,
   "id": "35155dcc-45a6-414d-b36f-964647c052c5",
   "metadata": {
    "tags": []
   },
   "outputs": [],
   "source": [
    "df[\"SINGLE_LINE\"].to_csv(\"coupons_fast.txt\",index=False)"
   ]
  },
  {
   "cell_type": "markdown",
   "id": "baa45ebe-9490-4c2b-812a-8766130c6c1e",
   "metadata": {},
   "source": [
    "## FASTTEXT\n",
    "- `head -n 200000 coupons_fast.txt > coupons.train`\n",
    "- `tail -n 20026 coupons_fast.txt > coupons.valid`"
   ]
  },
  {
   "cell_type": "code",
   "execution_count": 10,
   "id": "f8838c4d-5ed9-4704-8827-602c32160210",
   "metadata": {
    "tags": []
   },
   "outputs": [
    {
     "name": "stderr",
     "output_type": "stream",
     "text": [
      "Read 3M words\n",
      "Number of words:  32021\n",
      "Number of labels: 9986\n",
      "Progress: 100.0% words/sec/thread:    5456 lr:  0.000000 avg.loss:  5.377494 ETA:   0h 0m 0s 0.095494 avg.loss:  9.360373 ETA:   0h18m51s 20.0% words/sec/thread:    5499 lr:  0.080035 avg.loss:  7.355526 ETA:   0h15m56s 31.6% words/sec/thread:    5484 lr:  0.068381 avg.loss:  6.758183 ETA:   0h13m39s 34.3% words/sec/thread:    5482 lr:  0.065675 avg.loss:  6.663774 ETA:   0h13m 7s 35.0% words/sec/thread:    5479 lr:  0.065022 avg.loss:  6.639154 ETA:   0h13m 0s 79.1% words/sec/thread:    5466 lr:  0.020931 avg.loss:  5.628849 ETA:   0h 4m11s 91.3% words/sec/thread:    5463 lr:  0.008742 avg.loss:  5.456506 ETA:   0h 1m45s 91.5% words/sec/thread:    5462 lr:  0.008492 avg.loss:  5.448903 ETA:   0h 1m42s\n"
     ]
    }
   ],
   "source": [
    "import fasttext\n",
    "model = fasttext.train_supervised(input='coupons.train')\n",
    "model.save_model(\"coupons.bin\")"
   ]
  },
  {
   "cell_type": "markdown",
   "id": "93975455-eacd-4501-a036-8f2eba1f7fc0",
   "metadata": {},
   "source": [
    "## Performance\n",
    "- If your feature offers the most user benefit for fewer false positives, consider optimizing\n",
    "for precision\n",
    "- If your feature offers the most user benefit for fewer false negatives, consider optimizing\n",
    "for recall.\n",
    "\n",
    "`Precision interpretation`: In the coupons case, if we found that a coupon belongs to a retailer and make a trip - it is time lost. So we need as few `false positives` as possible. \n",
    "`Recall interpretation`: Lets say K=5, and we get publix in 4th position (and in reality the coupon belonged to publix), we might ignore publix with k=5 - so this is a false negative.\n",
    "\n",
    "As we see precision and recall generally are at tug-of-war. **In coupons case, we need optimization for precision MORE than recall**"
   ]
  },
  {
   "cell_type": "code",
   "execution_count": 16,
   "id": "0c2aebc9-2cd9-45b6-8532-850b159f30da",
   "metadata": {
    "tags": []
   },
   "outputs": [
    {
     "data": {
      "text/plain": [
       "(20026, 0.8766603415559773, 0.2937406930245788)"
      ]
     },
     "execution_count": 16,
     "metadata": {},
     "output_type": "execute_result"
    }
   ],
   "source": [
    "import fasttext\n",
    "\n",
    "if not 'model' in locals():\n",
    "    model = fasttext.load_model(\"coupons.bin\")\n",
    "# Precision, Recall @k=1\n",
    "model.test(\"coupons.valid\")"
   ]
  },
  {
   "cell_type": "code",
   "execution_count": 17,
   "id": "e045e423-0b32-4494-9345-23131654eefc",
   "metadata": {
    "tags": []
   },
   "outputs": [
    {
     "data": {
      "text/plain": [
       "(20026, 0.4267552182163188, 0.7149597604028979)"
      ]
     },
     "execution_count": 17,
     "metadata": {},
     "output_type": "execute_result"
    }
   ],
   "source": [
    "import fasttext\n",
    "\n",
    "if not 'model' in locals():\n",
    "    model = fasttext.load_model(\"coupons.bin\")\n",
    "# Precision, Recall @k=5\n",
    "model.test(\"coupons.valid\", k=5)"
   ]
  },
  {
   "cell_type": "code",
   "execution_count": 3,
   "id": "2c634a6a-6f00-4cad-9b23-ac95f5dfa3b7",
   "metadata": {
    "tags": []
   },
   "outputs": [
    {
     "name": "stderr",
     "output_type": "stream",
     "text": [
      "Warning : `load_model` does not return WordVectorModel or SupervisedModel any more, but a `FastText` object which is very similar.\n"
     ]
    },
    {
     "data": {
      "text/plain": [
       "(20026, 0.6362562002729785, 0.639566985125571)"
      ]
     },
     "execution_count": 3,
     "metadata": {},
     "output_type": "execute_result"
    }
   ],
   "source": [
    "import fasttext\n",
    "\n",
    "if not 'model' in locals():\n",
    "    model = fasttext.load_model(\"coupons.bin\")# Precision, Recall @k=3\n",
    "model.test(\"coupons.valid\", k=3)"
   ]
  },
  {
   "cell_type": "code",
   "execution_count": 4,
   "id": "3233ca6b-bb06-463a-80ff-25538c86cb49",
   "metadata": {
    "tags": []
   },
   "outputs": [
    {
     "data": {
      "text/plain": [
       "(20026, 0.7399131129531609, 0.49584218716013856)"
      ]
     },
     "execution_count": 4,
     "metadata": {},
     "output_type": "execute_result"
    }
   ],
   "source": [
    "import fasttext\n",
    "\n",
    "if not 'model' in locals():\n",
    "    model = fasttext.load_model(\"coupons.bin\")# Precision, Recall @k=2\n",
    "model.test(\"coupons.valid\", k=2)"
   ]
  },
  {
   "cell_type": "code",
   "execution_count": 15,
   "id": "98442e37-72c7-4fa5-8cfa-6edb6b50153d",
   "metadata": {
    "tags": []
   },
   "outputs": [
    {
     "data": {
      "text/plain": [
       "(('__label__Publix',\n",
       "  '__label__StopAndShop',\n",
       "  '__label__FamilyDollar',\n",
       "  '__label__GlaxosmithklineConsumerHealthcare,Lp.',\n",
       "  '__label__Biotene'),\n",
       " array([0.3831206 , 0.06342689, 0.02612786, 0.02133347, 0.01969311]))"
      ]
     },
     "execution_count": 15,
     "metadata": {},
     "output_type": "execute_result"
    }
   ],
   "source": [
    "model.predict(\"Save $1.50 on any ONE (1) Rice Select® Product\",k=5)"
   ]
  },
  {
   "cell_type": "markdown",
   "id": "8455fa93-3f7f-4a47-b146-22b6932edf0d",
   "metadata": {},
   "source": [
    "## Using bigrams"
   ]
  },
  {
   "cell_type": "code",
   "execution_count": 2,
   "id": "46f6b175-dfa8-45f6-b3a0-69de100f04bc",
   "metadata": {
    "tags": []
   },
   "outputs": [
    {
     "name": "stderr",
     "output_type": "stream",
     "text": [
      "Read 3M words\n",
      "Number of words:  32021\n",
      "Number of labels: 9986\n",
      "Progress: 100.0% words/sec/thread:    5431 lr:  0.000000 avg.loss:  2.842814 ETA:   0h 0m 0s  9.3% words/sec/thread:    5435 lr:  0.907435 avg.loss:  5.232283 ETA:   1h31m26s 13.9% words/sec/thread:    5433 lr:  0.861474 avg.loss:  4.949106 ETA:   1h26m51s lr:  0.811459 avg.loss:  4.729567 ETA:   1h22m 8s 28.0% words/sec/thread:    5417 lr:  0.719814 avg.loss:  4.298777 ETA:   1h12m47s 36.7% words/sec/thread:    5422 lr:  0.633194 avg.loss:  4.040242 ETA:   1h 3m58s 48.3% words/sec/thread:    5427 lr:  0.516554 avg.loss:  3.691016 ETA:   0h52m 8s 57.9% words/sec/thread:    5429 lr:  0.420891 avg.loss:  3.498765 ETA:   0h42m27s ETA:   0h30m26s 73.7% words/sec/thread:    5431 lr:  0.263052 avg.loss:  3.242199 ETA:   0h26m31s% words/sec/thread:    5431 lr:  0.237628 avg.loss:  3.202802 ETA:   0h23m57s 89.8% words/sec/thread:    5430 lr:  0.101544 avg.loss:  3.002315 ETA:   0h10m14ss\n"
     ]
    }
   ],
   "source": [
    "import fasttext\n",
    "model_bigram = fasttext.train_supervised(input=\"coupons.train\", lr=1.0, epoch=25, wordNgrams=2, thread=3)\n",
    "model_bigram.save_model(\"coupons_bigram.bin\")"
   ]
  },
  {
   "cell_type": "code",
   "execution_count": 4,
   "id": "f58042c1-a53a-4a2d-8712-5e22565c44d2",
   "metadata": {
    "tags": []
   },
   "outputs": [
    {
     "data": {
      "text/plain": [
       "(('__label__Publix',\n",
       "  '__label__FamilyDollar',\n",
       "  '__label__StopAndShop',\n",
       "  '__label__FoodLion',\n",
       "  '__label__UNILEVER'),\n",
       " array([0.83732271, 0.06979061, 0.03113816, 0.00591142, 0.00197584]))"
      ]
     },
     "execution_count": 4,
     "metadata": {},
     "output_type": "execute_result"
    }
   ],
   "source": [
    "model_bigram.predict(\"Save $1.50 on any ONE (1) Rice Select® Product\",k=5)"
   ]
  },
  {
   "cell_type": "code",
   "execution_count": null,
   "id": "c1d3fb82-ee1e-4710-b7ec-49af44063fd4",
   "metadata": {},
   "outputs": [],
   "source": []
  }
 ],
 "metadata": {
  "kernelspec": {
   "display_name": "Python 3 (ipykernel)",
   "language": "python",
   "name": "python3"
  },
  "language_info": {
   "codemirror_mode": {
    "name": "ipython",
    "version": 3
   },
   "file_extension": ".py",
   "mimetype": "text/x-python",
   "name": "python",
   "nbconvert_exporter": "python",
   "pygments_lexer": "ipython3",
   "version": "3.10.12"
  }
 },
 "nbformat": 4,
 "nbformat_minor": 5
}
